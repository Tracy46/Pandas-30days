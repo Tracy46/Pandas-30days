{
 "cells": [
  {
   "cell_type": "code",
   "execution_count": 1,
   "id": "initial_id",
   "metadata": {
    "collapsed": true,
    "ExecuteTime": {
     "end_time": "2023-08-24T02:49:36.384597500Z",
     "start_time": "2023-08-24T02:49:30.030594400Z"
    }
   },
   "outputs": [],
   "source": [
    "import pandas as pd"
   ]
  },
  {
   "cell_type": "markdown",
   "source": [
    "## 1683. 无效的推文\n",
    "\n",
    "查询所有无效推文的编号（ID）。当推文内容中的字符数严格大于 15 时，该推文是无效的。\n",
    "以任意顺序返回结果表"
   ],
   "metadata": {
    "collapsed": false
   },
   "id": "768b1e7371c0c4ef"
  },
  {
   "cell_type": "code",
   "execution_count": 2,
   "outputs": [],
   "source": [
    "data = [[1, 'Vote for Biden'], [2, 'Let us make America great again!']]\n",
    "Tweets = pd.DataFrame(data, columns=['tweet_id', 'content']).astype({'tweet_id':'Int64', 'content':'object'})"
   ],
   "metadata": {
    "collapsed": false,
    "ExecuteTime": {
     "end_time": "2023-08-24T02:49:36.422375200Z",
     "start_time": "2023-08-24T02:49:36.384597500Z"
    }
   },
   "id": "e89d1a991b5ba554"
  },
  {
   "cell_type": "markdown",
   "source": [
    "在 content 列上应用 str.len() 方法。结果 is_valid 是一个布尔Series，其中表示每个推文是否有效（长度大于 15）"
   ],
   "metadata": {
    "collapsed": false
   },
   "id": "d341334462a2f09c"
  },
  {
   "cell_type": "code",
   "execution_count": 3,
   "outputs": [],
   "source": [
    "is_valid = Tweets['content'].str.len() > 15"
   ],
   "metadata": {
    "collapsed": false,
    "ExecuteTime": {
     "end_time": "2023-08-24T02:49:36.429356600Z",
     "start_time": "2023-08-24T02:49:36.414396Z"
    }
   },
   "id": "27b050c64921fa1a"
  },
  {
   "cell_type": "markdown",
   "source": [],
   "metadata": {
    "collapsed": false
   },
   "id": "a8201a9d4eff288c"
  },
  {
   "cell_type": "code",
   "execution_count": 4,
   "outputs": [
    {
     "name": "stdout",
     "output_type": "stream",
     "text": [
      "0    False\n",
      "1     True\n",
      "Name: content, dtype: bool\n"
     ]
    }
   ],
   "source": [
    "print(is_valid)"
   ],
   "metadata": {
    "collapsed": false,
    "ExecuteTime": {
     "end_time": "2023-08-24T02:49:36.444316Z",
     "start_time": "2023-08-24T02:49:36.429356600Z"
    }
   },
   "id": "95c6b4c06d346226"
  },
  {
   "cell_type": "code",
   "execution_count": 5,
   "outputs": [],
   "source": [
    "df = Tweets[is_valid]"
   ],
   "metadata": {
    "collapsed": false,
    "ExecuteTime": {
     "end_time": "2023-08-24T02:49:36.503178700Z",
     "start_time": "2023-08-24T02:49:36.445313200Z"
    }
   },
   "id": "f4ffa23870899ca9"
  },
  {
   "cell_type": "code",
   "execution_count": 6,
   "outputs": [
    {
     "data": {
      "text/plain": "   tweet_id                           content\n1         2  Let us make America great again!",
      "text/html": "<div>\n<style scoped>\n    .dataframe tbody tr th:only-of-type {\n        vertical-align: middle;\n    }\n\n    .dataframe tbody tr th {\n        vertical-align: top;\n    }\n\n    .dataframe thead th {\n        text-align: right;\n    }\n</style>\n<table border=\"1\" class=\"dataframe\">\n  <thead>\n    <tr style=\"text-align: right;\">\n      <th></th>\n      <th>tweet_id</th>\n      <th>content</th>\n    </tr>\n  </thead>\n  <tbody>\n    <tr>\n      <th>1</th>\n      <td>2</td>\n      <td>Let us make America great again!</td>\n    </tr>\n  </tbody>\n</table>\n</div>"
     },
     "execution_count": 6,
     "metadata": {},
     "output_type": "execute_result"
    }
   ],
   "source": [
    "df"
   ],
   "metadata": {
    "collapsed": false,
    "ExecuteTime": {
     "end_time": "2023-08-24T02:49:36.517121200Z",
     "start_time": "2023-08-24T02:49:36.460284800Z"
    }
   },
   "id": "a13cd90d3db77486"
  },
  {
   "cell_type": "code",
   "execution_count": 7,
   "outputs": [
    {
     "data": {
      "text/plain": "   tweet_id\n1         2",
      "text/html": "<div>\n<style scoped>\n    .dataframe tbody tr th:only-of-type {\n        vertical-align: middle;\n    }\n\n    .dataframe tbody tr th {\n        vertical-align: top;\n    }\n\n    .dataframe thead th {\n        text-align: right;\n    }\n</style>\n<table border=\"1\" class=\"dataframe\">\n  <thead>\n    <tr style=\"text-align: right;\">\n      <th></th>\n      <th>tweet_id</th>\n    </tr>\n  </thead>\n  <tbody>\n    <tr>\n      <th>1</th>\n      <td>2</td>\n    </tr>\n  </tbody>\n</table>\n</div>"
     },
     "execution_count": 7,
     "metadata": {},
     "output_type": "execute_result"
    }
   ],
   "source": [
    "df = df[['tweet_id']]\n",
    "df"
   ],
   "metadata": {
    "collapsed": false,
    "ExecuteTime": {
     "end_time": "2023-08-24T02:49:36.518118500Z",
     "start_time": "2023-08-24T02:49:36.491191700Z"
    }
   },
   "id": "3e4002797c90b347"
  },
  {
   "cell_type": "markdown",
   "source": [
    "## 1873. 计算特殊奖金\n",
    "\n",
    "编写解决方案，计算每个雇员的奖金。如果一个雇员的 id 是 奇数 并且他的名字不是以 'M' 开头，那么他的奖金是他资的 100% ，否则奖金为 0 。\n",
    "返回的结果按照 employee_id 排序。"
   ],
   "metadata": {
    "collapsed": false
   },
   "id": "c7b47750f7bd9f96"
  },
  {
   "cell_type": "code",
   "execution_count": 8,
   "outputs": [],
   "source": [
    "data = [[2, 'Meir', 3000], [3, 'Michael', 3800], [7, 'Addilyn', 7400], [8, 'Juan', 6100], [9, 'Kannon', 7700]]\n",
    "Employees = pd.DataFrame(data, columns=['employee_id', 'name', 'salary']).astype({'employee_id':'int64', 'name':'object', 'salary':'int64'})"
   ],
   "metadata": {
    "collapsed": false,
    "ExecuteTime": {
     "end_time": "2023-08-24T02:49:36.529089600Z",
     "start_time": "2023-08-24T02:49:36.509144400Z"
    }
   },
   "id": "a0c12865277ec454"
  },
  {
   "cell_type": "code",
   "execution_count": 9,
   "outputs": [],
   "source": [
    "employees = Employees"
   ],
   "metadata": {
    "collapsed": false,
    "ExecuteTime": {
     "end_time": "2023-08-24T02:49:36.565990300Z",
     "start_time": "2023-08-24T02:49:36.523106600Z"
    }
   },
   "id": "5ccc4251a5574b7b"
  },
  {
   "cell_type": "markdown",
   "source": [
    "bonus = salary if (id % 2 and not name.startwith('M')) else 0\n",
    "\n",
    "我们如何将此表达式应用于 DataFrame employee 的每一行？\n",
    "\n",
    "要完成此任务，我们可以使用循环逐一迭代 DataFrame 行。然而，Python 提供了一种更优雅且更高效的方法，称为\"向量化\"，它使用 apply() 方法。向量化利用 Pandas 中的底层优化，使我们能够一次对整个列或行应用操作，从而实现更快、更简洁的代码。\n",
    "\n",
    "在这种情况下，使用 apply() 允许我们避免编写显式循环，并更简洁地处理操作。通过定义一个自定义函数来根据条件计算奖金，并利用带有 axis=1 参数的 apply()，我们可以轻松处理每一行并计算相应的奖金。自定义函数如下所示：\n",
    "lambda x: x['salary'] if x['employee_id'] % 2 and not x['name'].startswith('M') else 0\n"
   ],
   "metadata": {
    "collapsed": false
   },
   "id": "c9609ae09f647c6d"
  },
  {
   "cell_type": "code",
   "execution_count": 10,
   "outputs": [],
   "source": [
    "employees['bonus'] = employees.apply(\n",
    "    lambda x: x['salary'] if x['employee_id'] % 2 and not x['name'].startswith('M') else 0,\n",
    "    axis=1\n",
    ")\n",
    "# axis = 1 ,循环处理每一行"
   ],
   "metadata": {
    "collapsed": false,
    "ExecuteTime": {
     "end_time": "2023-08-24T02:49:36.642385200Z",
     "start_time": "2023-08-24T02:49:36.540062100Z"
    }
   },
   "id": "275da65fe5dc553d"
  },
  {
   "cell_type": "code",
   "execution_count": 11,
   "outputs": [
    {
     "data": {
      "text/plain": "   employee_id  bonus\n0            2      0\n1            3      0\n2            7   7400\n3            8      0\n4            9   7700",
      "text/html": "<div>\n<style scoped>\n    .dataframe tbody tr th:only-of-type {\n        vertical-align: middle;\n    }\n\n    .dataframe tbody tr th {\n        vertical-align: top;\n    }\n\n    .dataframe thead th {\n        text-align: right;\n    }\n</style>\n<table border=\"1\" class=\"dataframe\">\n  <thead>\n    <tr style=\"text-align: right;\">\n      <th></th>\n      <th>employee_id</th>\n      <th>bonus</th>\n    </tr>\n  </thead>\n  <tbody>\n    <tr>\n      <th>0</th>\n      <td>2</td>\n      <td>0</td>\n    </tr>\n    <tr>\n      <th>1</th>\n      <td>3</td>\n      <td>0</td>\n    </tr>\n    <tr>\n      <th>2</th>\n      <td>7</td>\n      <td>7400</td>\n    </tr>\n    <tr>\n      <th>3</th>\n      <td>8</td>\n      <td>0</td>\n    </tr>\n    <tr>\n      <th>4</th>\n      <td>9</td>\n      <td>7700</td>\n    </tr>\n  </tbody>\n</table>\n</div>"
     },
     "execution_count": 11,
     "metadata": {},
     "output_type": "execute_result"
    }
   ],
   "source": [
    "df = employees[['employee_id','bonus']].sort_values('employee_id')\n",
    "df"
   ],
   "metadata": {
    "collapsed": false,
    "ExecuteTime": {
     "end_time": "2023-08-24T02:49:36.652359200Z",
     "start_time": "2023-08-24T02:49:36.554024800Z"
    }
   },
   "id": "918558d41bfed5da"
  },
  {
   "cell_type": "markdown",
   "source": [
    "## 1667. 修复表中的名字\n",
    "\n",
    "编写解决方案，修复名字，使得只有第一个字符是大写的，其余都是小写的。\n",
    "返回按 user_id 排序的结果表"
   ],
   "metadata": {
    "collapsed": false
   },
   "id": "afc1bab63e2486ca"
  },
  {
   "cell_type": "code",
   "execution_count": 12,
   "outputs": [],
   "source": [
    "data = [[1, 'aLice'], [2, 'bOB']]\n",
    "Users = pd.DataFrame(data, columns=['user_id', 'name']).astype({'user_id':'Int64', 'name':'object'})"
   ],
   "metadata": {
    "collapsed": false,
    "ExecuteTime": {
     "end_time": "2023-08-24T02:50:41.042000800Z",
     "start_time": "2023-08-24T02:50:41.004102300Z"
    }
   },
   "id": "9ff8dfe6b4b24c66"
  },
  {
   "cell_type": "markdown",
   "source": [
    "使用 str 访问器中的 .title() 方法，而不是手动分隔第一个字符并将其大写，而将其余字符小写"
   ],
   "metadata": {
    "collapsed": false
   },
   "id": "8d307cfe9f338d98"
  },
  {
   "cell_type": "code",
   "execution_count": 13,
   "outputs": [
    {
     "data": {
      "text/plain": "   user_id   name\n0        1  Alice\n1        2    Bob",
      "text/html": "<div>\n<style scoped>\n    .dataframe tbody tr th:only-of-type {\n        vertical-align: middle;\n    }\n\n    .dataframe tbody tr th {\n        vertical-align: top;\n    }\n\n    .dataframe thead th {\n        text-align: right;\n    }\n</style>\n<table border=\"1\" class=\"dataframe\">\n  <thead>\n    <tr style=\"text-align: right;\">\n      <th></th>\n      <th>user_id</th>\n      <th>name</th>\n    </tr>\n  </thead>\n  <tbody>\n    <tr>\n      <th>0</th>\n      <td>1</td>\n      <td>Alice</td>\n    </tr>\n    <tr>\n      <th>1</th>\n      <td>2</td>\n      <td>Bob</td>\n    </tr>\n  </tbody>\n</table>\n</div>"
     },
     "execution_count": 13,
     "metadata": {},
     "output_type": "execute_result"
    }
   ],
   "source": [
    "Users[\"name\"] = Users[\"name\"].str.title()\n",
    "Users"
   ],
   "metadata": {
    "collapsed": false,
    "ExecuteTime": {
     "end_time": "2023-08-24T03:01:45.056882300Z",
     "start_time": "2023-08-24T03:01:45.024967800Z"
    }
   },
   "id": "3a95dd4cd3c17a8f"
  },
  {
   "cell_type": "markdown",
   "source": [
    "## 1517. 查找拥有有效邮箱的用户\n",
    "\n",
    "编写一个解决方案，以查找具有有效电子邮件的用户。\n",
    "一个有效的电子邮件具有前缀名称和域，其中：\n",
    "前缀 名称是一个字符串，可以包含字母（大写或小写），数字，下划线 '_' ，点 '.' 和/或破折号 '-' 。前缀名称 必须 以字母开头。\n",
    "域 为 '@leetcode.com' 。\n",
    "以任何顺序返回结果表。"
   ],
   "metadata": {
    "collapsed": false
   },
   "id": "19559f5e1ae7fb58"
  },
  {
   "cell_type": "code",
   "execution_count": 14,
   "outputs": [],
   "source": [
    "data = [[1, 'Winston', 'winston@leetcode.com'], [2, 'Jonathan', 'jonathanisgreat'], [3, 'Annabelle', 'bella-@leetcode.com'], [4, 'Sally', 'sally.come@leetcode.com'], [5, 'Marwan', 'quarz#2020@leetcode.com'], [6, 'David', 'david69@gmail.com'], [7, 'Shapiro', '.shapo@leetcode.com']]\n",
    "Users = pd.DataFrame(data, columns=['user_id', 'name', 'mail']).astype({'user_id':'int64', 'name':'object', 'mail':'object'})"
   ],
   "metadata": {
    "collapsed": false,
    "ExecuteTime": {
     "end_time": "2023-08-24T03:07:58.215620500Z",
     "start_time": "2023-08-24T03:07:58.183705600Z"
    }
   },
   "id": "252abe4668d099a4"
  },
  {
   "cell_type": "code",
   "execution_count": 15,
   "outputs": [
    {
     "data": {
      "text/plain": "   user_id       name                     mail\n0        1    Winston     winston@leetcode.com\n2        3  Annabelle      bella-@leetcode.com\n3        4      Sally  sally.come@leetcode.com",
      "text/html": "<div>\n<style scoped>\n    .dataframe tbody tr th:only-of-type {\n        vertical-align: middle;\n    }\n\n    .dataframe tbody tr th {\n        vertical-align: top;\n    }\n\n    .dataframe thead th {\n        text-align: right;\n    }\n</style>\n<table border=\"1\" class=\"dataframe\">\n  <thead>\n    <tr style=\"text-align: right;\">\n      <th></th>\n      <th>user_id</th>\n      <th>name</th>\n      <th>mail</th>\n    </tr>\n  </thead>\n  <tbody>\n    <tr>\n      <th>0</th>\n      <td>1</td>\n      <td>Winston</td>\n      <td>winston@leetcode.com</td>\n    </tr>\n    <tr>\n      <th>2</th>\n      <td>3</td>\n      <td>Annabelle</td>\n      <td>bella-@leetcode.com</td>\n    </tr>\n    <tr>\n      <th>3</th>\n      <td>4</td>\n      <td>Sally</td>\n      <td>sally.come@leetcode.com</td>\n    </tr>\n  </tbody>\n</table>\n</div>"
     },
     "execution_count": 15,
     "metadata": {},
     "output_type": "execute_result"
    }
   ],
   "source": [
    "Users = Users[Users[\"mail\"].str.match(r\"^[a-zA-Z][a-zA-Z0-9_.-]*\\@leetcode\\.com$\")]\n",
    "Users"
   ],
   "metadata": {
    "collapsed": false,
    "ExecuteTime": {
     "end_time": "2023-08-24T03:08:37.111473800Z",
     "start_time": "2023-08-24T03:08:37.081555400Z"
    }
   },
   "id": "99447d4fa3a405c"
  },
  {
   "cell_type": "markdown",
   "source": [
    "## 1527. 患某种疾病的患者\n",
    "查询患有 I 类糖尿病的患者 ID （patient_id）、患者姓名（patient_name）以及其患有的所有疾病代码（conditions）。I 类糖尿病的代码总是包含前缀 DIAB1 。\n",
    "\n",
    "按 任意顺序 返回结果表。"
   ],
   "metadata": {
    "collapsed": false
   },
   "id": "e4dcdb623399dbc"
  },
  {
   "cell_type": "code",
   "execution_count": 16,
   "outputs": [],
   "source": [
    "data = [[1, 'Daniel', 'YFEV COUGH'], [2, 'Alice', ''], [3, 'Bob', 'DIAB100 MYOP'], [4, 'George', 'ACNE DIAB100'], [5, 'Alain', 'DIAB201']]\n",
    "Patients = pd.DataFrame(data, columns=['patient_id', 'patient_name', 'conditions']).astype({'patient_id':'int64', 'patient_name':'object', 'conditions':'object'})"
   ],
   "metadata": {
    "collapsed": false,
    "ExecuteTime": {
     "end_time": "2023-08-24T03:11:42.515896600Z",
     "start_time": "2023-08-24T03:11:42.490960900Z"
    }
   },
   "id": "e976259d2aa02994"
  },
  {
   "cell_type": "markdown",
   "source": [
    "正则表达式"
   ],
   "metadata": {
    "collapsed": false
   },
   "id": "da5d7202d0b4aafc"
  },
  {
   "cell_type": "code",
   "execution_count": 18,
   "outputs": [
    {
     "data": {
      "text/plain": "   patient_id patient_name    conditions\n2           3          Bob  DIAB100 MYOP\n3           4       George  ACNE DIAB100",
      "text/html": "<div>\n<style scoped>\n    .dataframe tbody tr th:only-of-type {\n        vertical-align: middle;\n    }\n\n    .dataframe tbody tr th {\n        vertical-align: top;\n    }\n\n    .dataframe thead th {\n        text-align: right;\n    }\n</style>\n<table border=\"1\" class=\"dataframe\">\n  <thead>\n    <tr style=\"text-align: right;\">\n      <th></th>\n      <th>patient_id</th>\n      <th>patient_name</th>\n      <th>conditions</th>\n    </tr>\n  </thead>\n  <tbody>\n    <tr>\n      <th>2</th>\n      <td>3</td>\n      <td>Bob</td>\n      <td>DIAB100 MYOP</td>\n    </tr>\n    <tr>\n      <th>3</th>\n      <td>4</td>\n      <td>George</td>\n      <td>ACNE DIAB100</td>\n    </tr>\n  </tbody>\n</table>\n</div>"
     },
     "execution_count": 18,
     "metadata": {},
     "output_type": "execute_result"
    }
   ],
   "source": [
    "Patients = Patients[Patients[\"conditions\"].str.contains(r\"\\bDIAB1\", regex=True)]\n",
    "Patients"
   ],
   "metadata": {
    "collapsed": false,
    "ExecuteTime": {
     "end_time": "2023-08-24T03:13:18.100488400Z",
     "start_time": "2023-08-24T03:13:18.078547600Z"
    }
   },
   "id": "fc16d6330d9f624e"
  },
  {
   "cell_type": "markdown",
   "source": [],
   "metadata": {
    "collapsed": false
   },
   "id": "e67645b8ba7a8454"
  },
  {
   "cell_type": "code",
   "execution_count": null,
   "outputs": [],
   "source": [],
   "metadata": {
    "collapsed": false
   },
   "id": "f0380fdf26999a83"
  }
 ],
 "metadata": {
  "kernelspec": {
   "name": "data_analysis_project",
   "language": "python",
   "display_name": "data_analysis_project"
  },
  "language_info": {
   "codemirror_mode": {
    "name": "ipython",
    "version": 2
   },
   "file_extension": ".py",
   "mimetype": "text/x-python",
   "name": "python",
   "nbconvert_exporter": "python",
   "pygments_lexer": "ipython2",
   "version": "2.7.6"
  }
 },
 "nbformat": 4,
 "nbformat_minor": 5
}
