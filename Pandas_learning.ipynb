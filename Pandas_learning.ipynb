{
 "cells": [
  {
   "cell_type": "code",
   "execution_count": 1,
   "id": "initial_id",
   "metadata": {
    "collapsed": true,
    "ExecuteTime": {
     "end_time": "2023-08-31T07:38:35.489769200Z",
     "start_time": "2023-08-31T07:38:28.463984Z"
    }
   },
   "outputs": [],
   "source": [
    "import pandas as pd"
   ]
  },
  {
   "cell_type": "markdown",
   "source": [
    "## 1683. 无效的推文\n",
    "\n",
    "查询所有无效推文的编号（ID）。当推文内容中的字符数严格大于 15 时，该推文是无效的。\n",
    "以任意顺序返回结果表"
   ],
   "metadata": {
    "collapsed": false
   },
   "id": "768b1e7371c0c4ef"
  },
  {
   "cell_type": "code",
   "execution_count": 2,
   "outputs": [],
   "source": [
    "data = [[1, 'Vote for Biden'], [2, 'Let us make America great again!']]\n",
    "Tweets = pd.DataFrame(data, columns=['tweet_id', 'content']).astype({'tweet_id':'Int64', 'content':'object'})"
   ],
   "metadata": {
    "collapsed": false,
    "ExecuteTime": {
     "end_time": "2023-08-24T02:49:36.422375200Z",
     "start_time": "2023-08-24T02:49:36.384597500Z"
    }
   },
   "id": "e89d1a991b5ba554"
  },
  {
   "cell_type": "markdown",
   "source": [
    "在 content 列上应用 str.len() 方法。结果 is_valid 是一个布尔Series，其中表示每个推文是否有效（长度大于 15）"
   ],
   "metadata": {
    "collapsed": false
   },
   "id": "d341334462a2f09c"
  },
  {
   "cell_type": "code",
   "execution_count": 3,
   "outputs": [],
   "source": [
    "is_valid = Tweets['content'].str.len() > 15"
   ],
   "metadata": {
    "collapsed": false,
    "ExecuteTime": {
     "end_time": "2023-08-24T02:49:36.429356600Z",
     "start_time": "2023-08-24T02:49:36.414396Z"
    }
   },
   "id": "27b050c64921fa1a"
  },
  {
   "cell_type": "markdown",
   "source": [],
   "metadata": {
    "collapsed": false
   },
   "id": "a8201a9d4eff288c"
  },
  {
   "cell_type": "code",
   "execution_count": 4,
   "outputs": [
    {
     "name": "stdout",
     "output_type": "stream",
     "text": [
      "0    False\n",
      "1     True\n",
      "Name: content, dtype: bool\n"
     ]
    }
   ],
   "source": [
    "print(is_valid)"
   ],
   "metadata": {
    "collapsed": false,
    "ExecuteTime": {
     "end_time": "2023-08-24T02:49:36.444316Z",
     "start_time": "2023-08-24T02:49:36.429356600Z"
    }
   },
   "id": "95c6b4c06d346226"
  },
  {
   "cell_type": "code",
   "execution_count": 5,
   "outputs": [],
   "source": [
    "df = Tweets[is_valid]"
   ],
   "metadata": {
    "collapsed": false,
    "ExecuteTime": {
     "end_time": "2023-08-24T02:49:36.503178700Z",
     "start_time": "2023-08-24T02:49:36.445313200Z"
    }
   },
   "id": "f4ffa23870899ca9"
  },
  {
   "cell_type": "code",
   "execution_count": 6,
   "outputs": [
    {
     "data": {
      "text/plain": "   tweet_id                           content\n1         2  Let us make America great again!",
      "text/html": "<div>\n<style scoped>\n    .dataframe tbody tr th:only-of-type {\n        vertical-align: middle;\n    }\n\n    .dataframe tbody tr th {\n        vertical-align: top;\n    }\n\n    .dataframe thead th {\n        text-align: right;\n    }\n</style>\n<table border=\"1\" class=\"dataframe\">\n  <thead>\n    <tr style=\"text-align: right;\">\n      <th></th>\n      <th>tweet_id</th>\n      <th>content</th>\n    </tr>\n  </thead>\n  <tbody>\n    <tr>\n      <th>1</th>\n      <td>2</td>\n      <td>Let us make America great again!</td>\n    </tr>\n  </tbody>\n</table>\n</div>"
     },
     "execution_count": 6,
     "metadata": {},
     "output_type": "execute_result"
    }
   ],
   "source": [
    "df"
   ],
   "metadata": {
    "collapsed": false,
    "ExecuteTime": {
     "end_time": "2023-08-24T02:49:36.517121200Z",
     "start_time": "2023-08-24T02:49:36.460284800Z"
    }
   },
   "id": "a13cd90d3db77486"
  },
  {
   "cell_type": "code",
   "execution_count": 7,
   "outputs": [
    {
     "data": {
      "text/plain": "   tweet_id\n1         2",
      "text/html": "<div>\n<style scoped>\n    .dataframe tbody tr th:only-of-type {\n        vertical-align: middle;\n    }\n\n    .dataframe tbody tr th {\n        vertical-align: top;\n    }\n\n    .dataframe thead th {\n        text-align: right;\n    }\n</style>\n<table border=\"1\" class=\"dataframe\">\n  <thead>\n    <tr style=\"text-align: right;\">\n      <th></th>\n      <th>tweet_id</th>\n    </tr>\n  </thead>\n  <tbody>\n    <tr>\n      <th>1</th>\n      <td>2</td>\n    </tr>\n  </tbody>\n</table>\n</div>"
     },
     "execution_count": 7,
     "metadata": {},
     "output_type": "execute_result"
    }
   ],
   "source": [
    "df = df[['tweet_id']]\n",
    "df"
   ],
   "metadata": {
    "collapsed": false,
    "ExecuteTime": {
     "end_time": "2023-08-24T02:49:36.518118500Z",
     "start_time": "2023-08-24T02:49:36.491191700Z"
    }
   },
   "id": "3e4002797c90b347"
  },
  {
   "cell_type": "markdown",
   "source": [
    "## 1873. 计算特殊奖金\n",
    "\n",
    "编写解决方案，计算每个雇员的奖金。如果一个雇员的 id 是 奇数 并且他的名字不是以 'M' 开头，那么他的奖金是他资的 100% ，否则奖金为 0 。\n",
    "返回的结果按照 employee_id 排序。"
   ],
   "metadata": {
    "collapsed": false
   },
   "id": "c7b47750f7bd9f96"
  },
  {
   "cell_type": "code",
   "execution_count": 8,
   "outputs": [],
   "source": [
    "data = [[2, 'Meir', 3000], [3, 'Michael', 3800], [7, 'Addilyn', 7400], [8, 'Juan', 6100], [9, 'Kannon', 7700]]\n",
    "Employees = pd.DataFrame(data, columns=['employee_id', 'name', 'salary']).astype({'employee_id':'int64', 'name':'object', 'salary':'int64'})"
   ],
   "metadata": {
    "collapsed": false,
    "ExecuteTime": {
     "end_time": "2023-08-24T02:49:36.529089600Z",
     "start_time": "2023-08-24T02:49:36.509144400Z"
    }
   },
   "id": "a0c12865277ec454"
  },
  {
   "cell_type": "code",
   "execution_count": 9,
   "outputs": [],
   "source": [
    "employees = Employees"
   ],
   "metadata": {
    "collapsed": false,
    "ExecuteTime": {
     "end_time": "2023-08-24T02:49:36.565990300Z",
     "start_time": "2023-08-24T02:49:36.523106600Z"
    }
   },
   "id": "5ccc4251a5574b7b"
  },
  {
   "cell_type": "markdown",
   "source": [
    "bonus = salary if (id % 2 and not name.startwith('M')) else 0\n",
    "\n",
    "我们如何将此表达式应用于 DataFrame employee 的每一行？\n",
    "\n",
    "要完成此任务，我们可以使用循环逐一迭代 DataFrame 行。然而，Python 提供了一种更优雅且更高效的方法，称为\"向量化\"，它使用 apply() 方法。向量化利用 Pandas 中的底层优化，使我们能够一次对整个列或行应用操作，从而实现更快、更简洁的代码。\n",
    "\n",
    "在这种情况下，使用 apply() 允许我们避免编写显式循环，并更简洁地处理操作。通过定义一个自定义函数来根据条件计算奖金，并利用带有 axis=1 参数的 apply()，我们可以轻松处理每一行并计算相应的奖金。自定义函数如下所示：\n",
    "lambda x: x['salary'] if x['employee_id'] % 2 and not x['name'].startswith('M') else 0\n"
   ],
   "metadata": {
    "collapsed": false
   },
   "id": "c9609ae09f647c6d"
  },
  {
   "cell_type": "code",
   "execution_count": 10,
   "outputs": [],
   "source": [
    "employees['bonus'] = employees.apply(\n",
    "    lambda x: x['salary'] if x['employee_id'] % 2 and not x['name'].startswith('M') else 0,\n",
    "    axis=1\n",
    ")\n",
    "# axis = 1 ,循环处理每一行"
   ],
   "metadata": {
    "collapsed": false,
    "ExecuteTime": {
     "end_time": "2023-08-24T02:49:36.642385200Z",
     "start_time": "2023-08-24T02:49:36.540062100Z"
    }
   },
   "id": "275da65fe5dc553d"
  },
  {
   "cell_type": "code",
   "execution_count": 11,
   "outputs": [
    {
     "data": {
      "text/plain": "   employee_id  bonus\n0            2      0\n1            3      0\n2            7   7400\n3            8      0\n4            9   7700",
      "text/html": "<div>\n<style scoped>\n    .dataframe tbody tr th:only-of-type {\n        vertical-align: middle;\n    }\n\n    .dataframe tbody tr th {\n        vertical-align: top;\n    }\n\n    .dataframe thead th {\n        text-align: right;\n    }\n</style>\n<table border=\"1\" class=\"dataframe\">\n  <thead>\n    <tr style=\"text-align: right;\">\n      <th></th>\n      <th>employee_id</th>\n      <th>bonus</th>\n    </tr>\n  </thead>\n  <tbody>\n    <tr>\n      <th>0</th>\n      <td>2</td>\n      <td>0</td>\n    </tr>\n    <tr>\n      <th>1</th>\n      <td>3</td>\n      <td>0</td>\n    </tr>\n    <tr>\n      <th>2</th>\n      <td>7</td>\n      <td>7400</td>\n    </tr>\n    <tr>\n      <th>3</th>\n      <td>8</td>\n      <td>0</td>\n    </tr>\n    <tr>\n      <th>4</th>\n      <td>9</td>\n      <td>7700</td>\n    </tr>\n  </tbody>\n</table>\n</div>"
     },
     "execution_count": 11,
     "metadata": {},
     "output_type": "execute_result"
    }
   ],
   "source": [
    "df = employees[['employee_id','bonus']].sort_values('employee_id')\n",
    "df"
   ],
   "metadata": {
    "collapsed": false,
    "ExecuteTime": {
     "end_time": "2023-08-24T02:49:36.652359200Z",
     "start_time": "2023-08-24T02:49:36.554024800Z"
    }
   },
   "id": "918558d41bfed5da"
  },
  {
   "cell_type": "markdown",
   "source": [
    "## 1667. 修复表中的名字\n",
    "\n",
    "编写解决方案，修复名字，使得只有第一个字符是大写的，其余都是小写的。\n",
    "返回按 user_id 排序的结果表"
   ],
   "metadata": {
    "collapsed": false
   },
   "id": "afc1bab63e2486ca"
  },
  {
   "cell_type": "code",
   "execution_count": 12,
   "outputs": [],
   "source": [
    "data = [[1, 'aLice'], [2, 'bOB']]\n",
    "Users = pd.DataFrame(data, columns=['user_id', 'name']).astype({'user_id':'Int64', 'name':'object'})"
   ],
   "metadata": {
    "collapsed": false,
    "ExecuteTime": {
     "end_time": "2023-08-24T02:50:41.042000800Z",
     "start_time": "2023-08-24T02:50:41.004102300Z"
    }
   },
   "id": "9ff8dfe6b4b24c66"
  },
  {
   "cell_type": "markdown",
   "source": [
    "使用 str 访问器中的 .title() 方法，而不是手动分隔第一个字符并将其大写，而将其余字符小写"
   ],
   "metadata": {
    "collapsed": false
   },
   "id": "8d307cfe9f338d98"
  },
  {
   "cell_type": "code",
   "execution_count": 13,
   "outputs": [
    {
     "data": {
      "text/plain": "   user_id   name\n0        1  Alice\n1        2    Bob",
      "text/html": "<div>\n<style scoped>\n    .dataframe tbody tr th:only-of-type {\n        vertical-align: middle;\n    }\n\n    .dataframe tbody tr th {\n        vertical-align: top;\n    }\n\n    .dataframe thead th {\n        text-align: right;\n    }\n</style>\n<table border=\"1\" class=\"dataframe\">\n  <thead>\n    <tr style=\"text-align: right;\">\n      <th></th>\n      <th>user_id</th>\n      <th>name</th>\n    </tr>\n  </thead>\n  <tbody>\n    <tr>\n      <th>0</th>\n      <td>1</td>\n      <td>Alice</td>\n    </tr>\n    <tr>\n      <th>1</th>\n      <td>2</td>\n      <td>Bob</td>\n    </tr>\n  </tbody>\n</table>\n</div>"
     },
     "execution_count": 13,
     "metadata": {},
     "output_type": "execute_result"
    }
   ],
   "source": [
    "Users[\"name\"] = Users[\"name\"].str.title()\n",
    "Users"
   ],
   "metadata": {
    "collapsed": false,
    "ExecuteTime": {
     "end_time": "2023-08-24T03:01:45.056882300Z",
     "start_time": "2023-08-24T03:01:45.024967800Z"
    }
   },
   "id": "3a95dd4cd3c17a8f"
  },
  {
   "cell_type": "markdown",
   "source": [
    "## 1517. 查找拥有有效邮箱的用户\n",
    "\n",
    "编写一个解决方案，以查找具有有效电子邮件的用户。\n",
    "一个有效的电子邮件具有前缀名称和域，其中：\n",
    "前缀 名称是一个字符串，可以包含字母（大写或小写），数字，下划线 '_' ，点 '.' 和/或破折号 '-' 。前缀名称 必须 以字母开头。\n",
    "域 为 '@leetcode.com' 。\n",
    "以任何顺序返回结果表。"
   ],
   "metadata": {
    "collapsed": false
   },
   "id": "19559f5e1ae7fb58"
  },
  {
   "cell_type": "code",
   "execution_count": 14,
   "outputs": [],
   "source": [
    "data = [[1, 'Winston', 'winston@leetcode.com'], [2, 'Jonathan', 'jonathanisgreat'], [3, 'Annabelle', 'bella-@leetcode.com'], [4, 'Sally', 'sally.come@leetcode.com'], [5, 'Marwan', 'quarz#2020@leetcode.com'], [6, 'David', 'david69@gmail.com'], [7, 'Shapiro', '.shapo@leetcode.com']]\n",
    "Users = pd.DataFrame(data, columns=['user_id', 'name', 'mail']).astype({'user_id':'int64', 'name':'object', 'mail':'object'})"
   ],
   "metadata": {
    "collapsed": false,
    "ExecuteTime": {
     "end_time": "2023-08-24T03:07:58.215620500Z",
     "start_time": "2023-08-24T03:07:58.183705600Z"
    }
   },
   "id": "252abe4668d099a4"
  },
  {
   "cell_type": "code",
   "execution_count": 15,
   "outputs": [
    {
     "data": {
      "text/plain": "   user_id       name                     mail\n0        1    Winston     winston@leetcode.com\n2        3  Annabelle      bella-@leetcode.com\n3        4      Sally  sally.come@leetcode.com",
      "text/html": "<div>\n<style scoped>\n    .dataframe tbody tr th:only-of-type {\n        vertical-align: middle;\n    }\n\n    .dataframe tbody tr th {\n        vertical-align: top;\n    }\n\n    .dataframe thead th {\n        text-align: right;\n    }\n</style>\n<table border=\"1\" class=\"dataframe\">\n  <thead>\n    <tr style=\"text-align: right;\">\n      <th></th>\n      <th>user_id</th>\n      <th>name</th>\n      <th>mail</th>\n    </tr>\n  </thead>\n  <tbody>\n    <tr>\n      <th>0</th>\n      <td>1</td>\n      <td>Winston</td>\n      <td>winston@leetcode.com</td>\n    </tr>\n    <tr>\n      <th>2</th>\n      <td>3</td>\n      <td>Annabelle</td>\n      <td>bella-@leetcode.com</td>\n    </tr>\n    <tr>\n      <th>3</th>\n      <td>4</td>\n      <td>Sally</td>\n      <td>sally.come@leetcode.com</td>\n    </tr>\n  </tbody>\n</table>\n</div>"
     },
     "execution_count": 15,
     "metadata": {},
     "output_type": "execute_result"
    }
   ],
   "source": [
    "Users = Users[Users[\"mail\"].str.match(r\"^[a-zA-Z][a-zA-Z0-9_.-]*\\@leetcode\\.com$\")]\n",
    "Users"
   ],
   "metadata": {
    "collapsed": false,
    "ExecuteTime": {
     "end_time": "2023-08-24T03:08:37.111473800Z",
     "start_time": "2023-08-24T03:08:37.081555400Z"
    }
   },
   "id": "99447d4fa3a405c"
  },
  {
   "cell_type": "markdown",
   "source": [
    "## 1527. 患某种疾病的患者\n",
    "查询患有 I 类糖尿病的患者 ID （patient_id）、患者姓名（patient_name）以及其患有的所有疾病代码（conditions）。I 类糖尿病的代码总是包含前缀 DIAB1 。\n",
    "\n",
    "按 任意顺序 返回结果表。"
   ],
   "metadata": {
    "collapsed": false
   },
   "id": "e4dcdb623399dbc"
  },
  {
   "cell_type": "code",
   "execution_count": 16,
   "outputs": [],
   "source": [
    "data = [[1, 'Daniel', 'YFEV COUGH'], [2, 'Alice', ''], [3, 'Bob', 'DIAB100 MYOP'], [4, 'George', 'ACNE DIAB100'], [5, 'Alain', 'DIAB201']]\n",
    "Patients = pd.DataFrame(data, columns=['patient_id', 'patient_name', 'conditions']).astype({'patient_id':'int64', 'patient_name':'object', 'conditions':'object'})"
   ],
   "metadata": {
    "collapsed": false,
    "ExecuteTime": {
     "end_time": "2023-08-24T03:11:42.515896600Z",
     "start_time": "2023-08-24T03:11:42.490960900Z"
    }
   },
   "id": "e976259d2aa02994"
  },
  {
   "cell_type": "markdown",
   "source": [
    "正则表达式"
   ],
   "metadata": {
    "collapsed": false
   },
   "id": "da5d7202d0b4aafc"
  },
  {
   "cell_type": "code",
   "execution_count": 18,
   "outputs": [
    {
     "data": {
      "text/plain": "   patient_id patient_name    conditions\n2           3          Bob  DIAB100 MYOP\n3           4       George  ACNE DIAB100",
      "text/html": "<div>\n<style scoped>\n    .dataframe tbody tr th:only-of-type {\n        vertical-align: middle;\n    }\n\n    .dataframe tbody tr th {\n        vertical-align: top;\n    }\n\n    .dataframe thead th {\n        text-align: right;\n    }\n</style>\n<table border=\"1\" class=\"dataframe\">\n  <thead>\n    <tr style=\"text-align: right;\">\n      <th></th>\n      <th>patient_id</th>\n      <th>patient_name</th>\n      <th>conditions</th>\n    </tr>\n  </thead>\n  <tbody>\n    <tr>\n      <th>2</th>\n      <td>3</td>\n      <td>Bob</td>\n      <td>DIAB100 MYOP</td>\n    </tr>\n    <tr>\n      <th>3</th>\n      <td>4</td>\n      <td>George</td>\n      <td>ACNE DIAB100</td>\n    </tr>\n  </tbody>\n</table>\n</div>"
     },
     "execution_count": 18,
     "metadata": {},
     "output_type": "execute_result"
    }
   ],
   "source": [
    "Patients = Patients[Patients[\"conditions\"].str.contains(r\"\\bDIAB1\", regex=True)]\n",
    "Patients"
   ],
   "metadata": {
    "collapsed": false,
    "ExecuteTime": {
     "end_time": "2023-08-24T03:13:18.100488400Z",
     "start_time": "2023-08-24T03:13:18.078547600Z"
    }
   },
   "id": "fc16d6330d9f624e"
  },
  {
   "cell_type": "markdown",
   "source": [
    "## 177. 第N高的薪水\n",
    "查询 Employee 表中第 n 高的工资。如果没有第 n 个最高工资，查询结果应该为 null 。"
   ],
   "metadata": {
    "collapsed": false
   },
   "id": "f9e03dd992ab11b4"
  },
  {
   "cell_type": "code",
   "execution_count": 3,
   "outputs": [],
   "source": [
    "data = [[1, 100], [2, 200], [3, 300], [4, 500], [5, 500]]\n",
    "employee = pd.DataFrame(data, columns=['id', 'salary']).astype({'id':'int64', 'salary':'int64'})"
   ],
   "metadata": {
    "collapsed": false,
    "ExecuteTime": {
     "end_time": "2023-08-24T08:00:09.024880300Z",
     "start_time": "2023-08-24T08:00:08.988972Z"
    }
   },
   "id": "f0380fdf26999a83"
  },
  {
   "cell_type": "code",
   "execution_count": 6,
   "outputs": [
    {
     "data": {
      "text/plain": "   salary\n0     100\n1     200\n2     300\n3     500\n4     500",
      "text/html": "<div>\n<style scoped>\n    .dataframe tbody tr th:only-of-type {\n        vertical-align: middle;\n    }\n\n    .dataframe tbody tr th {\n        vertical-align: top;\n    }\n\n    .dataframe thead th {\n        text-align: right;\n    }\n</style>\n<table border=\"1\" class=\"dataframe\">\n  <thead>\n    <tr style=\"text-align: right;\">\n      <th></th>\n      <th>salary</th>\n    </tr>\n  </thead>\n  <tbody>\n    <tr>\n      <th>0</th>\n      <td>100</td>\n    </tr>\n    <tr>\n      <th>1</th>\n      <td>200</td>\n    </tr>\n    <tr>\n      <th>2</th>\n      <td>300</td>\n    </tr>\n    <tr>\n      <th>3</th>\n      <td>500</td>\n    </tr>\n    <tr>\n      <th>4</th>\n      <td>500</td>\n    </tr>\n  </tbody>\n</table>\n</div>"
     },
     "execution_count": 6,
     "metadata": {},
     "output_type": "execute_result"
    }
   ],
   "source": [
    "df = employee[['salary']]\n",
    "df"
   ],
   "metadata": {
    "collapsed": false,
    "ExecuteTime": {
     "end_time": "2023-08-24T08:02:27.668754100Z",
     "start_time": "2023-08-24T08:02:27.632849700Z"
    }
   },
   "id": "4e039555158fdf27"
  },
  {
   "cell_type": "markdown",
   "source": [
    "通过 .drop_duplicates() 去重后的表"
   ],
   "metadata": {
    "collapsed": false
   },
   "id": "26d7da42a4633436"
  },
  {
   "cell_type": "code",
   "execution_count": 8,
   "outputs": [
    {
     "data": {
      "text/plain": "   salary\n0     100\n1     200\n2     300\n3     500",
      "text/html": "<div>\n<style scoped>\n    .dataframe tbody tr th:only-of-type {\n        vertical-align: middle;\n    }\n\n    .dataframe tbody tr th {\n        vertical-align: top;\n    }\n\n    .dataframe thead th {\n        text-align: right;\n    }\n</style>\n<table border=\"1\" class=\"dataframe\">\n  <thead>\n    <tr style=\"text-align: right;\">\n      <th></th>\n      <th>salary</th>\n    </tr>\n  </thead>\n  <tbody>\n    <tr>\n      <th>0</th>\n      <td>100</td>\n    </tr>\n    <tr>\n      <th>1</th>\n      <td>200</td>\n    </tr>\n    <tr>\n      <th>2</th>\n      <td>300</td>\n    </tr>\n    <tr>\n      <th>3</th>\n      <td>500</td>\n    </tr>\n  </tbody>\n</table>\n</div>"
     },
     "execution_count": 8,
     "metadata": {},
     "output_type": "execute_result"
    }
   ],
   "source": [
    "N = 2\n",
    "df = df.drop_duplicates()\n",
    "df"
   ],
   "metadata": {
    "collapsed": false,
    "ExecuteTime": {
     "end_time": "2023-08-24T08:04:30.092837900Z",
     "start_time": "2023-08-24T08:04:30.068732800Z"
    }
   },
   "id": "fd69a5b6a953a324"
  },
  {
   "cell_type": "markdown",
   "source": [
    "通过 .sort_values(\"salary\", ascending=False) 降序排序后的表。 请注意，我们必须设置 ascending=False 因为 sort_values() 方法的默认顺序是 ascending=True"
   ],
   "metadata": {
    "collapsed": false
   },
   "id": "fb9cba3c324c26e"
  },
  {
   "cell_type": "code",
   "execution_count": 9,
   "outputs": [
    {
     "data": {
      "text/plain": "   salary\n3     500\n2     300\n1     200\n0     100",
      "text/html": "<div>\n<style scoped>\n    .dataframe tbody tr th:only-of-type {\n        vertical-align: middle;\n    }\n\n    .dataframe tbody tr th {\n        vertical-align: top;\n    }\n\n    .dataframe thead th {\n        text-align: right;\n    }\n</style>\n<table border=\"1\" class=\"dataframe\">\n  <thead>\n    <tr style=\"text-align: right;\">\n      <th></th>\n      <th>salary</th>\n    </tr>\n  </thead>\n  <tbody>\n    <tr>\n      <th>3</th>\n      <td>500</td>\n    </tr>\n    <tr>\n      <th>2</th>\n      <td>300</td>\n    </tr>\n    <tr>\n      <th>1</th>\n      <td>200</td>\n    </tr>\n    <tr>\n      <th>0</th>\n      <td>100</td>\n    </tr>\n  </tbody>\n</table>\n</div>"
     },
     "execution_count": 9,
     "metadata": {},
     "output_type": "execute_result"
    }
   ],
   "source": [
    "df = df.sort_values(\"salary\", ascending=False)\n",
    "df"
   ],
   "metadata": {
    "collapsed": false,
    "ExecuteTime": {
     "end_time": "2023-08-24T08:05:11.008833800Z",
     "start_time": "2023-08-24T08:05:10.981400200Z"
    }
   },
   "id": "8b2d58ecdd948948"
  },
  {
   "cell_type": "markdown",
   "source": [
    "通过 .head(N) 并且 N = 2 获取最高 2 个后的表,通过 .tail(1) 获取最后一个后的表"
   ],
   "metadata": {
    "collapsed": false
   },
   "id": "4bb21c58f28c3287"
  },
  {
   "cell_type": "code",
   "execution_count": 10,
   "outputs": [
    {
     "data": {
      "text/plain": "   salary\n2     300",
      "text/html": "<div>\n<style scoped>\n    .dataframe tbody tr th:only-of-type {\n        vertical-align: middle;\n    }\n\n    .dataframe tbody tr th {\n        vertical-align: top;\n    }\n\n    .dataframe thead th {\n        text-align: right;\n    }\n</style>\n<table border=\"1\" class=\"dataframe\">\n  <thead>\n    <tr style=\"text-align: right;\">\n      <th></th>\n      <th>salary</th>\n    </tr>\n  </thead>\n  <tbody>\n    <tr>\n      <th>2</th>\n      <td>300</td>\n    </tr>\n  </tbody>\n</table>\n</div>"
     },
     "execution_count": 10,
     "metadata": {},
     "output_type": "execute_result"
    }
   ],
   "source": [
    "res = df.head(N).tail(1)\n",
    "res"
   ],
   "metadata": {
    "collapsed": false,
    "ExecuteTime": {
     "end_time": "2023-08-24T08:05:38.078943500Z",
     "start_time": "2023-08-24T08:05:38.038048800Z"
    }
   },
   "id": "66b7cad26076f033"
  },
  {
   "cell_type": "markdown",
   "source": [
    "## 176. 第二高的薪水\n",
    "查询并返回 Employee 表中第二高的薪水 。如果不存在第二高的薪水，查询应该返回 null(Pandas 则返回 None) 。"
   ],
   "metadata": {
    "collapsed": false
   },
   "id": "7ba602d287fe4517"
  },
  {
   "cell_type": "code",
   "execution_count": 11,
   "outputs": [],
   "source": [
    "data = [[1, 100], [2, 200], [3, 300]]\n",
    "Employee = pd.DataFrame(data, columns=['id', 'salary']).astype({'id':'int64', 'salary':'int64'})"
   ],
   "metadata": {
    "collapsed": false,
    "ExecuteTime": {
     "end_time": "2023-08-24T08:20:07.558156400Z",
     "start_time": "2023-08-24T08:20:07.529234100Z"
    }
   },
   "id": "f1958f5c8e7a4cd3"
  },
  {
   "cell_type": "code",
   "execution_count": 13,
   "outputs": [
    {
     "data": {
      "text/plain": "   SecondHighestSalary\n1                  200",
      "text/html": "<div>\n<style scoped>\n    .dataframe tbody tr th:only-of-type {\n        vertical-align: middle;\n    }\n\n    .dataframe tbody tr th {\n        vertical-align: top;\n    }\n\n    .dataframe thead th {\n        text-align: right;\n    }\n</style>\n<table border=\"1\" class=\"dataframe\">\n  <thead>\n    <tr style=\"text-align: right;\">\n      <th></th>\n      <th>SecondHighestSalary</th>\n    </tr>\n  </thead>\n  <tbody>\n    <tr>\n      <th>1</th>\n      <td>200</td>\n    </tr>\n  </tbody>\n</table>\n</div>"
     },
     "execution_count": 13,
     "metadata": {},
     "output_type": "execute_result"
    }
   ],
   "source": [
    "import pandas as pd\n",
    "employee = Employee\n",
    "# 1. 删除所有重复的薪水.\n",
    "employee = employee.drop_duplicates([\"salary\"])\n",
    "\n",
    "# 2. 如果少于 2 个不同的薪水，返回 `np.NaN`。\n",
    "if len(employee[\"salary\"].unique()) < 2:\n",
    "    print(\"NULL\")\n",
    "\n",
    "# 3. 把表格按 `salary` 降序排序。\n",
    "employee = employee.sort_values(\"salary\", ascending=False)\n",
    "\n",
    "# 4. 删除 `id` 列。\n",
    "employee.drop(\"id\", axis=1, inplace=True)\n",
    "\n",
    "# 5. 重命名 `salary` 列。\n",
    "employee.rename({\"salary\": \"SecondHighestSalary\"}, axis=1, inplace=True)\n",
    "\n",
    "# 6, 7. 返回第 2 高的薪水\n",
    "employee.head(2).tail(1)"
   ],
   "metadata": {
    "collapsed": false,
    "ExecuteTime": {
     "end_time": "2023-08-24T08:21:41.307524900Z",
     "start_time": "2023-08-24T08:21:41.278940400Z"
    }
   },
   "id": "b9fe1db512380830"
  },
  {
   "cell_type": "markdown",
   "source": [
    "## 184. 部门工资最高的员工\n",
    "\n",
    "查找出每个部门中薪资最高的员工。\n",
    "按 任意顺序 返回结果表。"
   ],
   "metadata": {
    "collapsed": false
   },
   "id": "9e0d58e530bf00e3"
  },
  {
   "cell_type": "code",
   "execution_count": 4,
   "outputs": [],
   "source": [
    "data = [[1, 'Joe', 70000, 1], [2, 'Jim', 90000, 1], [3, 'Henry', 80000, 2], [4, 'Sam', 60000, 2], [5, 'Max', 90000, 1]]\n",
    "Employee = pd.DataFrame(data, columns=['id', 'name', 'salary', 'departmentId']).astype({'id':'Int64', 'name':'object', 'salary':'Int64', 'departmentId':'Int64'})\n",
    "data = [[1, 'IT'], [2, 'Sales']]\n",
    "Department = pd.DataFrame(data, columns=['id', 'name']).astype({'id':'Int64', 'name':'object'})"
   ],
   "metadata": {
    "collapsed": false,
    "ExecuteTime": {
     "end_time": "2023-08-27T08:05:38.846183300Z",
     "start_time": "2023-08-27T08:05:38.809280900Z"
    }
   },
   "id": "c019c7a7e05d1489"
  },
  {
   "cell_type": "markdown",
   "source": [
    "通过合并两个表来获取所有的部门名称、员工名称和薪水。"
   ],
   "metadata": {
    "collapsed": false
   },
   "id": "20d5b592c2e9e3ef"
  },
  {
   "cell_type": "code",
   "execution_count": 6,
   "outputs": [
    {
     "data": {
      "text/plain": "   id_x name_x  salary  departmentId  id_y name_y\n0     1    Joe   70000             1     1     IT\n1     2    Jim   90000             1     1     IT\n2     3  Henry   80000             2     2  Sales\n3     4    Sam   60000             2     2  Sales\n4     5    Max   90000             1     1     IT",
      "text/html": "<div>\n<style scoped>\n    .dataframe tbody tr th:only-of-type {\n        vertical-align: middle;\n    }\n\n    .dataframe tbody tr th {\n        vertical-align: top;\n    }\n\n    .dataframe thead th {\n        text-align: right;\n    }\n</style>\n<table border=\"1\" class=\"dataframe\">\n  <thead>\n    <tr style=\"text-align: right;\">\n      <th></th>\n      <th>id_x</th>\n      <th>name_x</th>\n      <th>salary</th>\n      <th>departmentId</th>\n      <th>id_y</th>\n      <th>name_y</th>\n    </tr>\n  </thead>\n  <tbody>\n    <tr>\n      <th>0</th>\n      <td>1</td>\n      <td>Joe</td>\n      <td>70000</td>\n      <td>1</td>\n      <td>1</td>\n      <td>IT</td>\n    </tr>\n    <tr>\n      <th>1</th>\n      <td>2</td>\n      <td>Jim</td>\n      <td>90000</td>\n      <td>1</td>\n      <td>1</td>\n      <td>IT</td>\n    </tr>\n    <tr>\n      <th>2</th>\n      <td>3</td>\n      <td>Henry</td>\n      <td>80000</td>\n      <td>2</td>\n      <td>2</td>\n      <td>Sales</td>\n    </tr>\n    <tr>\n      <th>3</th>\n      <td>4</td>\n      <td>Sam</td>\n      <td>60000</td>\n      <td>2</td>\n      <td>2</td>\n      <td>Sales</td>\n    </tr>\n    <tr>\n      <th>4</th>\n      <td>5</td>\n      <td>Max</td>\n      <td>90000</td>\n      <td>1</td>\n      <td>1</td>\n      <td>IT</td>\n    </tr>\n  </tbody>\n</table>\n</div>"
     },
     "execution_count": 6,
     "metadata": {},
     "output_type": "execute_result"
    }
   ],
   "source": [
    "employee = Employee\n",
    "department = Department\n",
    "df = employee.merge(department, left_on='departmentId', right_on='id', how='left')\n",
    "df"
   ],
   "metadata": {
    "collapsed": false,
    "ExecuteTime": {
     "end_time": "2023-08-27T08:06:01.048558700Z",
     "start_time": "2023-08-27T08:06:01.010346200Z"
    }
   },
   "id": "d61d367c1722ce8d"
  },
  {
   "cell_type": "code",
   "execution_count": 8,
   "outputs": [
    {
     "data": {
      "text/plain": "   id_x Employee  Salary  departmentId  id_y Department\n0     1      Joe   70000             1     1         IT\n1     2      Jim   90000             1     1         IT\n2     3    Henry   80000             2     2      Sales\n3     4      Sam   60000             2     2      Sales\n4     5      Max   90000             1     1         IT",
      "text/html": "<div>\n<style scoped>\n    .dataframe tbody tr th:only-of-type {\n        vertical-align: middle;\n    }\n\n    .dataframe tbody tr th {\n        vertical-align: top;\n    }\n\n    .dataframe thead th {\n        text-align: right;\n    }\n</style>\n<table border=\"1\" class=\"dataframe\">\n  <thead>\n    <tr style=\"text-align: right;\">\n      <th></th>\n      <th>id_x</th>\n      <th>Employee</th>\n      <th>Salary</th>\n      <th>departmentId</th>\n      <th>id_y</th>\n      <th>Department</th>\n    </tr>\n  </thead>\n  <tbody>\n    <tr>\n      <th>0</th>\n      <td>1</td>\n      <td>Joe</td>\n      <td>70000</td>\n      <td>1</td>\n      <td>1</td>\n      <td>IT</td>\n    </tr>\n    <tr>\n      <th>1</th>\n      <td>2</td>\n      <td>Jim</td>\n      <td>90000</td>\n      <td>1</td>\n      <td>1</td>\n      <td>IT</td>\n    </tr>\n    <tr>\n      <th>2</th>\n      <td>3</td>\n      <td>Henry</td>\n      <td>80000</td>\n      <td>2</td>\n      <td>2</td>\n      <td>Sales</td>\n    </tr>\n    <tr>\n      <th>3</th>\n      <td>4</td>\n      <td>Sam</td>\n      <td>60000</td>\n      <td>2</td>\n      <td>2</td>\n      <td>Sales</td>\n    </tr>\n    <tr>\n      <th>4</th>\n      <td>5</td>\n      <td>Max</td>\n      <td>90000</td>\n      <td>1</td>\n      <td>1</td>\n      <td>IT</td>\n    </tr>\n  </tbody>\n</table>\n</div>"
     },
     "execution_count": 8,
     "metadata": {},
     "output_type": "execute_result"
    }
   ],
   "source": [
    "df.rename(columns={'name_x': 'Employee', 'name_y': 'Department', 'salary': 'Salary'}, inplace=True)\n",
    "df"
   ],
   "metadata": {
    "collapsed": false,
    "ExecuteTime": {
     "end_time": "2023-08-27T08:07:07.443707400Z",
     "start_time": "2023-08-27T08:07:07.409798500Z"
    }
   },
   "id": "c59d94be55eaf1e2"
  },
  {
   "cell_type": "markdown",
   "source": [
    "根据 Department 列对 df 进行分组，并对 Salary 列应用 transform('max') 函数，这将为每个部门计算最高薪水，并返回一个与原 DataFrame 长度相同的 Series，其中每个值都是对应部门的最高薪水（它不一定是对应员工的薪水）"
   ],
   "metadata": {
    "collapsed": false
   },
   "id": "ecdcef2a59dfdfb4"
  },
  {
   "cell_type": "code",
   "execution_count": 10,
   "outputs": [
    {
     "data": {
      "text/plain": "0    90000\n1    90000\n2    80000\n3    80000\n4    90000\nName: Salary, dtype: Int64"
     },
     "execution_count": 10,
     "metadata": {},
     "output_type": "execute_result"
    }
   ],
   "source": [
    "max_salary = df.groupby('Department')['Salary'].transform('max')\n",
    "max_salary"
   ],
   "metadata": {
    "collapsed": false,
    "ExecuteTime": {
     "end_time": "2023-08-27T08:08:30.336138900Z",
     "start_time": "2023-08-27T08:08:30.306220700Z"
    }
   },
   "id": "9bcae43267131ac6"
  },
  {
   "cell_type": "code",
   "execution_count": 11,
   "outputs": [
    {
     "data": {
      "text/plain": "   id_x Employee  Salary  departmentId  id_y Department\n1     2      Jim   90000             1     1         IT\n2     3    Henry   80000             2     2      Sales\n4     5      Max   90000             1     1         IT",
      "text/html": "<div>\n<style scoped>\n    .dataframe tbody tr th:only-of-type {\n        vertical-align: middle;\n    }\n\n    .dataframe tbody tr th {\n        vertical-align: top;\n    }\n\n    .dataframe thead th {\n        text-align: right;\n    }\n</style>\n<table border=\"1\" class=\"dataframe\">\n  <thead>\n    <tr style=\"text-align: right;\">\n      <th></th>\n      <th>id_x</th>\n      <th>Employee</th>\n      <th>Salary</th>\n      <th>departmentId</th>\n      <th>id_y</th>\n      <th>Department</th>\n    </tr>\n  </thead>\n  <tbody>\n    <tr>\n      <th>1</th>\n      <td>2</td>\n      <td>Jim</td>\n      <td>90000</td>\n      <td>1</td>\n      <td>1</td>\n      <td>IT</td>\n    </tr>\n    <tr>\n      <th>2</th>\n      <td>3</td>\n      <td>Henry</td>\n      <td>80000</td>\n      <td>2</td>\n      <td>2</td>\n      <td>Sales</td>\n    </tr>\n    <tr>\n      <th>4</th>\n      <td>5</td>\n      <td>Max</td>\n      <td>90000</td>\n      <td>1</td>\n      <td>1</td>\n      <td>IT</td>\n    </tr>\n  </tbody>\n</table>\n</div>"
     },
     "execution_count": 11,
     "metadata": {},
     "output_type": "execute_result"
    }
   ],
   "source": [
    "df = df[df['Salary'] == max_salary]\n",
    "df"
   ],
   "metadata": {
    "collapsed": false,
    "ExecuteTime": {
     "end_time": "2023-08-27T08:09:12.573668Z",
     "start_time": "2023-08-27T08:09:12.537764200Z"
    }
   },
   "id": "29ff301822bf4cc3"
  },
  {
   "cell_type": "markdown",
   "source": [
    "## 178. 分数排名\n",
    "\n",
    "查询并对分数进行排序。排名按以下规则计算:\n",
    "\n",
    "分数应按从高到低排列。\n",
    "如果两个分数相等，那么两个分数的排名应该相同。\n",
    "在排名相同的分数后，排名数应该是下一个连续的整数。换句话说，排名之间不应该有空缺的数字。\n",
    "按 score 降序返回结果表。"
   ],
   "metadata": {
    "collapsed": false
   },
   "id": "35603c7782c19eec"
  },
  {
   "cell_type": "code",
   "execution_count": 12,
   "outputs": [],
   "source": [
    "data = [[1, 3.5], [2, 3.65], [3, 4.0], [4, 3.85], [5, 4.0], [6, 3.65]]\n",
    "Scores = pd.DataFrame(data, columns=['id', 'score']).astype({'id':'Int64', 'score':'Float64'})"
   ],
   "metadata": {
    "collapsed": false,
    "ExecuteTime": {
     "end_time": "2023-08-27T08:12:57.712203900Z",
     "start_time": "2023-08-27T08:12:57.684278600Z"
    }
   },
   "id": "c95b4beb2d7680ea"
  },
  {
   "cell_type": "markdown",
   "source": [
    "Pandas 提供了函数 rank() 来帮助计算沿轴的数值数据排名，我们可以将方法参数 method 设置为 dense 来分配密集排名。密集排名意味着当存在并列的值时，下一个排名不会跳过。相反，所有并列的分数都被分配相同的排名，并且下一个排名递增一。这确保排名没有间隙，并且每个分数获得唯一的排名，这也正是问题所需的。"
   ],
   "metadata": {
    "collapsed": false
   },
   "id": "fcef2e56d14c2959"
  },
  {
   "cell_type": "code",
   "execution_count": 13,
   "outputs": [
    {
     "data": {
      "text/plain": "   id  score  rank\n0   1    3.5   4.0\n1   2   3.65   3.0\n2   3    4.0   1.0\n3   4   3.85   2.0\n4   5    4.0   1.0\n5   6   3.65   3.0",
      "text/html": "<div>\n<style scoped>\n    .dataframe tbody tr th:only-of-type {\n        vertical-align: middle;\n    }\n\n    .dataframe tbody tr th {\n        vertical-align: top;\n    }\n\n    .dataframe thead th {\n        text-align: right;\n    }\n</style>\n<table border=\"1\" class=\"dataframe\">\n  <thead>\n    <tr style=\"text-align: right;\">\n      <th></th>\n      <th>id</th>\n      <th>score</th>\n      <th>rank</th>\n    </tr>\n  </thead>\n  <tbody>\n    <tr>\n      <th>0</th>\n      <td>1</td>\n      <td>3.5</td>\n      <td>4.0</td>\n    </tr>\n    <tr>\n      <th>1</th>\n      <td>2</td>\n      <td>3.65</td>\n      <td>3.0</td>\n    </tr>\n    <tr>\n      <th>2</th>\n      <td>3</td>\n      <td>4.0</td>\n      <td>1.0</td>\n    </tr>\n    <tr>\n      <th>3</th>\n      <td>4</td>\n      <td>3.85</td>\n      <td>2.0</td>\n    </tr>\n    <tr>\n      <th>4</th>\n      <td>5</td>\n      <td>4.0</td>\n      <td>1.0</td>\n    </tr>\n    <tr>\n      <th>5</th>\n      <td>6</td>\n      <td>3.65</td>\n      <td>3.0</td>\n    </tr>\n  </tbody>\n</table>\n</div>"
     },
     "execution_count": 13,
     "metadata": {},
     "output_type": "execute_result"
    }
   ],
   "source": [
    "scores = Scores\n",
    "# 按照降序对 'score' 列进行密集排名。\n",
    "scores['rank'] = scores['score'].rank(method='dense', ascending=False)\n",
    "scores"
   ],
   "metadata": {
    "collapsed": false,
    "ExecuteTime": {
     "end_time": "2023-08-27T08:15:16.830295200Z",
     "start_time": "2023-08-27T08:15:16.794391300Z"
    }
   },
   "id": "9a9ee75d3e55fe15"
  },
  {
   "cell_type": "code",
   "execution_count": 16,
   "outputs": [
    {
     "data": {
      "text/plain": "   id  score  rank\n2   3    4.0   1.0\n4   5    4.0   1.0\n3   4   3.85   2.0\n1   2   3.65   3.0\n5   6   3.65   3.0\n0   1    3.5   4.0",
      "text/html": "<div>\n<style scoped>\n    .dataframe tbody tr th:only-of-type {\n        vertical-align: middle;\n    }\n\n    .dataframe tbody tr th {\n        vertical-align: top;\n    }\n\n    .dataframe thead th {\n        text-align: right;\n    }\n</style>\n<table border=\"1\" class=\"dataframe\">\n  <thead>\n    <tr style=\"text-align: right;\">\n      <th></th>\n      <th>id</th>\n      <th>score</th>\n      <th>rank</th>\n    </tr>\n  </thead>\n  <tbody>\n    <tr>\n      <th>2</th>\n      <td>3</td>\n      <td>4.0</td>\n      <td>1.0</td>\n    </tr>\n    <tr>\n      <th>4</th>\n      <td>5</td>\n      <td>4.0</td>\n      <td>1.0</td>\n    </tr>\n    <tr>\n      <th>3</th>\n      <td>4</td>\n      <td>3.85</td>\n      <td>2.0</td>\n    </tr>\n    <tr>\n      <th>1</th>\n      <td>2</td>\n      <td>3.65</td>\n      <td>3.0</td>\n    </tr>\n    <tr>\n      <th>5</th>\n      <td>6</td>\n      <td>3.65</td>\n      <td>3.0</td>\n    </tr>\n    <tr>\n      <th>0</th>\n      <td>1</td>\n      <td>3.5</td>\n      <td>4.0</td>\n    </tr>\n  </tbody>\n</table>\n</div>"
     },
     "execution_count": 16,
     "metadata": {},
     "output_type": "execute_result"
    }
   ],
   "source": [
    "scores = scores.sort_values('score',ascending=False)\n",
    "scores"
   ],
   "metadata": {
    "collapsed": false,
    "ExecuteTime": {
     "end_time": "2023-08-27T08:17:13.304751900Z",
     "start_time": "2023-08-27T08:17:13.275829Z"
    }
   },
   "id": "ee6222ff474131b5"
  },
  {
   "cell_type": "markdown",
   "source": [
    "## 196. 删除重复的电子邮箱\n",
    "\n",
    "编写解决方案 删除 所有重复的电子邮件，只保留一个具有最小 id 的唯一电子邮件。\n",
    "（对于 SQL 用户，请注意你应该编写一个 DELETE 语句而不是 SELECT 语句。）\n",
    "（对于 Pandas 用户，请注意你应该直接修改 Person 表。）\n",
    "运行脚本后，显示的答案是 Person 表。驱动程序将首先编译并运行您的代码片段，然后再显示 Person 表。Person 表的最终顺序 无关紧要 。"
   ],
   "metadata": {
    "collapsed": false
   },
   "id": "e2aa0b50b46d75b8"
  },
  {
   "cell_type": "code",
   "execution_count": 17,
   "outputs": [],
   "source": [
    "data = [[1, 'john@example.com'], [2, 'bob@example.com'], [3, 'john@example.com']]\n",
    "Person = pd.DataFrame(data, columns=['id', 'email']).astype({'id':'int64', 'email':'object'})"
   ],
   "metadata": {
    "collapsed": false,
    "ExecuteTime": {
     "end_time": "2023-08-27T08:26:48.940826700Z",
     "start_time": "2023-08-27T08:26:48.883013800Z"
    }
   },
   "id": "1d3953b10b189da8"
  },
  {
   "cell_type": "markdown",
   "source": [
    "要求是保留每个唯一电子邮件地址对应的最小 id。自然地，我们可以考虑使用 groupby 方法来实现这一点。Person.groupby('email') 将根据 email 列中的唯一值对 Person 进行分组。我们根据 email 列中的唯一值将 Person 分成多个组。这种分组允许我们将具有相同 email 的行分组在一起，以便我们可以分别对每个组进行操作。\n",
    "\n",
    "我们想要找到每个组内的最小 id 值，以保留具有最小 id 的行。为了实现这一点，我们使用transform('min') 方法为每个组生成一个新的Series，其中包含各自组内 id 列中的最小值。"
   ],
   "metadata": {
    "collapsed": false
   },
   "id": "6a260ea8cfa1e647"
  },
  {
   "cell_type": "code",
   "execution_count": 19,
   "outputs": [
    {
     "data": {
      "text/plain": "0    1\n1    2\n2    1\nName: id, dtype: int64"
     },
     "execution_count": 19,
     "metadata": {},
     "output_type": "execute_result"
    }
   ],
   "source": [
    "person = Person\n",
    "min_id = person.groupby('email')['id'].transform('min')\n",
    "min_id"
   ],
   "metadata": {
    "collapsed": false,
    "ExecuteTime": {
     "end_time": "2023-08-27T08:29:37.997636500Z",
     "start_time": "2023-08-27T08:29:37.964724500Z"
    }
   },
   "id": "2da2e6ce61bedb90"
  },
  {
   "cell_type": "code",
   "execution_count": 20,
   "outputs": [
    {
     "data": {
      "text/plain": "   id             email\n2   3  john@example.com",
      "text/html": "<div>\n<style scoped>\n    .dataframe tbody tr th:only-of-type {\n        vertical-align: middle;\n    }\n\n    .dataframe tbody tr th {\n        vertical-align: top;\n    }\n\n    .dataframe thead th {\n        text-align: right;\n    }\n</style>\n<table border=\"1\" class=\"dataframe\">\n  <thead>\n    <tr style=\"text-align: right;\">\n      <th></th>\n      <th>id</th>\n      <th>email</th>\n    </tr>\n  </thead>\n  <tbody>\n    <tr>\n      <th>2</th>\n      <td>3</td>\n      <td>john@example.com</td>\n    </tr>\n  </tbody>\n</table>\n</div>"
     },
     "execution_count": 20,
     "metadata": {},
     "output_type": "execute_result"
    }
   ],
   "source": [
    "removed_person = person[person['id'] != min_id]\n",
    "removed_person"
   ],
   "metadata": {
    "collapsed": false,
    "ExecuteTime": {
     "end_time": "2023-08-27T08:31:49.912578300Z",
     "start_time": "2023-08-27T08:31:49.848748100Z"
    }
   },
   "id": "622caeb4bf3ae04d"
  },
  {
   "cell_type": "markdown",
   "source": [
    "注意，我们被要求在原地修改 Person。因此，我们可以使用带有 inplace=True 的 drop 方法，根据 removed_person.index 提供的索引值来删除所有行。"
   ],
   "metadata": {
    "collapsed": false
   },
   "id": "bba5079677020c7b"
  },
  {
   "cell_type": "code",
   "execution_count": 21,
   "outputs": [
    {
     "data": {
      "text/plain": "   id             email\n0   1  john@example.com\n1   2   bob@example.com",
      "text/html": "<div>\n<style scoped>\n    .dataframe tbody tr th:only-of-type {\n        vertical-align: middle;\n    }\n\n    .dataframe tbody tr th {\n        vertical-align: top;\n    }\n\n    .dataframe thead th {\n        text-align: right;\n    }\n</style>\n<table border=\"1\" class=\"dataframe\">\n  <thead>\n    <tr style=\"text-align: right;\">\n      <th></th>\n      <th>id</th>\n      <th>email</th>\n    </tr>\n  </thead>\n  <tbody>\n    <tr>\n      <th>0</th>\n      <td>1</td>\n      <td>john@example.com</td>\n    </tr>\n    <tr>\n      <th>1</th>\n      <td>2</td>\n      <td>bob@example.com</td>\n    </tr>\n  </tbody>\n</table>\n</div>"
     },
     "execution_count": 21,
     "metadata": {},
     "output_type": "execute_result"
    }
   ],
   "source": [
    "person.drop(removed_person.index, inplace=True)\n",
    "person"
   ],
   "metadata": {
    "collapsed": false,
    "ExecuteTime": {
     "end_time": "2023-08-27T08:53:13.918285500Z",
     "start_time": "2023-08-27T08:53:13.865993800Z"
    }
   },
   "id": "f74d0e450dbd192b"
  },
  {
   "cell_type": "markdown",
   "source": [
    "## 1795. 每个产品在不同商店的价格\n",
    "\n",
    "请你重构 Products 表，查询每个产品在不同商店的价格，使得输出的格式变为(product_id, store, price) 。如果这一产品在商店里没有出售，则不输出这一行。\n",
    "输出结果表中的 顺序不作要求 。"
   ],
   "metadata": {
    "collapsed": false
   },
   "id": "98253e4ce0452921"
  },
  {
   "cell_type": "code",
   "execution_count": 25,
   "outputs": [
    {
     "ename": "IntCastingNaNError",
     "evalue": "Cannot convert non-finite values (NA or inf) to integer",
     "output_type": "error",
     "traceback": [
      "\u001B[1;31m---------------------------------------------------------------------------\u001B[0m",
      "\u001B[1;31mIntCastingNaNError\u001B[0m                        Traceback (most recent call last)",
      "Cell \u001B[1;32mIn[25], line 2\u001B[0m\n\u001B[0;32m      1\u001B[0m data \u001B[38;5;241m=\u001B[39m [[\u001B[38;5;241m0\u001B[39m, \u001B[38;5;241m95\u001B[39m, \u001B[38;5;241m100\u001B[39m, \u001B[38;5;241m105\u001B[39m], [\u001B[38;5;241m1\u001B[39m, \u001B[38;5;241m70\u001B[39m, \u001B[38;5;28;01mNone\u001B[39;00m, \u001B[38;5;241m80\u001B[39m]]\n\u001B[1;32m----> 2\u001B[0m Products \u001B[38;5;241m=\u001B[39m \u001B[43mpd\u001B[49m\u001B[38;5;241;43m.\u001B[39;49m\u001B[43mDataFrame\u001B[49m\u001B[43m(\u001B[49m\u001B[43mdata\u001B[49m\u001B[43m,\u001B[49m\u001B[43m \u001B[49m\u001B[43mcolumns\u001B[49m\u001B[38;5;241;43m=\u001B[39;49m\u001B[43m[\u001B[49m\u001B[38;5;124;43m'\u001B[39;49m\u001B[38;5;124;43mproduct_id\u001B[39;49m\u001B[38;5;124;43m'\u001B[39;49m\u001B[43m,\u001B[49m\u001B[43m \u001B[49m\u001B[38;5;124;43m'\u001B[39;49m\u001B[38;5;124;43mstore1\u001B[39;49m\u001B[38;5;124;43m'\u001B[39;49m\u001B[43m,\u001B[49m\u001B[43m \u001B[49m\u001B[38;5;124;43m'\u001B[39;49m\u001B[38;5;124;43mstore2\u001B[39;49m\u001B[38;5;124;43m'\u001B[39;49m\u001B[43m,\u001B[49m\u001B[43m \u001B[49m\u001B[38;5;124;43m'\u001B[39;49m\u001B[38;5;124;43mstore3\u001B[39;49m\u001B[38;5;124;43m'\u001B[39;49m\u001B[43m]\u001B[49m\u001B[43m)\u001B[49m\u001B[38;5;241;43m.\u001B[39;49m\u001B[43mastype\u001B[49m\u001B[43m(\u001B[49m\u001B[43m{\u001B[49m\u001B[38;5;124;43m'\u001B[39;49m\u001B[38;5;124;43mproduct_id\u001B[39;49m\u001B[38;5;124;43m'\u001B[39;49m\u001B[43m:\u001B[49m\u001B[38;5;124;43m'\u001B[39;49m\u001B[38;5;124;43mint64\u001B[39;49m\u001B[38;5;124;43m'\u001B[39;49m\u001B[43m,\u001B[49m\u001B[43m \u001B[49m\u001B[38;5;124;43m'\u001B[39;49m\u001B[38;5;124;43mstore1\u001B[39;49m\u001B[38;5;124;43m'\u001B[39;49m\u001B[43m:\u001B[49m\u001B[38;5;124;43m'\u001B[39;49m\u001B[38;5;124;43mint64\u001B[39;49m\u001B[38;5;124;43m'\u001B[39;49m\u001B[43m,\u001B[49m\u001B[43m \u001B[49m\u001B[38;5;124;43m'\u001B[39;49m\u001B[38;5;124;43mstore2\u001B[39;49m\u001B[38;5;124;43m'\u001B[39;49m\u001B[43m:\u001B[49m\u001B[38;5;124;43m'\u001B[39;49m\u001B[38;5;124;43mint64\u001B[39;49m\u001B[38;5;124;43m'\u001B[39;49m\u001B[43m,\u001B[49m\u001B[43m \u001B[49m\u001B[38;5;124;43m'\u001B[39;49m\u001B[38;5;124;43mstore3\u001B[39;49m\u001B[38;5;124;43m'\u001B[39;49m\u001B[43m:\u001B[49m\u001B[38;5;124;43m'\u001B[39;49m\u001B[38;5;124;43mint64\u001B[39;49m\u001B[38;5;124;43m'\u001B[39;49m\u001B[43m}\u001B[49m\u001B[43m)\u001B[49m\n",
      "File \u001B[1;32mD:\\Anaconda\\envs\\data_analysis_project\\lib\\site-packages\\pandas\\core\\generic.py:5898\u001B[0m, in \u001B[0;36mNDFrame.astype\u001B[1;34m(self, dtype, copy, errors)\u001B[0m\n\u001B[0;32m   5896\u001B[0m             res_col \u001B[38;5;241m=\u001B[39m col\u001B[38;5;241m.\u001B[39mcopy() \u001B[38;5;28;01mif\u001B[39;00m copy \u001B[38;5;28;01melse\u001B[39;00m col\n\u001B[0;32m   5897\u001B[0m         \u001B[38;5;28;01melse\u001B[39;00m:\n\u001B[1;32m-> 5898\u001B[0m             res_col \u001B[38;5;241m=\u001B[39m \u001B[43mcol\u001B[49m\u001B[38;5;241;43m.\u001B[39;49m\u001B[43mastype\u001B[49m\u001B[43m(\u001B[49m\u001B[43mdtype\u001B[49m\u001B[38;5;241;43m=\u001B[39;49m\u001B[43mcdt\u001B[49m\u001B[43m,\u001B[49m\u001B[43m \u001B[49m\u001B[43mcopy\u001B[49m\u001B[38;5;241;43m=\u001B[39;49m\u001B[43mcopy\u001B[49m\u001B[43m,\u001B[49m\u001B[43m \u001B[49m\u001B[43merrors\u001B[49m\u001B[38;5;241;43m=\u001B[39;49m\u001B[43merrors\u001B[49m\u001B[43m)\u001B[49m\n\u001B[0;32m   5899\u001B[0m         results\u001B[38;5;241m.\u001B[39mappend(res_col)\n\u001B[0;32m   5901\u001B[0m \u001B[38;5;28;01melif\u001B[39;00m is_extension_array_dtype(dtype) \u001B[38;5;129;01mand\u001B[39;00m \u001B[38;5;28mself\u001B[39m\u001B[38;5;241m.\u001B[39mndim \u001B[38;5;241m>\u001B[39m \u001B[38;5;241m1\u001B[39m:\n\u001B[0;32m   5902\u001B[0m     \u001B[38;5;66;03m# GH 18099/22869: columnwise conversion to extension dtype\u001B[39;00m\n\u001B[0;32m   5903\u001B[0m     \u001B[38;5;66;03m# GH 24704: use iloc to handle duplicate column names\u001B[39;00m\n\u001B[0;32m   5904\u001B[0m     \u001B[38;5;66;03m# TODO(EA2D): special case not needed with 2D EAs\u001B[39;00m\n",
      "File \u001B[1;32mD:\\Anaconda\\envs\\data_analysis_project\\lib\\site-packages\\pandas\\core\\generic.py:5912\u001B[0m, in \u001B[0;36mNDFrame.astype\u001B[1;34m(self, dtype, copy, errors)\u001B[0m\n\u001B[0;32m   5905\u001B[0m     results \u001B[38;5;241m=\u001B[39m [\n\u001B[0;32m   5906\u001B[0m         \u001B[38;5;28mself\u001B[39m\u001B[38;5;241m.\u001B[39miloc[:, i]\u001B[38;5;241m.\u001B[39mastype(dtype, copy\u001B[38;5;241m=\u001B[39mcopy)\n\u001B[0;32m   5907\u001B[0m         \u001B[38;5;28;01mfor\u001B[39;00m i \u001B[38;5;129;01min\u001B[39;00m \u001B[38;5;28mrange\u001B[39m(\u001B[38;5;28mlen\u001B[39m(\u001B[38;5;28mself\u001B[39m\u001B[38;5;241m.\u001B[39mcolumns))\n\u001B[0;32m   5908\u001B[0m     ]\n\u001B[0;32m   5910\u001B[0m \u001B[38;5;28;01melse\u001B[39;00m:\n\u001B[0;32m   5911\u001B[0m     \u001B[38;5;66;03m# else, only a single dtype is given\u001B[39;00m\n\u001B[1;32m-> 5912\u001B[0m     new_data \u001B[38;5;241m=\u001B[39m \u001B[38;5;28;43mself\u001B[39;49m\u001B[38;5;241;43m.\u001B[39;49m\u001B[43m_mgr\u001B[49m\u001B[38;5;241;43m.\u001B[39;49m\u001B[43mastype\u001B[49m\u001B[43m(\u001B[49m\u001B[43mdtype\u001B[49m\u001B[38;5;241;43m=\u001B[39;49m\u001B[43mdtype\u001B[49m\u001B[43m,\u001B[49m\u001B[43m \u001B[49m\u001B[43mcopy\u001B[49m\u001B[38;5;241;43m=\u001B[39;49m\u001B[43mcopy\u001B[49m\u001B[43m,\u001B[49m\u001B[43m \u001B[49m\u001B[43merrors\u001B[49m\u001B[38;5;241;43m=\u001B[39;49m\u001B[43merrors\u001B[49m\u001B[43m)\u001B[49m\n\u001B[0;32m   5913\u001B[0m     \u001B[38;5;28;01mreturn\u001B[39;00m \u001B[38;5;28mself\u001B[39m\u001B[38;5;241m.\u001B[39m_constructor(new_data)\u001B[38;5;241m.\u001B[39m__finalize__(\u001B[38;5;28mself\u001B[39m, method\u001B[38;5;241m=\u001B[39m\u001B[38;5;124m\"\u001B[39m\u001B[38;5;124mastype\u001B[39m\u001B[38;5;124m\"\u001B[39m)\n\u001B[0;32m   5915\u001B[0m \u001B[38;5;66;03m# GH 33113: handle empty frame or series\u001B[39;00m\n",
      "File \u001B[1;32mD:\\Anaconda\\envs\\data_analysis_project\\lib\\site-packages\\pandas\\core\\internals\\managers.py:419\u001B[0m, in \u001B[0;36mBaseBlockManager.astype\u001B[1;34m(self, dtype, copy, errors)\u001B[0m\n\u001B[0;32m    418\u001B[0m \u001B[38;5;28;01mdef\u001B[39;00m \u001B[38;5;21mastype\u001B[39m(\u001B[38;5;28mself\u001B[39m: T, dtype, copy: \u001B[38;5;28mbool\u001B[39m \u001B[38;5;241m=\u001B[39m \u001B[38;5;28;01mFalse\u001B[39;00m, errors: \u001B[38;5;28mstr\u001B[39m \u001B[38;5;241m=\u001B[39m \u001B[38;5;124m\"\u001B[39m\u001B[38;5;124mraise\u001B[39m\u001B[38;5;124m\"\u001B[39m) \u001B[38;5;241m-\u001B[39m\u001B[38;5;241m>\u001B[39m T:\n\u001B[1;32m--> 419\u001B[0m     \u001B[38;5;28;01mreturn\u001B[39;00m \u001B[38;5;28;43mself\u001B[39;49m\u001B[38;5;241;43m.\u001B[39;49m\u001B[43mapply\u001B[49m\u001B[43m(\u001B[49m\u001B[38;5;124;43m\"\u001B[39;49m\u001B[38;5;124;43mastype\u001B[39;49m\u001B[38;5;124;43m\"\u001B[39;49m\u001B[43m,\u001B[49m\u001B[43m \u001B[49m\u001B[43mdtype\u001B[49m\u001B[38;5;241;43m=\u001B[39;49m\u001B[43mdtype\u001B[49m\u001B[43m,\u001B[49m\u001B[43m \u001B[49m\u001B[43mcopy\u001B[49m\u001B[38;5;241;43m=\u001B[39;49m\u001B[43mcopy\u001B[49m\u001B[43m,\u001B[49m\u001B[43m \u001B[49m\u001B[43merrors\u001B[49m\u001B[38;5;241;43m=\u001B[39;49m\u001B[43merrors\u001B[49m\u001B[43m)\u001B[49m\n",
      "File \u001B[1;32mD:\\Anaconda\\envs\\data_analysis_project\\lib\\site-packages\\pandas\\core\\internals\\managers.py:304\u001B[0m, in \u001B[0;36mBaseBlockManager.apply\u001B[1;34m(self, f, align_keys, ignore_failures, **kwargs)\u001B[0m\n\u001B[0;32m    302\u001B[0m         applied \u001B[38;5;241m=\u001B[39m b\u001B[38;5;241m.\u001B[39mapply(f, \u001B[38;5;241m*\u001B[39m\u001B[38;5;241m*\u001B[39mkwargs)\n\u001B[0;32m    303\u001B[0m     \u001B[38;5;28;01melse\u001B[39;00m:\n\u001B[1;32m--> 304\u001B[0m         applied \u001B[38;5;241m=\u001B[39m \u001B[38;5;28mgetattr\u001B[39m(b, f)(\u001B[38;5;241m*\u001B[39m\u001B[38;5;241m*\u001B[39mkwargs)\n\u001B[0;32m    305\u001B[0m \u001B[38;5;28;01mexcept\u001B[39;00m (\u001B[38;5;167;01mTypeError\u001B[39;00m, \u001B[38;5;167;01mNotImplementedError\u001B[39;00m):\n\u001B[0;32m    306\u001B[0m     \u001B[38;5;28;01mif\u001B[39;00m \u001B[38;5;129;01mnot\u001B[39;00m ignore_failures:\n",
      "File \u001B[1;32mD:\\Anaconda\\envs\\data_analysis_project\\lib\\site-packages\\pandas\\core\\internals\\blocks.py:580\u001B[0m, in \u001B[0;36mBlock.astype\u001B[1;34m(self, dtype, copy, errors)\u001B[0m\n\u001B[0;32m    562\u001B[0m \u001B[38;5;124;03m\"\"\"\u001B[39;00m\n\u001B[0;32m    563\u001B[0m \u001B[38;5;124;03mCoerce to the new dtype.\u001B[39;00m\n\u001B[0;32m    564\u001B[0m \n\u001B[1;32m   (...)\u001B[0m\n\u001B[0;32m    576\u001B[0m \u001B[38;5;124;03mBlock\u001B[39;00m\n\u001B[0;32m    577\u001B[0m \u001B[38;5;124;03m\"\"\"\u001B[39;00m\n\u001B[0;32m    578\u001B[0m values \u001B[38;5;241m=\u001B[39m \u001B[38;5;28mself\u001B[39m\u001B[38;5;241m.\u001B[39mvalues\n\u001B[1;32m--> 580\u001B[0m new_values \u001B[38;5;241m=\u001B[39m \u001B[43mastype_array_safe\u001B[49m\u001B[43m(\u001B[49m\u001B[43mvalues\u001B[49m\u001B[43m,\u001B[49m\u001B[43m \u001B[49m\u001B[43mdtype\u001B[49m\u001B[43m,\u001B[49m\u001B[43m \u001B[49m\u001B[43mcopy\u001B[49m\u001B[38;5;241;43m=\u001B[39;49m\u001B[43mcopy\u001B[49m\u001B[43m,\u001B[49m\u001B[43m \u001B[49m\u001B[43merrors\u001B[49m\u001B[38;5;241;43m=\u001B[39;49m\u001B[43merrors\u001B[49m\u001B[43m)\u001B[49m\n\u001B[0;32m    582\u001B[0m new_values \u001B[38;5;241m=\u001B[39m maybe_coerce_values(new_values)\n\u001B[0;32m    583\u001B[0m newb \u001B[38;5;241m=\u001B[39m \u001B[38;5;28mself\u001B[39m\u001B[38;5;241m.\u001B[39mmake_block(new_values)\n",
      "File \u001B[1;32mD:\\Anaconda\\envs\\data_analysis_project\\lib\\site-packages\\pandas\\core\\dtypes\\cast.py:1292\u001B[0m, in \u001B[0;36mastype_array_safe\u001B[1;34m(values, dtype, copy, errors)\u001B[0m\n\u001B[0;32m   1289\u001B[0m     dtype \u001B[38;5;241m=\u001B[39m dtype\u001B[38;5;241m.\u001B[39mnumpy_dtype\n\u001B[0;32m   1291\u001B[0m \u001B[38;5;28;01mtry\u001B[39;00m:\n\u001B[1;32m-> 1292\u001B[0m     new_values \u001B[38;5;241m=\u001B[39m \u001B[43mastype_array\u001B[49m\u001B[43m(\u001B[49m\u001B[43mvalues\u001B[49m\u001B[43m,\u001B[49m\u001B[43m \u001B[49m\u001B[43mdtype\u001B[49m\u001B[43m,\u001B[49m\u001B[43m \u001B[49m\u001B[43mcopy\u001B[49m\u001B[38;5;241;43m=\u001B[39;49m\u001B[43mcopy\u001B[49m\u001B[43m)\u001B[49m\n\u001B[0;32m   1293\u001B[0m \u001B[38;5;28;01mexcept\u001B[39;00m (\u001B[38;5;167;01mValueError\u001B[39;00m, \u001B[38;5;167;01mTypeError\u001B[39;00m):\n\u001B[0;32m   1294\u001B[0m     \u001B[38;5;66;03m# e.g. astype_nansafe can fail on object-dtype of strings\u001B[39;00m\n\u001B[0;32m   1295\u001B[0m     \u001B[38;5;66;03m#  trying to convert to float\u001B[39;00m\n\u001B[0;32m   1296\u001B[0m     \u001B[38;5;28;01mif\u001B[39;00m errors \u001B[38;5;241m==\u001B[39m \u001B[38;5;124m\"\u001B[39m\u001B[38;5;124mignore\u001B[39m\u001B[38;5;124m\"\u001B[39m:\n",
      "File \u001B[1;32mD:\\Anaconda\\envs\\data_analysis_project\\lib\\site-packages\\pandas\\core\\dtypes\\cast.py:1237\u001B[0m, in \u001B[0;36mastype_array\u001B[1;34m(values, dtype, copy)\u001B[0m\n\u001B[0;32m   1234\u001B[0m     values \u001B[38;5;241m=\u001B[39m values\u001B[38;5;241m.\u001B[39mastype(dtype, copy\u001B[38;5;241m=\u001B[39mcopy)\n\u001B[0;32m   1236\u001B[0m \u001B[38;5;28;01melse\u001B[39;00m:\n\u001B[1;32m-> 1237\u001B[0m     values \u001B[38;5;241m=\u001B[39m \u001B[43mastype_nansafe\u001B[49m\u001B[43m(\u001B[49m\u001B[43mvalues\u001B[49m\u001B[43m,\u001B[49m\u001B[43m \u001B[49m\u001B[43mdtype\u001B[49m\u001B[43m,\u001B[49m\u001B[43m \u001B[49m\u001B[43mcopy\u001B[49m\u001B[38;5;241;43m=\u001B[39;49m\u001B[43mcopy\u001B[49m\u001B[43m)\u001B[49m\n\u001B[0;32m   1239\u001B[0m \u001B[38;5;66;03m# in pandas we don't store numpy str dtypes, so convert to object\u001B[39;00m\n\u001B[0;32m   1240\u001B[0m \u001B[38;5;28;01mif\u001B[39;00m \u001B[38;5;28misinstance\u001B[39m(dtype, np\u001B[38;5;241m.\u001B[39mdtype) \u001B[38;5;129;01mand\u001B[39;00m \u001B[38;5;28missubclass\u001B[39m(values\u001B[38;5;241m.\u001B[39mdtype\u001B[38;5;241m.\u001B[39mtype, \u001B[38;5;28mstr\u001B[39m):\n",
      "File \u001B[1;32mD:\\Anaconda\\envs\\data_analysis_project\\lib\\site-packages\\pandas\\core\\dtypes\\cast.py:1148\u001B[0m, in \u001B[0;36mastype_nansafe\u001B[1;34m(arr, dtype, copy, skipna)\u001B[0m\n\u001B[0;32m   1145\u001B[0m     \u001B[38;5;28;01mraise\u001B[39;00m \u001B[38;5;167;01mTypeError\u001B[39;00m(\u001B[38;5;124mf\u001B[39m\u001B[38;5;124m\"\u001B[39m\u001B[38;5;124mcannot astype a timedelta from [\u001B[39m\u001B[38;5;132;01m{\u001B[39;00marr\u001B[38;5;241m.\u001B[39mdtype\u001B[38;5;132;01m}\u001B[39;00m\u001B[38;5;124m] to [\u001B[39m\u001B[38;5;132;01m{\u001B[39;00mdtype\u001B[38;5;132;01m}\u001B[39;00m\u001B[38;5;124m]\u001B[39m\u001B[38;5;124m\"\u001B[39m)\n\u001B[0;32m   1147\u001B[0m \u001B[38;5;28;01melif\u001B[39;00m np\u001B[38;5;241m.\u001B[39missubdtype(arr\u001B[38;5;241m.\u001B[39mdtype, np\u001B[38;5;241m.\u001B[39mfloating) \u001B[38;5;129;01mand\u001B[39;00m np\u001B[38;5;241m.\u001B[39missubdtype(dtype, np\u001B[38;5;241m.\u001B[39minteger):\n\u001B[1;32m-> 1148\u001B[0m     \u001B[38;5;28;01mreturn\u001B[39;00m \u001B[43mastype_float_to_int_nansafe\u001B[49m\u001B[43m(\u001B[49m\u001B[43marr\u001B[49m\u001B[43m,\u001B[49m\u001B[43m \u001B[49m\u001B[43mdtype\u001B[49m\u001B[43m,\u001B[49m\u001B[43m \u001B[49m\u001B[43mcopy\u001B[49m\u001B[43m)\u001B[49m\n\u001B[0;32m   1150\u001B[0m \u001B[38;5;28;01melif\u001B[39;00m is_object_dtype(arr\u001B[38;5;241m.\u001B[39mdtype):\n\u001B[0;32m   1151\u001B[0m \n\u001B[0;32m   1152\u001B[0m     \u001B[38;5;66;03m# work around NumPy brokenness, #1987\u001B[39;00m\n\u001B[0;32m   1153\u001B[0m     \u001B[38;5;28;01mif\u001B[39;00m np\u001B[38;5;241m.\u001B[39missubdtype(dtype\u001B[38;5;241m.\u001B[39mtype, np\u001B[38;5;241m.\u001B[39minteger):\n",
      "File \u001B[1;32mD:\\Anaconda\\envs\\data_analysis_project\\lib\\site-packages\\pandas\\core\\dtypes\\cast.py:1193\u001B[0m, in \u001B[0;36mastype_float_to_int_nansafe\u001B[1;34m(values, dtype, copy)\u001B[0m\n\u001B[0;32m   1189\u001B[0m \u001B[38;5;124;03m\"\"\"\u001B[39;00m\n\u001B[0;32m   1190\u001B[0m \u001B[38;5;124;03mastype with a check preventing converting NaN to an meaningless integer value.\u001B[39;00m\n\u001B[0;32m   1191\u001B[0m \u001B[38;5;124;03m\"\"\"\u001B[39;00m\n\u001B[0;32m   1192\u001B[0m \u001B[38;5;28;01mif\u001B[39;00m \u001B[38;5;129;01mnot\u001B[39;00m np\u001B[38;5;241m.\u001B[39misfinite(values)\u001B[38;5;241m.\u001B[39mall():\n\u001B[1;32m-> 1193\u001B[0m     \u001B[38;5;28;01mraise\u001B[39;00m IntCastingNaNError(\n\u001B[0;32m   1194\u001B[0m         \u001B[38;5;124m\"\u001B[39m\u001B[38;5;124mCannot convert non-finite values (NA or inf) to integer\u001B[39m\u001B[38;5;124m\"\u001B[39m\n\u001B[0;32m   1195\u001B[0m     )\n\u001B[0;32m   1196\u001B[0m \u001B[38;5;28;01mreturn\u001B[39;00m values\u001B[38;5;241m.\u001B[39mastype(dtype, copy\u001B[38;5;241m=\u001B[39mcopy)\n",
      "\u001B[1;31mIntCastingNaNError\u001B[0m: Cannot convert non-finite values (NA or inf) to integer"
     ]
    }
   ],
   "source": [
    "data = [[0, 95, 100, 105], [1, 70, None, 80]]\n",
    "Products = pd.DataFrame(data, columns=['product_id', 'store1', 'store2', 'store3']).astype({'product_id':'int64', 'store1':'int64', 'store2':'int64', 'store3':'int64'})"
   ],
   "metadata": {
    "collapsed": false,
    "ExecuteTime": {
     "end_time": "2023-08-27T08:59:34.157936600Z",
     "start_time": "2023-08-27T08:59:34.032585500Z"
    }
   },
   "id": "c43322d196c5a27f"
  },
  {
   "cell_type": "code",
   "execution_count": 26,
   "outputs": [
    {
     "ename": "NameError",
     "evalue": "name 'Products' is not defined",
     "output_type": "error",
     "traceback": [
      "\u001B[1;31m---------------------------------------------------------------------------\u001B[0m",
      "\u001B[1;31mNameError\u001B[0m                                 Traceback (most recent call last)",
      "Cell \u001B[1;32mIn[26], line 1\u001B[0m\n\u001B[1;32m----> 1\u001B[0m products \u001B[38;5;241m=\u001B[39m \u001B[43mProducts\u001B[49m\n\u001B[0;32m      2\u001B[0m df \u001B[38;5;241m=\u001B[39m products\u001B[38;5;241m.\u001B[39mmelt(\n\u001B[0;32m      3\u001B[0m     id_vars\u001B[38;5;241m=\u001B[39m\u001B[38;5;124m'\u001B[39m\u001B[38;5;124mproduct_id\u001B[39m\u001B[38;5;124m'\u001B[39m,\n\u001B[0;32m      4\u001B[0m     var_name\u001B[38;5;241m=\u001B[39m\u001B[38;5;124m'\u001B[39m\u001B[38;5;124mstore\u001B[39m\u001B[38;5;124m'\u001B[39m,\n\u001B[0;32m      5\u001B[0m     value_name\u001B[38;5;241m=\u001B[39m\u001B[38;5;124m'\u001B[39m\u001B[38;5;124mprice\u001B[39m\u001B[38;5;124m'\u001B[39m\n\u001B[0;32m      6\u001B[0m )\n\u001B[0;32m      7\u001B[0m df\n",
      "\u001B[1;31mNameError\u001B[0m: name 'Products' is not defined"
     ]
    }
   ],
   "source": [
    "products = Products\n",
    "df = products.melt(\n",
    "    id_vars='product_id',\n",
    "    var_name='store',\n",
    "    value_name='price'\n",
    ")\n",
    "df"
   ],
   "metadata": {
    "collapsed": false,
    "ExecuteTime": {
     "end_time": "2023-08-27T08:59:42.355143800Z",
     "start_time": "2023-08-27T08:59:42.314253500Z"
    }
   },
   "id": "98c3bf5cb40b5aca"
  },
  {
   "cell_type": "markdown",
   "source": [
    "## 2082. 富有客户的数量\n",
    "\n",
    "编写解决方案找出 至少有一个 订单的金额 严格大于 500 的客户的数量。"
   ],
   "metadata": {
    "collapsed": false
   },
   "id": "2fcb430cc9a6a3a5"
  },
  {
   "cell_type": "code",
   "execution_count": 27,
   "outputs": [],
   "source": [
    "data = [[6, 1, 549], [8, 1, 834], [4, 2, 394], [11, 3, 657], [13, 3, 257]]\n",
    "Store = pd.DataFrame(data, columns=['bill_id', 'customer_id', 'amount']).astype({'bill_id':'int64', 'customer_id':'int64', 'amount':'int64'})"
   ],
   "metadata": {
    "collapsed": false,
    "ExecuteTime": {
     "end_time": "2023-08-27T09:05:53.033948700Z",
     "start_time": "2023-08-27T09:05:52.992060600Z"
    }
   },
   "id": "146104316b5c17c2"
  },
  {
   "cell_type": "markdown",
   "source": [
    "金额超过 500 的票据将被过滤掉。随后，对生成的账单集进行处理以提取唯一的客户 ID。这是通过应用 Boolean Indexing 实现的，能够过滤满足条件 amount > 500 的行。"
   ],
   "metadata": {
    "collapsed": false
   },
   "id": "347291938a895380"
  },
  {
   "cell_type": "code",
   "execution_count": 28,
   "outputs": [
    {
     "data": {
      "text/plain": "   bill_id  customer_id  amount\n0        6            1     549\n1        8            1     834\n3       11            3     657",
      "text/html": "<div>\n<style scoped>\n    .dataframe tbody tr th:only-of-type {\n        vertical-align: middle;\n    }\n\n    .dataframe tbody tr th {\n        vertical-align: top;\n    }\n\n    .dataframe thead th {\n        text-align: right;\n    }\n</style>\n<table border=\"1\" class=\"dataframe\">\n  <thead>\n    <tr style=\"text-align: right;\">\n      <th></th>\n      <th>bill_id</th>\n      <th>customer_id</th>\n      <th>amount</th>\n    </tr>\n  </thead>\n  <tbody>\n    <tr>\n      <th>0</th>\n      <td>6</td>\n      <td>1</td>\n      <td>549</td>\n    </tr>\n    <tr>\n      <th>1</th>\n      <td>8</td>\n      <td>1</td>\n      <td>834</td>\n    </tr>\n    <tr>\n      <th>3</th>\n      <td>11</td>\n      <td>3</td>\n      <td>657</td>\n    </tr>\n  </tbody>\n</table>\n</div>"
     },
     "execution_count": 28,
     "metadata": {},
     "output_type": "execute_result"
    }
   ],
   "source": [
    "rich_customers = Store[Store['amount'] > 500]\n",
    "rich_customers"
   ],
   "metadata": {
    "collapsed": false,
    "ExecuteTime": {
     "end_time": "2023-08-27T09:23:27.810516100Z",
     "start_time": "2023-08-27T09:23:27.752672300Z"
    }
   },
   "id": "9dbca169af2344b"
  },
  {
   "cell_type": "code",
   "execution_count": 29,
   "outputs": [
    {
     "data": {
      "text/plain": "2"
     },
     "execution_count": 29,
     "metadata": {},
     "output_type": "execute_result"
    }
   ],
   "source": [
    "count = rich_customers['customer_id'].nunique()\n",
    "count "
   ],
   "metadata": {
    "collapsed": false,
    "ExecuteTime": {
     "end_time": "2023-08-27T09:23:44.666115Z",
     "start_time": "2023-08-27T09:23:44.588324300Z"
    }
   },
   "id": "450b80819e694160"
  },
  {
   "cell_type": "markdown",
   "source": [
    "## 1173. 即时食物配送 I\n",
    "\n",
    "如果顾客期望的配送日期和下单日期相同，则该订单称为 「即时订单」，否则称为「计划订单」。\n",
    "\n",
    "编写解决方案统计即时订单所占的百分比， 保留两位小数。"
   ],
   "metadata": {
    "collapsed": false
   },
   "id": "c3c70e75e732e146"
  },
  {
   "cell_type": "code",
   "execution_count": 30,
   "outputs": [],
   "source": [
    "data = [[1, 1, '2019-08-01', '2019-08-02'], [2, 5, '2019-08-02', '2019-08-02'], [3, 1, '2019-08-11', '2019-08-11'], [4, 3, '2019-08-24', '2019-08-26'], [5, 4, '2019-08-21', '2019-08-22'], [6, 2, '2019-08-11', '2019-08-13']]\n",
    "Delivery = pd.DataFrame(data, columns=['delivery_id', 'customer_id', 'order_date', 'customer_pref_delivery_date']).astype({'delivery_id':'Int64', 'customer_id':'Int64', 'order_date':'datetime64[ns]', 'customer_pref_delivery_date':'datetime64[ns]'})"
   ],
   "metadata": {
    "collapsed": false,
    "ExecuteTime": {
     "end_time": "2023-08-27T09:27:04.337707600Z",
     "start_time": "2023-08-27T09:27:04.283852700Z"
    }
   },
   "id": "6ddd709dbecd589c"
  },
  {
   "cell_type": "code",
   "execution_count": 32,
   "outputs": [
    {
     "data": {
      "text/plain": "   delivery_id  customer_id order_date customer_pref_delivery_date\n1            2            5 2019-08-02                  2019-08-02\n2            3            1 2019-08-11                  2019-08-11",
      "text/html": "<div>\n<style scoped>\n    .dataframe tbody tr th:only-of-type {\n        vertical-align: middle;\n    }\n\n    .dataframe tbody tr th {\n        vertical-align: top;\n    }\n\n    .dataframe thead th {\n        text-align: right;\n    }\n</style>\n<table border=\"1\" class=\"dataframe\">\n  <thead>\n    <tr style=\"text-align: right;\">\n      <th></th>\n      <th>delivery_id</th>\n      <th>customer_id</th>\n      <th>order_date</th>\n      <th>customer_pref_delivery_date</th>\n    </tr>\n  </thead>\n  <tbody>\n    <tr>\n      <th>1</th>\n      <td>2</td>\n      <td>5</td>\n      <td>2019-08-02</td>\n      <td>2019-08-02</td>\n    </tr>\n    <tr>\n      <th>2</th>\n      <td>3</td>\n      <td>1</td>\n      <td>2019-08-11</td>\n      <td>2019-08-11</td>\n    </tr>\n  </tbody>\n</table>\n</div>"
     },
     "execution_count": 32,
     "metadata": {},
     "output_type": "execute_result"
    }
   ],
   "source": [
    "df = Delivery[Delivery['order_date'] == Delivery['customer_pref_delivery_date']]\n",
    "df"
   ],
   "metadata": {
    "collapsed": false,
    "ExecuteTime": {
     "end_time": "2023-08-27T09:28:10.440045600Z",
     "start_time": "2023-08-27T09:28:10.407097400Z"
    }
   },
   "id": "9213087b3674bad2"
  },
  {
   "cell_type": "code",
   "execution_count": 34,
   "outputs": [
    {
     "data": {
      "text/plain": "0.3333333333333333"
     },
     "execution_count": 34,
     "metadata": {},
     "output_type": "execute_result"
    }
   ],
   "source": [
    "res = len(df)/len(Delivery)\n",
    "res"
   ],
   "metadata": {
    "collapsed": false,
    "ExecuteTime": {
     "end_time": "2023-08-27T09:28:56.566354400Z",
     "start_time": "2023-08-27T09:28:56.530267400Z"
    }
   },
   "id": "7aaa905f1fe1f56f"
  },
  {
   "cell_type": "markdown",
   "source": [
    "## 1907. 按分类统计薪水\n",
    "\n",
    "查询每个工资类别的银行账户数量。 工资类别如下：\n",
    "\n",
    "\"Low Salary\"：所有工资 严格低于 20000 美元。\n",
    "\"Average Salary\"： 包含 范围内的所有工资 [$20000, $50000] 。\n",
    "\"High Salary\"：所有工资 严格大于 50000 美元。\n",
    "\n",
    "结果表 必须 包含所有三个类别。 如果某个类别中没有帐户，则报告 0 。"
   ],
   "metadata": {
    "collapsed": false
   },
   "id": "46f532b8ae9db215"
  },
  {
   "cell_type": "code",
   "execution_count": 35,
   "outputs": [],
   "source": [
    "data = [[3, 108939], [2, 12747], [8, 87709], [6, 91796]]\n",
    "Accounts = pd.DataFrame(data, columns=['account_id', 'income']).astype({'account_id':'Int64', 'income':'Int64'})"
   ],
   "metadata": {
    "collapsed": false,
    "ExecuteTime": {
     "end_time": "2023-08-27T09:55:15.061312200Z",
     "start_time": "2023-08-27T09:55:15.010539300Z"
    }
   },
   "id": "def1d80ab8b2d016"
  },
  {
   "cell_type": "code",
   "execution_count": 36,
   "outputs": [],
   "source": [
    "accounts = Accounts\n",
    "low_count = (accounts['income'] < 20000).sum()\n",
    "average_count = ((accounts['income'] >= 20000) & (accounts['income'] <= 50000)).sum()\n",
    "high_count = (accounts['income'] > 50000).sum()"
   ],
   "metadata": {
    "collapsed": false,
    "ExecuteTime": {
     "end_time": "2023-08-27T09:56:26.918835500Z",
     "start_time": "2023-08-27T09:56:26.865974600Z"
    }
   },
   "id": "75d64b796c1b8de9"
  },
  {
   "cell_type": "code",
   "execution_count": 37,
   "outputs": [
    {
     "data": {
      "text/plain": "         category  accounts_count\n0      Low Salary               1\n1  Average Salary               0\n2     High Salary               3",
      "text/html": "<div>\n<style scoped>\n    .dataframe tbody tr th:only-of-type {\n        vertical-align: middle;\n    }\n\n    .dataframe tbody tr th {\n        vertical-align: top;\n    }\n\n    .dataframe thead th {\n        text-align: right;\n    }\n</style>\n<table border=\"1\" class=\"dataframe\">\n  <thead>\n    <tr style=\"text-align: right;\">\n      <th></th>\n      <th>category</th>\n      <th>accounts_count</th>\n    </tr>\n  </thead>\n  <tbody>\n    <tr>\n      <th>0</th>\n      <td>Low Salary</td>\n      <td>1</td>\n    </tr>\n    <tr>\n      <th>1</th>\n      <td>Average Salary</td>\n      <td>0</td>\n    </tr>\n    <tr>\n      <th>2</th>\n      <td>High Salary</td>\n      <td>3</td>\n    </tr>\n  </tbody>\n</table>\n</div>"
     },
     "execution_count": 37,
     "metadata": {},
     "output_type": "execute_result"
    }
   ],
   "source": [
    "ans = pd.DataFrame({\n",
    "    'category': ['Low Salary', 'Average Salary', 'High Salary'],\n",
    "    'accounts_count': [low_count, average_count, high_count]\n",
    "})\n",
    "\n",
    "ans"
   ],
   "metadata": {
    "collapsed": false,
    "ExecuteTime": {
     "end_time": "2023-08-27T09:56:34.771458600Z",
     "start_time": "2023-08-27T09:56:34.729571500Z"
    }
   },
   "id": "c556cdbbeee65704"
  },
  {
   "cell_type": "markdown",
   "source": [
    "## 1741. 查找每个员工花费的总时间\n",
    "\n",
    "计算每位员工每天在办公室花费的总时间（以分钟为单位）。 请注意，在一天之内，同一员工是可以多次进入和离开办公室的。 在办公室里一次进出所花费的时间为out_time 减去 in_time。\n",
    "返回结果表单的顺序无要求。"
   ],
   "metadata": {
    "collapsed": false
   },
   "id": "8e8160d434278424"
  },
  {
   "cell_type": "code",
   "execution_count": 3,
   "outputs": [],
   "source": [
    "data = [['1', '2020-11-28', '4', '32'], ['1', '2020-11-28', '55', '200'], ['1', '2020-12-3', '1', '42'], ['2', '2020-11-28', '3', '33'], ['2', '2020-12-9', '47', '74']]\n",
    "Employees = pd.DataFrame(data, columns=['emp_id', 'event_day', 'in_time', 'out_time']).astype({'emp_id':'Int64', 'event_day':'datetime64[ns]', 'in_time':'Int64', 'out_time':'Int64'})"
   ],
   "metadata": {
    "collapsed": false,
    "ExecuteTime": {
     "end_time": "2023-08-30T07:32:34.429809Z",
     "start_time": "2023-08-30T07:32:34.398891900Z"
    }
   },
   "id": "b5d40b5e9fed8031"
  },
  {
   "cell_type": "code",
   "execution_count": 4,
   "outputs": [
    {
     "data": {
      "text/plain": "   emp_id  event_day  in_time  out_time  total_time\n0       1 2020-11-28        4        32          28\n1       1 2020-11-28       55       200         145\n2       1 2020-12-03        1        42          41\n3       2 2020-11-28        3        33          30\n4       2 2020-12-09       47        74          27",
      "text/html": "<div>\n<style scoped>\n    .dataframe tbody tr th:only-of-type {\n        vertical-align: middle;\n    }\n\n    .dataframe tbody tr th {\n        vertical-align: top;\n    }\n\n    .dataframe thead th {\n        text-align: right;\n    }\n</style>\n<table border=\"1\" class=\"dataframe\">\n  <thead>\n    <tr style=\"text-align: right;\">\n      <th></th>\n      <th>emp_id</th>\n      <th>event_day</th>\n      <th>in_time</th>\n      <th>out_time</th>\n      <th>total_time</th>\n    </tr>\n  </thead>\n  <tbody>\n    <tr>\n      <th>0</th>\n      <td>1</td>\n      <td>2020-11-28</td>\n      <td>4</td>\n      <td>32</td>\n      <td>28</td>\n    </tr>\n    <tr>\n      <th>1</th>\n      <td>1</td>\n      <td>2020-11-28</td>\n      <td>55</td>\n      <td>200</td>\n      <td>145</td>\n    </tr>\n    <tr>\n      <th>2</th>\n      <td>1</td>\n      <td>2020-12-03</td>\n      <td>1</td>\n      <td>42</td>\n      <td>41</td>\n    </tr>\n    <tr>\n      <th>3</th>\n      <td>2</td>\n      <td>2020-11-28</td>\n      <td>3</td>\n      <td>33</td>\n      <td>30</td>\n    </tr>\n    <tr>\n      <th>4</th>\n      <td>2</td>\n      <td>2020-12-09</td>\n      <td>47</td>\n      <td>74</td>\n      <td>27</td>\n    </tr>\n  </tbody>\n</table>\n</div>"
     },
     "execution_count": 4,
     "metadata": {},
     "output_type": "execute_result"
    }
   ],
   "source": [
    "employees = Employees\n",
    "employees[\"total_time\"] = employees[\"out_time\"]-employees[\"in_time\"]\n",
    "employees"
   ],
   "metadata": {
    "collapsed": false,
    "ExecuteTime": {
     "end_time": "2023-08-30T07:37:37.321957500Z",
     "start_time": "2023-08-30T07:37:37.259127200Z"
    }
   },
   "id": "4d65a865363a460f"
  },
  {
   "cell_type": "code",
   "execution_count": 5,
   "outputs": [
    {
     "data": {
      "text/plain": "   event_day  emp_id  total_time\n0 2020-11-28       1         173\n1 2020-11-28       2          30\n2 2020-12-03       1          41\n3 2020-12-09       2          27",
      "text/html": "<div>\n<style scoped>\n    .dataframe tbody tr th:only-of-type {\n        vertical-align: middle;\n    }\n\n    .dataframe tbody tr th {\n        vertical-align: top;\n    }\n\n    .dataframe thead th {\n        text-align: right;\n    }\n</style>\n<table border=\"1\" class=\"dataframe\">\n  <thead>\n    <tr style=\"text-align: right;\">\n      <th></th>\n      <th>event_day</th>\n      <th>emp_id</th>\n      <th>total_time</th>\n    </tr>\n  </thead>\n  <tbody>\n    <tr>\n      <th>0</th>\n      <td>2020-11-28</td>\n      <td>1</td>\n      <td>173</td>\n    </tr>\n    <tr>\n      <th>1</th>\n      <td>2020-11-28</td>\n      <td>2</td>\n      <td>30</td>\n    </tr>\n    <tr>\n      <th>2</th>\n      <td>2020-12-03</td>\n      <td>1</td>\n      <td>41</td>\n    </tr>\n    <tr>\n      <th>3</th>\n      <td>2020-12-09</td>\n      <td>2</td>\n      <td>27</td>\n    </tr>\n  </tbody>\n</table>\n</div>"
     },
     "execution_count": 5,
     "metadata": {},
     "output_type": "execute_result"
    }
   ],
   "source": [
    "employees = employees.groupby(['event_day','emp_id'])[\"total_time\"].sum().reset_index()\n",
    "employees"
   ],
   "metadata": {
    "collapsed": false,
    "ExecuteTime": {
     "end_time": "2023-08-30T07:39:00.504977800Z",
     "start_time": "2023-08-30T07:39:00.448132Z"
    }
   },
   "id": "6feeff81ea1c4251"
  },
  {
   "cell_type": "markdown",
   "source": [
    "## 511. 游戏玩法分析 I\n",
    "查询每位玩家 第一次登陆平台的日期。"
   ],
   "metadata": {
    "collapsed": false
   },
   "id": "a1aaf0ba65e1be1b"
  },
  {
   "cell_type": "code",
   "execution_count": 19,
   "outputs": [],
   "source": [
    "data = [[1, 2, '2016-03-01', 5], [1, 2, '2016-05-02', 6], [2, 3, '2017-06-25', 1], [3, 1, '2016-03-02', 0], [3, 4, '2018-07-03', 5]]\n",
    "Activity = pd.DataFrame(data, columns=['player_id', 'device_id', 'event_date', 'games_played']).astype({'player_id':'Int64', 'device_id':'Int64', 'event_date':'datetime64[ns]', 'games_played':'Int64'})"
   ],
   "metadata": {
    "collapsed": false,
    "ExecuteTime": {
     "end_time": "2023-08-30T08:53:34.053109400Z",
     "start_time": "2023-08-30T08:53:34.031167800Z"
    }
   },
   "id": "f2796bce78010800"
  },
  {
   "cell_type": "code",
   "execution_count": 20,
   "outputs": [
    {
     "data": {
      "text/plain": "   player_id  device_id event_date  games_played\n0          1          2 2016-03-01             5\n3          3          1 2016-03-02             0\n1          1          2 2016-05-02             6\n2          2          3 2017-06-25             1\n4          3          4 2018-07-03             5",
      "text/html": "<div>\n<style scoped>\n    .dataframe tbody tr th:only-of-type {\n        vertical-align: middle;\n    }\n\n    .dataframe tbody tr th {\n        vertical-align: top;\n    }\n\n    .dataframe thead th {\n        text-align: right;\n    }\n</style>\n<table border=\"1\" class=\"dataframe\">\n  <thead>\n    <tr style=\"text-align: right;\">\n      <th></th>\n      <th>player_id</th>\n      <th>device_id</th>\n      <th>event_date</th>\n      <th>games_played</th>\n    </tr>\n  </thead>\n  <tbody>\n    <tr>\n      <th>0</th>\n      <td>1</td>\n      <td>2</td>\n      <td>2016-03-01</td>\n      <td>5</td>\n    </tr>\n    <tr>\n      <th>3</th>\n      <td>3</td>\n      <td>1</td>\n      <td>2016-03-02</td>\n      <td>0</td>\n    </tr>\n    <tr>\n      <th>1</th>\n      <td>1</td>\n      <td>2</td>\n      <td>2016-05-02</td>\n      <td>6</td>\n    </tr>\n    <tr>\n      <th>2</th>\n      <td>2</td>\n      <td>3</td>\n      <td>2017-06-25</td>\n      <td>1</td>\n    </tr>\n    <tr>\n      <th>4</th>\n      <td>3</td>\n      <td>4</td>\n      <td>2018-07-03</td>\n      <td>5</td>\n    </tr>\n  </tbody>\n</table>\n</div>"
     },
     "execution_count": 20,
     "metadata": {},
     "output_type": "execute_result"
    }
   ],
   "source": [
    "activity = Activity\n",
    "activity = activity.sort_values(\"event_date\")\n",
    "activity"
   ],
   "metadata": {
    "collapsed": false,
    "ExecuteTime": {
     "end_time": "2023-08-30T08:53:35.097746600Z",
     "start_time": "2023-08-30T08:53:35.066830200Z"
    }
   },
   "id": "c8f4ac8e196dec0e"
  },
  {
   "cell_type": "code",
   "execution_count": 14,
   "outputs": [
    {
     "data": {
      "text/plain": "   player_id  device_id event_date  games_played\n0          1          2 2016-03-01             5\n3          3          1 2016-03-02             0\n2          2          3 2017-06-25             1",
      "text/html": "<div>\n<style scoped>\n    .dataframe tbody tr th:only-of-type {\n        vertical-align: middle;\n    }\n\n    .dataframe tbody tr th {\n        vertical-align: top;\n    }\n\n    .dataframe thead th {\n        text-align: right;\n    }\n</style>\n<table border=\"1\" class=\"dataframe\">\n  <thead>\n    <tr style=\"text-align: right;\">\n      <th></th>\n      <th>player_id</th>\n      <th>device_id</th>\n      <th>event_date</th>\n      <th>games_played</th>\n    </tr>\n  </thead>\n  <tbody>\n    <tr>\n      <th>0</th>\n      <td>1</td>\n      <td>2</td>\n      <td>2016-03-01</td>\n      <td>5</td>\n    </tr>\n    <tr>\n      <th>3</th>\n      <td>3</td>\n      <td>1</td>\n      <td>2016-03-02</td>\n      <td>0</td>\n    </tr>\n    <tr>\n      <th>2</th>\n      <td>2</td>\n      <td>3</td>\n      <td>2017-06-25</td>\n      <td>1</td>\n    </tr>\n  </tbody>\n</table>\n</div>"
     },
     "execution_count": 14,
     "metadata": {},
     "output_type": "execute_result"
    }
   ],
   "source": [
    "activity = activity.drop_duplicates(\"player_id\")\n",
    "activity"
   ],
   "metadata": {
    "collapsed": false,
    "ExecuteTime": {
     "end_time": "2023-08-30T08:30:42.541224800Z",
     "start_time": "2023-08-30T08:30:42.500333700Z"
    }
   },
   "id": "484cfd44f9ace42f"
  },
  {
   "cell_type": "code",
   "execution_count": 15,
   "outputs": [
    {
     "data": {
      "text/plain": "   player_id  device_id event_date  games_played\n0          1          2 2016-03-01             5\n2          2          3 2017-06-25             1\n3          3          1 2016-03-02             0",
      "text/html": "<div>\n<style scoped>\n    .dataframe tbody tr th:only-of-type {\n        vertical-align: middle;\n    }\n\n    .dataframe tbody tr th {\n        vertical-align: top;\n    }\n\n    .dataframe thead th {\n        text-align: right;\n    }\n</style>\n<table border=\"1\" class=\"dataframe\">\n  <thead>\n    <tr style=\"text-align: right;\">\n      <th></th>\n      <th>player_id</th>\n      <th>device_id</th>\n      <th>event_date</th>\n      <th>games_played</th>\n    </tr>\n  </thead>\n  <tbody>\n    <tr>\n      <th>0</th>\n      <td>1</td>\n      <td>2</td>\n      <td>2016-03-01</td>\n      <td>5</td>\n    </tr>\n    <tr>\n      <th>2</th>\n      <td>2</td>\n      <td>3</td>\n      <td>2017-06-25</td>\n      <td>1</td>\n    </tr>\n    <tr>\n      <th>3</th>\n      <td>3</td>\n      <td>1</td>\n      <td>2016-03-02</td>\n      <td>0</td>\n    </tr>\n  </tbody>\n</table>\n</div>"
     },
     "execution_count": 15,
     "metadata": {},
     "output_type": "execute_result"
    }
   ],
   "source": [
    "activity = activity.sort_values(\"player_id\")\n",
    "activity"
   ],
   "metadata": {
    "collapsed": false,
    "ExecuteTime": {
     "end_time": "2023-08-30T08:48:26.289678700Z",
     "start_time": "2023-08-30T08:48:26.219706600Z"
    }
   },
   "id": "1a394bc814a6d02"
  },
  {
   "cell_type": "markdown",
   "source": [
    "我们可以使用 groupby() 函数来按 activity 中的 player_id 列分组数据，这使得我们可以根据唯一的玩家ID对数据进行分析。一旦按 player_id 分组数据，我们选择 event_date 列并对该列应用 min() 函数，从而找到每个 player_id 组内的最小（最早）日期。这将给我们每个玩家的第一个登录日期。\n"
   ],
   "metadata": {
    "collapsed": false
   },
   "id": "5414452ba09f9603"
  },
  {
   "cell_type": "code",
   "execution_count": 21,
   "outputs": [
    {
     "data": {
      "text/plain": "   player_id event_date\n0          1 2016-03-01\n1          2 2017-06-25\n2          3 2016-03-02",
      "text/html": "<div>\n<style scoped>\n    .dataframe tbody tr th:only-of-type {\n        vertical-align: middle;\n    }\n\n    .dataframe tbody tr th {\n        vertical-align: top;\n    }\n\n    .dataframe thead th {\n        text-align: right;\n    }\n</style>\n<table border=\"1\" class=\"dataframe\">\n  <thead>\n    <tr style=\"text-align: right;\">\n      <th></th>\n      <th>player_id</th>\n      <th>event_date</th>\n    </tr>\n  </thead>\n  <tbody>\n    <tr>\n      <th>0</th>\n      <td>1</td>\n      <td>2016-03-01</td>\n    </tr>\n    <tr>\n      <th>1</th>\n      <td>2</td>\n      <td>2017-06-25</td>\n    </tr>\n    <tr>\n      <th>2</th>\n      <td>3</td>\n      <td>2016-03-02</td>\n    </tr>\n  </tbody>\n</table>\n</div>"
     },
     "execution_count": 21,
     "metadata": {},
     "output_type": "execute_result"
    }
   ],
   "source": [
    "df = activity.groupby('player_id')['event_date'].min().reset_index()\n",
    "df"
   ],
   "metadata": {
    "collapsed": false,
    "ExecuteTime": {
     "end_time": "2023-08-30T08:53:38.613399700Z",
     "start_time": "2023-08-30T08:53:38.581597600Z"
    }
   },
   "id": "aefaef8dc6bb129a"
  },
  {
   "cell_type": "code",
   "execution_count": 22,
   "outputs": [
    {
     "data": {
      "text/plain": "   player_id first_login\n0          1  2016-03-01\n1          2  2017-06-25\n2          3  2016-03-02",
      "text/html": "<div>\n<style scoped>\n    .dataframe tbody tr th:only-of-type {\n        vertical-align: middle;\n    }\n\n    .dataframe tbody tr th {\n        vertical-align: top;\n    }\n\n    .dataframe thead th {\n        text-align: right;\n    }\n</style>\n<table border=\"1\" class=\"dataframe\">\n  <thead>\n    <tr style=\"text-align: right;\">\n      <th></th>\n      <th>player_id</th>\n      <th>first_login</th>\n    </tr>\n  </thead>\n  <tbody>\n    <tr>\n      <th>0</th>\n      <td>1</td>\n      <td>2016-03-01</td>\n    </tr>\n    <tr>\n      <th>1</th>\n      <td>2</td>\n      <td>2017-06-25</td>\n    </tr>\n    <tr>\n      <th>2</th>\n      <td>3</td>\n      <td>2016-03-02</td>\n    </tr>\n  </tbody>\n</table>\n</div>"
     },
     "execution_count": 22,
     "metadata": {},
     "output_type": "execute_result"
    }
   ],
   "source": [
    "df.rename(columns = {'event_date':'first_login'})"
   ],
   "metadata": {
    "collapsed": false,
    "ExecuteTime": {
     "end_time": "2023-08-30T08:53:48.091285Z",
     "start_time": "2023-08-30T08:53:48.038189400Z"
    }
   },
   "id": "15aeb97885d7ed7d"
  },
  {
   "cell_type": "markdown",
   "source": [
    "## 2356. 每位教师所教授的科目种类的数量\n",
    "\n",
    "查询每位老师在大学里教授的科目种类的数量。\n",
    "以 任意顺序 返回结果表。"
   ],
   "metadata": {
    "collapsed": false
   },
   "id": "33fffbb24b5dff6b"
  },
  {
   "cell_type": "code",
   "execution_count": 23,
   "outputs": [],
   "source": [
    "data = [[1, 2, 3], [1, 2, 4], [1, 3, 3], [2, 1, 1], [2, 2, 1], [2, 3, 1], [2, 4, 1]]\n",
    "Teacher = pd.DataFrame(data, columns=['teacher_id', 'subject_id', 'dept_id']).astype({'teacher_id':'Int64', 'subject_id':'Int64', 'dept_id':'Int64'})"
   ],
   "metadata": {
    "collapsed": false,
    "ExecuteTime": {
     "end_time": "2023-08-30T09:10:54.952723100Z",
     "start_time": "2023-08-30T09:10:54.876801900Z"
    }
   },
   "id": "2a2ee17202276cc6"
  },
  {
   "cell_type": "code",
   "execution_count": 33,
   "outputs": [
    {
     "data": {
      "text/plain": "   teacher_id  subject_id\n0           1           2\n1           2           4",
      "text/html": "<div>\n<style scoped>\n    .dataframe tbody tr th:only-of-type {\n        vertical-align: middle;\n    }\n\n    .dataframe tbody tr th {\n        vertical-align: top;\n    }\n\n    .dataframe thead th {\n        text-align: right;\n    }\n</style>\n<table border=\"1\" class=\"dataframe\">\n  <thead>\n    <tr style=\"text-align: right;\">\n      <th></th>\n      <th>teacher_id</th>\n      <th>subject_id</th>\n    </tr>\n  </thead>\n  <tbody>\n    <tr>\n      <th>0</th>\n      <td>1</td>\n      <td>2</td>\n    </tr>\n    <tr>\n      <th>1</th>\n      <td>2</td>\n      <td>4</td>\n    </tr>\n  </tbody>\n</table>\n</div>"
     },
     "execution_count": 33,
     "metadata": {},
     "output_type": "execute_result"
    }
   ],
   "source": [
    "teacher = Teacher\n",
    "df = teacher.groupby(\"teacher_id\")[\"subject_id\"].nunique().reset_index()\n",
    "df"
   ],
   "metadata": {
    "collapsed": false,
    "ExecuteTime": {
     "end_time": "2023-08-30T09:23:06.437182Z",
     "start_time": "2023-08-30T09:23:06.396120200Z"
    }
   },
   "id": "ca94c7ff1d9030ef"
  },
  {
   "cell_type": "code",
   "execution_count": 34,
   "outputs": [
    {
     "data": {
      "text/plain": "   teacher_id  cnt\n0           1    2\n1           2    4",
      "text/html": "<div>\n<style scoped>\n    .dataframe tbody tr th:only-of-type {\n        vertical-align: middle;\n    }\n\n    .dataframe tbody tr th {\n        vertical-align: top;\n    }\n\n    .dataframe thead th {\n        text-align: right;\n    }\n</style>\n<table border=\"1\" class=\"dataframe\">\n  <thead>\n    <tr style=\"text-align: right;\">\n      <th></th>\n      <th>teacher_id</th>\n      <th>cnt</th>\n    </tr>\n  </thead>\n  <tbody>\n    <tr>\n      <th>0</th>\n      <td>1</td>\n      <td>2</td>\n    </tr>\n    <tr>\n      <th>1</th>\n      <td>2</td>\n      <td>4</td>\n    </tr>\n  </tbody>\n</table>\n</div>"
     },
     "execution_count": 34,
     "metadata": {},
     "output_type": "execute_result"
    }
   ],
   "source": [
    "df = df.rename(columns={\"subject_id\":\"cnt\"})\n",
    "df"
   ],
   "metadata": {
    "collapsed": false,
    "ExecuteTime": {
     "end_time": "2023-08-30T09:23:07.118976700Z",
     "start_time": "2023-08-30T09:23:07.099338Z"
    }
   },
   "id": "6f9a24e79cb75b08"
  },
  {
   "cell_type": "markdown",
   "source": [
    "## 596. 超过5名学生的课\n",
    "查询 至少有5个学生 的所有班级。\n",
    "\n",
    "以 任意顺序 返回结果表。"
   ],
   "metadata": {
    "collapsed": false
   },
   "id": "c2d7c60e3e507f77"
  },
  {
   "cell_type": "code",
   "execution_count": 35,
   "outputs": [],
   "source": [
    "data = [['A', 'Math'], ['B', 'English'], ['C', 'Math'], ['D', 'Biology'], ['E', 'Math'], ['F', 'Computer'], ['G', 'Math'], ['H', 'Math'], ['I', 'Math']]\n",
    "Courses = pd.DataFrame(data, columns=['student', 'class']).astype({'student':'object', 'class':'object'})"
   ],
   "metadata": {
    "collapsed": false,
    "ExecuteTime": {
     "end_time": "2023-08-30T09:43:53.964500Z",
     "start_time": "2023-08-30T09:43:53.903665200Z"
    }
   },
   "id": "5b0397b4210b1f66"
  },
  {
   "cell_type": "code",
   "execution_count": 40,
   "outputs": [
    {
     "data": {
      "text/plain": "      class  student\n0   Biology        1\n1  Computer        1\n2   English        1\n3      Math        6",
      "text/html": "<div>\n<style scoped>\n    .dataframe tbody tr th:only-of-type {\n        vertical-align: middle;\n    }\n\n    .dataframe tbody tr th {\n        vertical-align: top;\n    }\n\n    .dataframe thead th {\n        text-align: right;\n    }\n</style>\n<table border=\"1\" class=\"dataframe\">\n  <thead>\n    <tr style=\"text-align: right;\">\n      <th></th>\n      <th>class</th>\n      <th>student</th>\n    </tr>\n  </thead>\n  <tbody>\n    <tr>\n      <th>0</th>\n      <td>Biology</td>\n      <td>1</td>\n    </tr>\n    <tr>\n      <th>1</th>\n      <td>Computer</td>\n      <td>1</td>\n    </tr>\n    <tr>\n      <th>2</th>\n      <td>English</td>\n      <td>1</td>\n    </tr>\n    <tr>\n      <th>3</th>\n      <td>Math</td>\n      <td>6</td>\n    </tr>\n  </tbody>\n</table>\n</div>"
     },
     "execution_count": 40,
     "metadata": {},
     "output_type": "execute_result"
    }
   ],
   "source": [
    "courses = Courses\n",
    "res = courses.groupby(\"class\")[\"student\"].nunique().reset_index()\n",
    "res"
   ],
   "metadata": {
    "collapsed": false,
    "ExecuteTime": {
     "end_time": "2023-08-30T09:47:46.973429600Z",
     "start_time": "2023-08-30T09:47:46.904568Z"
    }
   },
   "id": "4ee3e1a65244be27"
  },
  {
   "cell_type": "code",
   "execution_count": 41,
   "outputs": [
    {
     "data": {
      "text/plain": "  class  student\n3  Math        6",
      "text/html": "<div>\n<style scoped>\n    .dataframe tbody tr th:only-of-type {\n        vertical-align: middle;\n    }\n\n    .dataframe tbody tr th {\n        vertical-align: top;\n    }\n\n    .dataframe thead th {\n        text-align: right;\n    }\n</style>\n<table border=\"1\" class=\"dataframe\">\n  <thead>\n    <tr style=\"text-align: right;\">\n      <th></th>\n      <th>class</th>\n      <th>student</th>\n    </tr>\n  </thead>\n  <tbody>\n    <tr>\n      <th>3</th>\n      <td>Math</td>\n      <td>6</td>\n    </tr>\n  </tbody>\n</table>\n</div>"
     },
     "execution_count": 41,
     "metadata": {},
     "output_type": "execute_result"
    }
   ],
   "source": [
    "df = res[res[\"student\"]>=5]\n",
    "df"
   ],
   "metadata": {
    "collapsed": false,
    "ExecuteTime": {
     "end_time": "2023-08-30T09:47:48.202350900Z",
     "start_time": "2023-08-30T09:47:48.158459700Z"
    }
   },
   "id": "5c25c6198d600b9c"
  },
  {
   "cell_type": "markdown",
   "source": [
    "## 586. 订单最多的客户\n",
    "\n",
    "查找下了 最多订单 的客户的 customer_number 。\n",
    "测试用例生成后， 恰好有一个客户 比任何其他客户下了更多的订单。"
   ],
   "metadata": {
    "collapsed": false
   },
   "id": "ce595e9422b2090c"
  },
  {
   "cell_type": "code",
   "execution_count": 22,
   "outputs": [],
   "source": [
    "data = [[1, 1], [2, 2], [3, 3], [4, 3]]\n",
    "orders = pd.DataFrame(data, columns=['order_number', 'customer_number']).astype({'order_number':'Int64', 'customer_number':'Int64'})"
   ],
   "metadata": {
    "collapsed": false,
    "ExecuteTime": {
     "end_time": "2023-08-31T07:49:17.066033Z",
     "start_time": "2023-08-31T07:49:17.037102500Z"
    }
   },
   "id": "665de4a7216a4c93"
  },
  {
   "cell_type": "code",
   "execution_count": 23,
   "outputs": [
    {
     "data": {
      "text/plain": "   customer_number  count\n0                1      1\n1                2      1\n2                3      2",
      "text/html": "<div>\n<style scoped>\n    .dataframe tbody tr th:only-of-type {\n        vertical-align: middle;\n    }\n\n    .dataframe tbody tr th {\n        vertical-align: top;\n    }\n\n    .dataframe thead th {\n        text-align: right;\n    }\n</style>\n<table border=\"1\" class=\"dataframe\">\n  <thead>\n    <tr style=\"text-align: right;\">\n      <th></th>\n      <th>customer_number</th>\n      <th>count</th>\n    </tr>\n  </thead>\n  <tbody>\n    <tr>\n      <th>0</th>\n      <td>1</td>\n      <td>1</td>\n    </tr>\n    <tr>\n      <th>1</th>\n      <td>2</td>\n      <td>1</td>\n    </tr>\n    <tr>\n      <th>2</th>\n      <td>3</td>\n      <td>2</td>\n    </tr>\n  </tbody>\n</table>\n</div>"
     },
     "execution_count": 23,
     "metadata": {},
     "output_type": "execute_result"
    }
   ],
   "source": [
    "orders = orders.groupby(\"customer_number\")[\"order_number\"].nunique().reset_index(name='count')\n",
    "orders"
   ],
   "metadata": {
    "collapsed": false,
    "ExecuteTime": {
     "end_time": "2023-08-31T07:49:17.686439300Z",
     "start_time": "2023-08-31T07:49:17.660509200Z"
    }
   },
   "id": "e13f759d6c8e50d"
  },
  {
   "cell_type": "markdown",
   "source": [
    "一旦我们获得了每个客户的订单数量，我们可以按照 count 列进行降序排序"
   ],
   "metadata": {
    "collapsed": false
   },
   "id": "73f8fff996d6693c"
  },
  {
   "cell_type": "code",
   "execution_count": 24,
   "outputs": [
    {
     "data": {
      "text/plain": "   customer_number  count\n2                3      2\n0                1      1\n1                2      1",
      "text/html": "<div>\n<style scoped>\n    .dataframe tbody tr th:only-of-type {\n        vertical-align: middle;\n    }\n\n    .dataframe tbody tr th {\n        vertical-align: top;\n    }\n\n    .dataframe thead th {\n        text-align: right;\n    }\n</style>\n<table border=\"1\" class=\"dataframe\">\n  <thead>\n    <tr style=\"text-align: right;\">\n      <th></th>\n      <th>customer_number</th>\n      <th>count</th>\n    </tr>\n  </thead>\n  <tbody>\n    <tr>\n      <th>2</th>\n      <td>3</td>\n      <td>2</td>\n    </tr>\n    <tr>\n      <th>0</th>\n      <td>1</td>\n      <td>1</td>\n    </tr>\n    <tr>\n      <th>1</th>\n      <td>2</td>\n      <td>1</td>\n    </tr>\n  </tbody>\n</table>\n</div>"
     },
     "execution_count": 24,
     "metadata": {},
     "output_type": "execute_result"
    }
   ],
   "source": [
    "df = orders.sort_values(by='count',ascending=False,inplace=False)\n",
    "df"
   ],
   "metadata": {
    "collapsed": false,
    "ExecuteTime": {
     "end_time": "2023-08-31T07:50:37.915065400Z",
     "start_time": "2023-08-31T07:50:37.886141200Z"
    }
   },
   "id": "69506199b2927f1"
  },
  {
   "cell_type": "markdown",
   "source": [
    "接下来，我们返回第一行中的 customer_number，这表示下了最多订单的客户"
   ],
   "metadata": {
    "collapsed": false
   },
   "id": "caa9fec2f2c30d9c"
  },
  {
   "cell_type": "code",
   "execution_count": 25,
   "outputs": [
    {
     "data": {
      "text/plain": "   customer_number\n2                3",
      "text/html": "<div>\n<style scoped>\n    .dataframe tbody tr th:only-of-type {\n        vertical-align: middle;\n    }\n\n    .dataframe tbody tr th {\n        vertical-align: top;\n    }\n\n    .dataframe thead th {\n        text-align: right;\n    }\n</style>\n<table border=\"1\" class=\"dataframe\">\n  <thead>\n    <tr style=\"text-align: right;\">\n      <th></th>\n      <th>customer_number</th>\n    </tr>\n  </thead>\n  <tbody>\n    <tr>\n      <th>2</th>\n      <td>3</td>\n    </tr>\n  </tbody>\n</table>\n</div>"
     },
     "execution_count": 25,
     "metadata": {},
     "output_type": "execute_result"
    }
   ],
   "source": [
    "df = df[[\"customer_number\"]][0:1]\n",
    "df"
   ],
   "metadata": {
    "collapsed": false,
    "ExecuteTime": {
     "end_time": "2023-08-31T07:51:19.662259400Z",
     "start_time": "2023-08-31T07:51:19.600424900Z"
    }
   },
   "id": "bfd388588b7834fa"
  },
  {
   "cell_type": "markdown",
   "source": [
    "## 1484. 按日期分组销售产品\n",
    "\n",
    "编写解决方案找出每个日期、销售的不同产品的数量及其名称。\n",
    "每个日期的销售产品名称应按词典序排列。\n",
    "返回按 sell_date 排序的结果表。"
   ],
   "metadata": {
    "collapsed": false
   },
   "id": "a0cefc95b4dc0e1c"
  },
  {
   "cell_type": "code",
   "execution_count": 32,
   "outputs": [],
   "source": [
    "data = [['2020-05-30', 'Headphone'], ['2020-06-01', 'Pencil'], ['2020-06-02', 'Mask'], ['2020-05-30', 'Basketball'], ['2020-06-01', 'Bible'], ['2020-06-02', 'Mask'], ['2020-05-30', 'T-Shirt']]\n",
    "Activities = pd.DataFrame(data, columns=['sell_date', 'product']).astype({'sell_date':'datetime64[ns]', 'product':'object'})"
   ],
   "metadata": {
    "collapsed": false,
    "ExecuteTime": {
     "end_time": "2023-08-31T08:04:03.927452500Z",
     "start_time": "2023-08-31T08:04:03.899874900Z"
    }
   },
   "id": "204c45f78357462"
  },
  {
   "cell_type": "markdown",
   "source": [
    "这个问题要求我们根据日期对数据进行分组和聚合。为此，我们首先需要使用 groupby 函数通过 groups = activities.groupby('sell_date') 将 DataFrame activities 按日期分组，这将创建一个新的 DataFrameGroupBy 对象。\n",
    "\n",
    "然后我们使用 agg() 对这个 DataFrameGroupBy 对象中的每个组进行聚合操作，其中我们使用命名聚合指定了两个聚合任务：\n",
    "\n",
    "num_sold=('product', 'nunique')：这将在输出 DataFrame 中创建一个新列 num_sold，表示在每个销售日期售出的唯一产品的数量。‘nunique’ 函数对每个组中 product 列中的不同元素进行计数。\n",
    "products=('product', lambda x: ','.join(sorted(set(x))))：这一行有点复杂，我们被要求对每个组中的所有唯一名称进行排序和联接。然而，没有定义的函数可以处理此任务，但幸运的是，我们可以将其替换为自定义函数 lambda x: ','.join(sorted(set(x)))。其中，x 表示表示每个组中的列 product 的Series。我们将其转换为一个集合，以删除重复项，对唯一的产品名称进行排序，然后将它们连接成带有逗号的单个字符串。"
   ],
   "metadata": {
    "collapsed": false
   },
   "id": "20c548089fe82e56"
  },
  {
   "cell_type": "code",
   "execution_count": 33,
   "outputs": [
    {
     "data": {
      "text/plain": "<pandas.core.groupby.generic.DataFrameGroupBy object at 0x000001C8B5FD8D90>"
     },
     "execution_count": 33,
     "metadata": {},
     "output_type": "execute_result"
    }
   ],
   "source": [
    "activities = Activities\n",
    "groups = activities.groupby('sell_date')\n",
    "groups"
   ],
   "metadata": {
    "collapsed": false,
    "ExecuteTime": {
     "end_time": "2023-08-31T08:04:08.035761300Z",
     "start_time": "2023-08-31T08:04:08.000854700Z"
    }
   },
   "id": "9a359c1cd4fe5314"
  },
  {
   "cell_type": "code",
   "execution_count": 34,
   "outputs": [
    {
     "data": {
      "text/plain": "   sell_date  num_sold                      products\n0 2020-05-30         3  Basketball,Headphone,T-Shirt\n1 2020-06-01         2                  Bible,Pencil\n2 2020-06-02         1                          Mask",
      "text/html": "<div>\n<style scoped>\n    .dataframe tbody tr th:only-of-type {\n        vertical-align: middle;\n    }\n\n    .dataframe tbody tr th {\n        vertical-align: top;\n    }\n\n    .dataframe thead th {\n        text-align: right;\n    }\n</style>\n<table border=\"1\" class=\"dataframe\">\n  <thead>\n    <tr style=\"text-align: right;\">\n      <th></th>\n      <th>sell_date</th>\n      <th>num_sold</th>\n      <th>products</th>\n    </tr>\n  </thead>\n  <tbody>\n    <tr>\n      <th>0</th>\n      <td>2020-05-30</td>\n      <td>3</td>\n      <td>Basketball,Headphone,T-Shirt</td>\n    </tr>\n    <tr>\n      <th>1</th>\n      <td>2020-06-01</td>\n      <td>2</td>\n      <td>Bible,Pencil</td>\n    </tr>\n    <tr>\n      <th>2</th>\n      <td>2020-06-02</td>\n      <td>1</td>\n      <td>Mask</td>\n    </tr>\n  </tbody>\n</table>\n</div>"
     },
     "execution_count": 34,
     "metadata": {},
     "output_type": "execute_result"
    }
   ],
   "source": [
    "stats = groups.agg(\n",
    "    num_sold=('product', 'nunique'),\n",
    "    products=('product', lambda x: ','.join(sorted(set(x))))\n",
    ").reset_index()\n",
    "stats"
   ],
   "metadata": {
    "collapsed": false,
    "ExecuteTime": {
     "end_time": "2023-08-31T08:04:22.774822800Z",
     "start_time": "2023-08-31T08:04:22.740912800Z"
    }
   },
   "id": "4d4ed1adb5d5341"
  },
  {
   "cell_type": "code",
   "execution_count": 35,
   "outputs": [
    {
     "data": {
      "text/plain": "   sell_date  num_sold                      products\n0 2020-05-30         3  Basketball,Headphone,T-Shirt\n1 2020-06-01         2                  Bible,Pencil\n2 2020-06-02         1                          Mask",
      "text/html": "<div>\n<style scoped>\n    .dataframe tbody tr th:only-of-type {\n        vertical-align: middle;\n    }\n\n    .dataframe tbody tr th {\n        vertical-align: top;\n    }\n\n    .dataframe thead th {\n        text-align: right;\n    }\n</style>\n<table border=\"1\" class=\"dataframe\">\n  <thead>\n    <tr style=\"text-align: right;\">\n      <th></th>\n      <th>sell_date</th>\n      <th>num_sold</th>\n      <th>products</th>\n    </tr>\n  </thead>\n  <tbody>\n    <tr>\n      <th>0</th>\n      <td>2020-05-30</td>\n      <td>3</td>\n      <td>Basketball,Headphone,T-Shirt</td>\n    </tr>\n    <tr>\n      <th>1</th>\n      <td>2020-06-01</td>\n      <td>2</td>\n      <td>Bible,Pencil</td>\n    </tr>\n    <tr>\n      <th>2</th>\n      <td>2020-06-02</td>\n      <td>1</td>\n      <td>Mask</td>\n    </tr>\n  </tbody>\n</table>\n</div>"
     },
     "execution_count": 35,
     "metadata": {},
     "output_type": "execute_result"
    }
   ],
   "source": [
    "stats.sort_values(\"sell_date\", inplace=True)\n",
    "stats"
   ],
   "metadata": {
    "collapsed": false,
    "ExecuteTime": {
     "end_time": "2023-08-31T08:08:32.427396600Z",
     "start_time": "2023-08-31T08:08:32.334622100Z"
    }
   },
   "id": "5775dba4590815b"
  },
  {
   "cell_type": "markdown",
   "source": [
    "## 1693. 每天的领导和合伙人\n",
    "\n",
    "对于每一个 date_id 和 make_name，找出 不同 的 lead_id 以及 不同 的 partner_id 的数量。\n",
    "\n",
    "按 任意顺序 返回结果表。"
   ],
   "metadata": {
    "collapsed": false
   },
   "id": "e2682c5b063f30ef"
  },
  {
   "cell_type": "code",
   "execution_count": 49,
   "outputs": [],
   "source": [
    "data = [['2020-12-8', 'toyota', 0, 1], ['2020-12-8', 'toyota', 1, 0], ['2020-12-8', 'toyota', 1, 2], ['2020-12-7', 'toyota', 0, 2], ['2020-12-7', 'toyota', 0, 1], ['2020-12-8', 'honda', 1, 2], ['2020-12-8', 'honda', 2, 1], ['2020-12-7', 'honda', 0, 1], ['2020-12-7', 'honda', 1, 2], ['2020-12-7', 'honda', 2, 1]]\n",
    "DailySales = pd.DataFrame(data, columns=['date_id', 'make_name', 'lead_id', 'partner_id']).astype({'date_id':'datetime64[ns]', 'make_name':'object', 'lead_id':'Int64', 'partner_id':'Int64'})"
   ],
   "metadata": {
    "collapsed": false,
    "ExecuteTime": {
     "end_time": "2023-08-31T08:17:29.769740900Z",
     "start_time": "2023-08-31T08:17:29.747807100Z"
    }
   },
   "id": "4cd261d69da957f6"
  },
  {
   "cell_type": "code",
   "execution_count": 51,
   "outputs": [
    {
     "data": {
      "text/plain": "     date_id make_name  lead_id  partner_id\n0 2020-12-07     honda        3           2\n1 2020-12-07    toyota        1           2\n2 2020-12-08     honda        2           2\n3 2020-12-08    toyota        2           3",
      "text/html": "<div>\n<style scoped>\n    .dataframe tbody tr th:only-of-type {\n        vertical-align: middle;\n    }\n\n    .dataframe tbody tr th {\n        vertical-align: top;\n    }\n\n    .dataframe thead th {\n        text-align: right;\n    }\n</style>\n<table border=\"1\" class=\"dataframe\">\n  <thead>\n    <tr style=\"text-align: right;\">\n      <th></th>\n      <th>date_id</th>\n      <th>make_name</th>\n      <th>lead_id</th>\n      <th>partner_id</th>\n    </tr>\n  </thead>\n  <tbody>\n    <tr>\n      <th>0</th>\n      <td>2020-12-07</td>\n      <td>honda</td>\n      <td>3</td>\n      <td>2</td>\n    </tr>\n    <tr>\n      <th>1</th>\n      <td>2020-12-07</td>\n      <td>toyota</td>\n      <td>1</td>\n      <td>2</td>\n    </tr>\n    <tr>\n      <th>2</th>\n      <td>2020-12-08</td>\n      <td>honda</td>\n      <td>2</td>\n      <td>2</td>\n    </tr>\n    <tr>\n      <th>3</th>\n      <td>2020-12-08</td>\n      <td>toyota</td>\n      <td>2</td>\n      <td>3</td>\n    </tr>\n  </tbody>\n</table>\n</div>"
     },
     "execution_count": 51,
     "metadata": {},
     "output_type": "execute_result"
    }
   ],
   "source": [
    "daily_sales = DailySales\n",
    "# 让我们利用 .groupby() 方法，使用 'data_id' 和 'make_name'\n",
    "# 作为分组标准并且使用 'nunique' 方法聚合 'lead_id' 和 'partner_id'\n",
    "# 这会返回一组中不同的元素\n",
    "df = daily_sales.groupby(['date_id', 'make_name']).agg({\n",
    "    'lead_id': pd.Series.nunique,\n",
    "    'partner_id': pd.Series.nunique\n",
    "}).reset_index()\n",
    "\n",
    "df"
   ],
   "metadata": {
    "collapsed": false,
    "ExecuteTime": {
     "end_time": "2023-08-31T08:20:01.205745800Z",
     "start_time": "2023-08-31T08:20:01.138923300Z"
    }
   },
   "id": "118155a00d1954fa"
  },
  {
   "cell_type": "code",
   "execution_count": 52,
   "outputs": [
    {
     "data": {
      "text/plain": "     date_id make_name  unique_leads  unique_partners\n0 2020-12-07     honda             3                2\n1 2020-12-07    toyota             1                2\n2 2020-12-08     honda             2                2\n3 2020-12-08    toyota             2                3",
      "text/html": "<div>\n<style scoped>\n    .dataframe tbody tr th:only-of-type {\n        vertical-align: middle;\n    }\n\n    .dataframe tbody tr th {\n        vertical-align: top;\n    }\n\n    .dataframe thead th {\n        text-align: right;\n    }\n</style>\n<table border=\"1\" class=\"dataframe\">\n  <thead>\n    <tr style=\"text-align: right;\">\n      <th></th>\n      <th>date_id</th>\n      <th>make_name</th>\n      <th>unique_leads</th>\n      <th>unique_partners</th>\n    </tr>\n  </thead>\n  <tbody>\n    <tr>\n      <th>0</th>\n      <td>2020-12-07</td>\n      <td>honda</td>\n      <td>3</td>\n      <td>2</td>\n    </tr>\n    <tr>\n      <th>1</th>\n      <td>2020-12-07</td>\n      <td>toyota</td>\n      <td>1</td>\n      <td>2</td>\n    </tr>\n    <tr>\n      <th>2</th>\n      <td>2020-12-08</td>\n      <td>honda</td>\n      <td>2</td>\n      <td>2</td>\n    </tr>\n    <tr>\n      <th>3</th>\n      <td>2020-12-08</td>\n      <td>toyota</td>\n      <td>2</td>\n      <td>3</td>\n    </tr>\n  </tbody>\n</table>\n</div>"
     },
     "execution_count": 52,
     "metadata": {},
     "output_type": "execute_result"
    }
   ],
   "source": [
    "# 重命名结果 DataFrame 并且 重命名列\n",
    "df = df.rename(columns={\n",
    "    'lead_id': 'unique_leads',\n",
    "    'partner_id': 'unique_partners'\n",
    "})\n",
    "\n",
    "df"
   ],
   "metadata": {
    "collapsed": false,
    "ExecuteTime": {
     "end_time": "2023-08-31T08:33:02.791259400Z",
     "start_time": "2023-08-31T08:33:02.758346100Z"
    }
   },
   "id": "b225d31ae91da07c"
  },
  {
   "cell_type": "markdown",
   "source": [
    "## 1050. 合作过至少三次的演员和导演\n",
    "\n",
    "编写解决方案找出合作过至少三次的演员和导演的 id 对 (actor_id, director_id)"
   ],
   "metadata": {
    "collapsed": false
   },
   "id": "1b9779f81e7aaee8"
  },
  {
   "cell_type": "code",
   "execution_count": 53,
   "outputs": [],
   "source": [
    "data = [[1, 1, 0], [1, 1, 1], [1, 1, 2], [1, 2, 3], [1, 2, 4], [2, 1, 5], [2, 1, 6]]\n",
    "ActorDirector = pd.DataFrame(data, columns=['actor_id', 'director_id', 'timestamp']).astype({'actor_id':'int64', 'director_id':'int64', 'timestamp':'int64'})"
   ],
   "metadata": {
    "collapsed": false,
    "ExecuteTime": {
     "end_time": "2023-08-31T08:33:43.703912Z",
     "start_time": "2023-08-31T08:33:43.630887400Z"
    }
   },
   "id": "4645c419ad5b580"
  },
  {
   "cell_type": "code",
   "execution_count": 54,
   "outputs": [
    {
     "data": {
      "text/plain": "   actor_id  director_id  count\n0         1            1      3\n1         1            2      2\n2         2            1      2",
      "text/html": "<div>\n<style scoped>\n    .dataframe tbody tr th:only-of-type {\n        vertical-align: middle;\n    }\n\n    .dataframe tbody tr th {\n        vertical-align: top;\n    }\n\n    .dataframe thead th {\n        text-align: right;\n    }\n</style>\n<table border=\"1\" class=\"dataframe\">\n  <thead>\n    <tr style=\"text-align: right;\">\n      <th></th>\n      <th>actor_id</th>\n      <th>director_id</th>\n      <th>count</th>\n    </tr>\n  </thead>\n  <tbody>\n    <tr>\n      <th>0</th>\n      <td>1</td>\n      <td>1</td>\n      <td>3</td>\n    </tr>\n    <tr>\n      <th>1</th>\n      <td>1</td>\n      <td>2</td>\n      <td>2</td>\n    </tr>\n    <tr>\n      <th>2</th>\n      <td>2</td>\n      <td>1</td>\n      <td>2</td>\n    </tr>\n  </tbody>\n</table>\n</div>"
     },
     "execution_count": 54,
     "metadata": {},
     "output_type": "execute_result"
    }
   ],
   "source": [
    "cnts = ActorDirector.groupby([\"actor_id\",\"director_id\"]).size().reset_index(name=\"count\")\n",
    "cnts"
   ],
   "metadata": {
    "collapsed": false,
    "ExecuteTime": {
     "end_time": "2023-08-31T08:39:28.400853700Z",
     "start_time": "2023-08-31T08:39:28.297959400Z"
    }
   },
   "id": "a55e4c874f09832f"
  },
  {
   "cell_type": "code",
   "execution_count": 57,
   "outputs": [
    {
     "data": {
      "text/plain": "   actor_id  director_id\n0         1            1",
      "text/html": "<div>\n<style scoped>\n    .dataframe tbody tr th:only-of-type {\n        vertical-align: middle;\n    }\n\n    .dataframe tbody tr th {\n        vertical-align: top;\n    }\n\n    .dataframe thead th {\n        text-align: right;\n    }\n</style>\n<table border=\"1\" class=\"dataframe\">\n  <thead>\n    <tr style=\"text-align: right;\">\n      <th></th>\n      <th>actor_id</th>\n      <th>director_id</th>\n    </tr>\n  </thead>\n  <tbody>\n    <tr>\n      <th>0</th>\n      <td>1</td>\n      <td>1</td>\n    </tr>\n  </tbody>\n</table>\n</div>"
     },
     "execution_count": 57,
     "metadata": {},
     "output_type": "execute_result"
    }
   ],
   "source": [
    "cnts = cnts[cnts[\"count\"]>=3][[\"actor_id\",\"director_id\"]]\n",
    "cnts"
   ],
   "metadata": {
    "collapsed": false,
    "ExecuteTime": {
     "end_time": "2023-08-31T08:41:03.399043200Z",
     "start_time": "2023-08-31T08:41:03.357312Z"
    }
   },
   "id": "c6a5ecf631995684"
  },
  {
   "cell_type": "markdown",
   "source": [
    "## 1378. 使用唯一标识码替换员工ID\n",
    "\n",
    "展示每位用户的 唯一标识码（unique ID ）；如果某位员工没有唯一标识码，使用 null 填充即可。\n",
    "你可以以 任意 顺序返回结果表。\n"
   ],
   "metadata": {
    "collapsed": false
   },
   "id": "a38ef3316c93f87a"
  },
  {
   "cell_type": "code",
   "execution_count": 58,
   "outputs": [],
   "source": [
    "data = [[1, 'Alice'], [7, 'Bob'], [11, 'Meir'], [90, 'Winston'], [3, 'Jonathan']]\n",
    "Employees = pd.DataFrame(data, columns=['id', 'name']).astype({'id':'int64', 'name':'object'})\n",
    "data = [[3, 1], [11, 2], [90, 3]]\n",
    "EmployeeUNI = pd.DataFrame(data, columns=['id', 'unique_id']).astype({'id':'int64', 'unique_id':'int64'})"
   ],
   "metadata": {
    "collapsed": false,
    "ExecuteTime": {
     "end_time": "2023-08-31T13:47:24.775699300Z",
     "start_time": "2023-08-31T13:47:24.696983100Z"
    }
   },
   "id": "ab386917e9bb51f"
  },
  {
   "cell_type": "markdown",
   "source": [
    "我们可以根据共同的列 id 将 employees 和 employee_uni 进行合并，使员工姓名与其唯一 id 组合并获取来自两个 DataFrame 的相关数据。这可以使用 Pandas 中的 merge() 函数来实现。在此之前，请注意，我们需要在 merge 中设置一些参数：\n",
    "\n",
    "employees 和 employee_uni：这是我们要合并的两个DataFrame。\n",
    "on='id'，这指定了将执行合并操作的列。两个 DataFrame 都包含列id。\n",
    "how='left'：这定义了要执行的合并类型。左连接意味着所有来自 employees DataFrame 的行将包含在结果中，并且任何与 employee_uni DataFrame中匹配的行也将包含在结果中。因此，没有唯一 id 的员工也将保留，但它们在 employee_uni 中对应的列将被填充为 NaN （非数字）值。"
   ],
   "metadata": {
    "collapsed": false
   },
   "id": "e21f1fac41e22cb2"
  },
  {
   "cell_type": "code",
   "execution_count": 59,
   "outputs": [
    {
     "data": {
      "text/plain": "   id      name  unique_id\n0   1     Alice        NaN\n1   7       Bob        NaN\n2  11      Meir        2.0\n3  90   Winston        3.0\n4   3  Jonathan        1.0",
      "text/html": "<div>\n<style scoped>\n    .dataframe tbody tr th:only-of-type {\n        vertical-align: middle;\n    }\n\n    .dataframe tbody tr th {\n        vertical-align: top;\n    }\n\n    .dataframe thead th {\n        text-align: right;\n    }\n</style>\n<table border=\"1\" class=\"dataframe\">\n  <thead>\n    <tr style=\"text-align: right;\">\n      <th></th>\n      <th>id</th>\n      <th>name</th>\n      <th>unique_id</th>\n    </tr>\n  </thead>\n  <tbody>\n    <tr>\n      <th>0</th>\n      <td>1</td>\n      <td>Alice</td>\n      <td>NaN</td>\n    </tr>\n    <tr>\n      <th>1</th>\n      <td>7</td>\n      <td>Bob</td>\n      <td>NaN</td>\n    </tr>\n    <tr>\n      <th>2</th>\n      <td>11</td>\n      <td>Meir</td>\n      <td>2.0</td>\n    </tr>\n    <tr>\n      <th>3</th>\n      <td>90</td>\n      <td>Winston</td>\n      <td>3.0</td>\n    </tr>\n    <tr>\n      <th>4</th>\n      <td>3</td>\n      <td>Jonathan</td>\n      <td>1.0</td>\n    </tr>\n  </tbody>\n</table>\n</div>"
     },
     "execution_count": 59,
     "metadata": {},
     "output_type": "execute_result"
    }
   ],
   "source": [
    "employees = Employees\n",
    "employee_uni = EmployeeUNI\n",
    "employee_name_uni = pd.merge(employees, employee_uni, on='id', how='left')\n",
    "employee_name_uni"
   ],
   "metadata": {
    "collapsed": false,
    "ExecuteTime": {
     "end_time": "2023-08-31T13:48:13.889273700Z",
     "start_time": "2023-08-31T13:48:13.814473300Z"
    }
   },
   "id": "153e8bd8b51e6ddc"
  },
  {
   "cell_type": "code",
   "execution_count": 60,
   "outputs": [
    {
     "data": {
      "text/plain": "   unique_id      name\n0        NaN     Alice\n1        NaN       Bob\n2        2.0      Meir\n3        3.0   Winston\n4        1.0  Jonathan",
      "text/html": "<div>\n<style scoped>\n    .dataframe tbody tr th:only-of-type {\n        vertical-align: middle;\n    }\n\n    .dataframe tbody tr th {\n        vertical-align: top;\n    }\n\n    .dataframe thead th {\n        text-align: right;\n    }\n</style>\n<table border=\"1\" class=\"dataframe\">\n  <thead>\n    <tr style=\"text-align: right;\">\n      <th></th>\n      <th>unique_id</th>\n      <th>name</th>\n    </tr>\n  </thead>\n  <tbody>\n    <tr>\n      <th>0</th>\n      <td>NaN</td>\n      <td>Alice</td>\n    </tr>\n    <tr>\n      <th>1</th>\n      <td>NaN</td>\n      <td>Bob</td>\n    </tr>\n    <tr>\n      <th>2</th>\n      <td>2.0</td>\n      <td>Meir</td>\n    </tr>\n    <tr>\n      <th>3</th>\n      <td>3.0</td>\n      <td>Winston</td>\n    </tr>\n    <tr>\n      <th>4</th>\n      <td>1.0</td>\n      <td>Jonathan</td>\n    </tr>\n  </tbody>\n</table>\n</div>"
     },
     "execution_count": 60,
     "metadata": {},
     "output_type": "execute_result"
    }
   ],
   "source": [
    "answer = employee_name_uni[['unique_id', 'name']]\n",
    "answer"
   ],
   "metadata": {
    "collapsed": false,
    "ExecuteTime": {
     "end_time": "2023-08-31T13:55:39.901170500Z",
     "start_time": "2023-08-31T13:55:39.822299700Z"
    }
   },
   "id": "a46c599739eab39c"
  },
  {
   "cell_type": "markdown",
   "source": [
    "## 1280. 学生们参加各科测试的次数\n",
    "\n",
    "查询出每个学生参加每一门科目测试的次数，结果按 student_id 和 subject_name 排序。"
   ],
   "metadata": {
    "collapsed": false
   },
   "id": "36177f4fbf846be6"
  },
  {
   "cell_type": "code",
   "execution_count": 65,
   "outputs": [],
   "source": [
    "data = [[1, 'Alice'], [2, 'Bob'], [13, 'John'], [6, 'Alex']]\n",
    "Students = pd.DataFrame(data, columns=['student_id', 'student_name']).astype({'student_id':'Int64', 'student_name':'object'})\n",
    "data = [['Math'], ['Physics'], ['Programming']]\n",
    "Subjects = pd.DataFrame(data, columns=['subject_name']).astype({'subject_name':'object'})\n",
    "data = [[1, 'Math'], [1, 'Physics'], [1, 'Programming'], [2, 'Programming'], [1, 'Physics'], [1, 'Math'], [13, 'Math'], [13, 'Programming'], [13, 'Physics'], [2, 'Math'], [1, 'Math']]\n",
    "Examinations = pd.DataFrame(data, columns=['student_id', 'subject_name']).astype({'student_id':'Int64', 'subject_name':'object'})"
   ],
   "metadata": {
    "collapsed": false,
    "ExecuteTime": {
     "end_time": "2023-08-31T14:10:59.000849500Z",
     "start_time": "2023-08-31T14:10:58.938419300Z"
    }
   },
   "id": "cc6bbea93e39cb58"
  },
  {
   "cell_type": "markdown",
   "source": [
    "首先，这道题要求我们找出每个学生参加每门课的考试次数。我们可以通过对每个 (student_id,subject_name) 对使用 groupby 方法，然后计算每个组的出现次数来实现这一点。请注意，我们在 groupby 中添加了两列。根据要求，我们将该列的统计命名为 attended_exam。"
   ],
   "metadata": {
    "collapsed": false
   },
   "id": "c8fdabb1aa0d6fc6"
  },
  {
   "cell_type": "code",
   "execution_count": 68,
   "outputs": [
    {
     "data": {
      "text/plain": "   student_id subject_name  attended_exams\n0           1         Math               3\n1           1      Physics               2\n2           1  Programming               1\n3           2         Math               1\n4           2  Programming               1\n5          13         Math               1\n6          13      Physics               1\n7          13  Programming               1",
      "text/html": "<div>\n<style scoped>\n    .dataframe tbody tr th:only-of-type {\n        vertical-align: middle;\n    }\n\n    .dataframe tbody tr th {\n        vertical-align: top;\n    }\n\n    .dataframe thead th {\n        text-align: right;\n    }\n</style>\n<table border=\"1\" class=\"dataframe\">\n  <thead>\n    <tr style=\"text-align: right;\">\n      <th></th>\n      <th>student_id</th>\n      <th>subject_name</th>\n      <th>attended_exams</th>\n    </tr>\n  </thead>\n  <tbody>\n    <tr>\n      <th>0</th>\n      <td>1</td>\n      <td>Math</td>\n      <td>3</td>\n    </tr>\n    <tr>\n      <th>1</th>\n      <td>1</td>\n      <td>Physics</td>\n      <td>2</td>\n    </tr>\n    <tr>\n      <th>2</th>\n      <td>1</td>\n      <td>Programming</td>\n      <td>1</td>\n    </tr>\n    <tr>\n      <th>3</th>\n      <td>2</td>\n      <td>Math</td>\n      <td>1</td>\n    </tr>\n    <tr>\n      <th>4</th>\n      <td>2</td>\n      <td>Programming</td>\n      <td>1</td>\n    </tr>\n    <tr>\n      <th>5</th>\n      <td>13</td>\n      <td>Math</td>\n      <td>1</td>\n    </tr>\n    <tr>\n      <th>6</th>\n      <td>13</td>\n      <td>Physics</td>\n      <td>1</td>\n    </tr>\n    <tr>\n      <th>7</th>\n      <td>13</td>\n      <td>Programming</td>\n      <td>1</td>\n    </tr>\n  </tbody>\n</table>\n</div>"
     },
     "execution_count": 68,
     "metadata": {},
     "output_type": "execute_result"
    }
   ],
   "source": [
    "grouped = Examinations.groupby(['student_id', 'subject_name']).size().reset_index(name='attended_exams')\n",
    "grouped"
   ],
   "metadata": {
    "collapsed": false,
    "ExecuteTime": {
     "end_time": "2023-08-31T14:22:21.643612Z",
     "start_time": "2023-08-31T14:22:21.604616400Z"
    }
   },
   "id": "f07e303f91da1e1d"
  },
  {
   "cell_type": "markdown",
   "source": [
    "然而，这个 DataFrame 和预期的输出不同：\n",
    "\n",
    "它缺少 student_name 列。\n",
    "它只统计出现至少一次的 (student_id，subject_name) 的组合，但我们需要所有可能的组合。\n",
    "让我们把这个 DataFrame 放在一边，考虑一下如何获得所有的组合：student DataFrame 包含所有的 ID，而 subjects DataFrame 包含所有的主题名称。因此，要获得 (student_id，subject_name) 的所有组合，需要进行交叉联接。\n",
    "\n",
    "生成的 DataFrame all_id_subjects 现在包括所有可能的组合，但它不包含有关考试次数的信息。"
   ],
   "metadata": {
    "collapsed": false
   },
   "id": "f637847760a7054e"
  },
  {
   "cell_type": "code",
   "execution_count": 69,
   "outputs": [
    {
     "data": {
      "text/plain": "    student_id student_name subject_name\n0            1        Alice         Math\n1            1        Alice      Physics\n2            1        Alice  Programming\n3            2          Bob         Math\n4            2          Bob      Physics\n5            2          Bob  Programming\n6           13         John         Math\n7           13         John      Physics\n8           13         John  Programming\n9            6         Alex         Math\n10           6         Alex      Physics\n11           6         Alex  Programming",
      "text/html": "<div>\n<style scoped>\n    .dataframe tbody tr th:only-of-type {\n        vertical-align: middle;\n    }\n\n    .dataframe tbody tr th {\n        vertical-align: top;\n    }\n\n    .dataframe thead th {\n        text-align: right;\n    }\n</style>\n<table border=\"1\" class=\"dataframe\">\n  <thead>\n    <tr style=\"text-align: right;\">\n      <th></th>\n      <th>student_id</th>\n      <th>student_name</th>\n      <th>subject_name</th>\n    </tr>\n  </thead>\n  <tbody>\n    <tr>\n      <th>0</th>\n      <td>1</td>\n      <td>Alice</td>\n      <td>Math</td>\n    </tr>\n    <tr>\n      <th>1</th>\n      <td>1</td>\n      <td>Alice</td>\n      <td>Physics</td>\n    </tr>\n    <tr>\n      <th>2</th>\n      <td>1</td>\n      <td>Alice</td>\n      <td>Programming</td>\n    </tr>\n    <tr>\n      <th>3</th>\n      <td>2</td>\n      <td>Bob</td>\n      <td>Math</td>\n    </tr>\n    <tr>\n      <th>4</th>\n      <td>2</td>\n      <td>Bob</td>\n      <td>Physics</td>\n    </tr>\n    <tr>\n      <th>5</th>\n      <td>2</td>\n      <td>Bob</td>\n      <td>Programming</td>\n    </tr>\n    <tr>\n      <th>6</th>\n      <td>13</td>\n      <td>John</td>\n      <td>Math</td>\n    </tr>\n    <tr>\n      <th>7</th>\n      <td>13</td>\n      <td>John</td>\n      <td>Physics</td>\n    </tr>\n    <tr>\n      <th>8</th>\n      <td>13</td>\n      <td>John</td>\n      <td>Programming</td>\n    </tr>\n    <tr>\n      <th>9</th>\n      <td>6</td>\n      <td>Alex</td>\n      <td>Math</td>\n    </tr>\n    <tr>\n      <th>10</th>\n      <td>6</td>\n      <td>Alex</td>\n      <td>Physics</td>\n    </tr>\n    <tr>\n      <th>11</th>\n      <td>6</td>\n      <td>Alex</td>\n      <td>Programming</td>\n    </tr>\n  </tbody>\n</table>\n</div>"
     },
     "execution_count": 69,
     "metadata": {},
     "output_type": "execute_result"
    }
   ],
   "source": [
    "all_id_subjects = pd.merge(Students, Subjects, how='cross')\n",
    "all_id_subjects"
   ],
   "metadata": {
    "collapsed": false,
    "ExecuteTime": {
     "end_time": "2023-08-31T14:23:53.329198800Z",
     "start_time": "2023-08-31T14:23:53.275342100Z"
    }
   },
   "id": "58c3beb7bdc1605c"
  },
  {
   "cell_type": "markdown",
   "source": [
    "当然，我们可以将 DataFrame all_id_subjects 与我们从第一步获得的 grouped 组合在一起，后者包含每个学生参加每门课程的考试次数。为此，我们可以在两个 DataFrame 上执行左连接，这将确保保留交叉连接中的 student_id 和 subject_name 的所有组合。 如果 DataFrame grouped 中不存在组合(即，没有计算该特定组合的考试)，则 attended_exam 列在那一行将保存值 NA ，表示没有参加任何考试。"
   ],
   "metadata": {
    "collapsed": false
   },
   "id": "68e892c1021b262e"
  },
  {
   "cell_type": "code",
   "execution_count": 70,
   "outputs": [
    {
     "data": {
      "text/plain": "    student_id student_name subject_name  attended_exams\n0            1        Alice         Math             3.0\n1            1        Alice      Physics             2.0\n2            1        Alice  Programming             1.0\n3            2          Bob         Math             1.0\n4            2          Bob      Physics             NaN\n5            2          Bob  Programming             1.0\n6           13         John         Math             1.0\n7           13         John      Physics             1.0\n8           13         John  Programming             1.0\n9            6         Alex         Math             NaN\n10           6         Alex      Physics             NaN\n11           6         Alex  Programming             NaN",
      "text/html": "<div>\n<style scoped>\n    .dataframe tbody tr th:only-of-type {\n        vertical-align: middle;\n    }\n\n    .dataframe tbody tr th {\n        vertical-align: top;\n    }\n\n    .dataframe thead th {\n        text-align: right;\n    }\n</style>\n<table border=\"1\" class=\"dataframe\">\n  <thead>\n    <tr style=\"text-align: right;\">\n      <th></th>\n      <th>student_id</th>\n      <th>student_name</th>\n      <th>subject_name</th>\n      <th>attended_exams</th>\n    </tr>\n  </thead>\n  <tbody>\n    <tr>\n      <th>0</th>\n      <td>1</td>\n      <td>Alice</td>\n      <td>Math</td>\n      <td>3.0</td>\n    </tr>\n    <tr>\n      <th>1</th>\n      <td>1</td>\n      <td>Alice</td>\n      <td>Physics</td>\n      <td>2.0</td>\n    </tr>\n    <tr>\n      <th>2</th>\n      <td>1</td>\n      <td>Alice</td>\n      <td>Programming</td>\n      <td>1.0</td>\n    </tr>\n    <tr>\n      <th>3</th>\n      <td>2</td>\n      <td>Bob</td>\n      <td>Math</td>\n      <td>1.0</td>\n    </tr>\n    <tr>\n      <th>4</th>\n      <td>2</td>\n      <td>Bob</td>\n      <td>Physics</td>\n      <td>NaN</td>\n    </tr>\n    <tr>\n      <th>5</th>\n      <td>2</td>\n      <td>Bob</td>\n      <td>Programming</td>\n      <td>1.0</td>\n    </tr>\n    <tr>\n      <th>6</th>\n      <td>13</td>\n      <td>John</td>\n      <td>Math</td>\n      <td>1.0</td>\n    </tr>\n    <tr>\n      <th>7</th>\n      <td>13</td>\n      <td>John</td>\n      <td>Physics</td>\n      <td>1.0</td>\n    </tr>\n    <tr>\n      <th>8</th>\n      <td>13</td>\n      <td>John</td>\n      <td>Programming</td>\n      <td>1.0</td>\n    </tr>\n    <tr>\n      <th>9</th>\n      <td>6</td>\n      <td>Alex</td>\n      <td>Math</td>\n      <td>NaN</td>\n    </tr>\n    <tr>\n      <th>10</th>\n      <td>6</td>\n      <td>Alex</td>\n      <td>Physics</td>\n      <td>NaN</td>\n    </tr>\n    <tr>\n      <th>11</th>\n      <td>6</td>\n      <td>Alex</td>\n      <td>Programming</td>\n      <td>NaN</td>\n    </tr>\n  </tbody>\n</table>\n</div>"
     },
     "execution_count": 70,
     "metadata": {},
     "output_type": "execute_result"
    }
   ],
   "source": [
    "id_subjects_count = pd.merge(all_id_subjects, grouped, on=['student_id', 'subject_name'], how='left')\n",
    "id_subjects_count"
   ],
   "metadata": {
    "collapsed": false,
    "ExecuteTime": {
     "end_time": "2023-08-31T14:27:54.929038500Z",
     "start_time": "2023-08-31T14:27:54.821820300Z"
    }
   },
   "id": "5ed89bf8bb9ec94e"
  },
  {
   "cell_type": "markdown",
   "source": [
    "请注意，attended_exams 列的数据类型从整型变为浮点型，这通常是由于 Pandas NaN (不是数字)的性质造成的。NaN 是一种特殊的浮点类型，在 Pandas 中，如果整型列包含 NaN 值，则整列的数据类型将被推断为 float。这是因为 DataFrame 中的整型列不能包含 NaN 值，因此整列被转换为 float 数据类型以容纳 NaN。为了解决这个问题，我们可以首先将该列中的 NaN 值填充为 0 ，然后通过以下方式将整列的数据类型转换为整数："
   ],
   "metadata": {
    "collapsed": false
   },
   "id": "4b1b8f005bfe42e2"
  },
  {
   "cell_type": "code",
   "execution_count": 71,
   "outputs": [
    {
     "data": {
      "text/plain": "    student_id student_name subject_name  attended_exams\n0            1        Alice         Math               3\n1            1        Alice      Physics               2\n2            1        Alice  Programming               1\n3            2          Bob         Math               1\n4            2          Bob      Physics               0\n5            2          Bob  Programming               1\n6           13         John         Math               1\n7           13         John      Physics               1\n8           13         John  Programming               1\n9            6         Alex         Math               0\n10           6         Alex      Physics               0\n11           6         Alex  Programming               0",
      "text/html": "<div>\n<style scoped>\n    .dataframe tbody tr th:only-of-type {\n        vertical-align: middle;\n    }\n\n    .dataframe tbody tr th {\n        vertical-align: top;\n    }\n\n    .dataframe thead th {\n        text-align: right;\n    }\n</style>\n<table border=\"1\" class=\"dataframe\">\n  <thead>\n    <tr style=\"text-align: right;\">\n      <th></th>\n      <th>student_id</th>\n      <th>student_name</th>\n      <th>subject_name</th>\n      <th>attended_exams</th>\n    </tr>\n  </thead>\n  <tbody>\n    <tr>\n      <th>0</th>\n      <td>1</td>\n      <td>Alice</td>\n      <td>Math</td>\n      <td>3</td>\n    </tr>\n    <tr>\n      <th>1</th>\n      <td>1</td>\n      <td>Alice</td>\n      <td>Physics</td>\n      <td>2</td>\n    </tr>\n    <tr>\n      <th>2</th>\n      <td>1</td>\n      <td>Alice</td>\n      <td>Programming</td>\n      <td>1</td>\n    </tr>\n    <tr>\n      <th>3</th>\n      <td>2</td>\n      <td>Bob</td>\n      <td>Math</td>\n      <td>1</td>\n    </tr>\n    <tr>\n      <th>4</th>\n      <td>2</td>\n      <td>Bob</td>\n      <td>Physics</td>\n      <td>0</td>\n    </tr>\n    <tr>\n      <th>5</th>\n      <td>2</td>\n      <td>Bob</td>\n      <td>Programming</td>\n      <td>1</td>\n    </tr>\n    <tr>\n      <th>6</th>\n      <td>13</td>\n      <td>John</td>\n      <td>Math</td>\n      <td>1</td>\n    </tr>\n    <tr>\n      <th>7</th>\n      <td>13</td>\n      <td>John</td>\n      <td>Physics</td>\n      <td>1</td>\n    </tr>\n    <tr>\n      <th>8</th>\n      <td>13</td>\n      <td>John</td>\n      <td>Programming</td>\n      <td>1</td>\n    </tr>\n    <tr>\n      <th>9</th>\n      <td>6</td>\n      <td>Alex</td>\n      <td>Math</td>\n      <td>0</td>\n    </tr>\n    <tr>\n      <th>10</th>\n      <td>6</td>\n      <td>Alex</td>\n      <td>Physics</td>\n      <td>0</td>\n    </tr>\n    <tr>\n      <th>11</th>\n      <td>6</td>\n      <td>Alex</td>\n      <td>Programming</td>\n      <td>0</td>\n    </tr>\n  </tbody>\n</table>\n</div>"
     },
     "execution_count": 71,
     "metadata": {},
     "output_type": "execute_result"
    }
   ],
   "source": [
    "id_subjects_count['attended_exams'] = id_subjects_count['attended_exams'].fillna(0).astype(int)\n",
    "id_subjects_count"
   ],
   "metadata": {
    "collapsed": false,
    "ExecuteTime": {
     "end_time": "2023-08-31T14:28:34.702369400Z",
     "start_time": "2023-08-31T14:28:34.613606900Z"
    }
   },
   "id": "bed4b653b4e38263"
  },
  {
   "cell_type": "markdown",
   "source": [
    "最后，我们需要对id_subjects_count按照studend_id和subject_name列进行升序排序"
   ],
   "metadata": {
    "collapsed": false
   },
   "id": "f2a9595a04949188"
  },
  {
   "cell_type": "code",
   "execution_count": 72,
   "outputs": [
    {
     "data": {
      "text/plain": "    student_id student_name subject_name  attended_exams\n0            1        Alice         Math               3\n1            1        Alice      Physics               2\n2            1        Alice  Programming               1\n3            2          Bob         Math               1\n4            2          Bob      Physics               0\n5            2          Bob  Programming               1\n9            6         Alex         Math               0\n10           6         Alex      Physics               0\n11           6         Alex  Programming               0\n6           13         John         Math               1\n7           13         John      Physics               1\n8           13         John  Programming               1",
      "text/html": "<div>\n<style scoped>\n    .dataframe tbody tr th:only-of-type {\n        vertical-align: middle;\n    }\n\n    .dataframe tbody tr th {\n        vertical-align: top;\n    }\n\n    .dataframe thead th {\n        text-align: right;\n    }\n</style>\n<table border=\"1\" class=\"dataframe\">\n  <thead>\n    <tr style=\"text-align: right;\">\n      <th></th>\n      <th>student_id</th>\n      <th>student_name</th>\n      <th>subject_name</th>\n      <th>attended_exams</th>\n    </tr>\n  </thead>\n  <tbody>\n    <tr>\n      <th>0</th>\n      <td>1</td>\n      <td>Alice</td>\n      <td>Math</td>\n      <td>3</td>\n    </tr>\n    <tr>\n      <th>1</th>\n      <td>1</td>\n      <td>Alice</td>\n      <td>Physics</td>\n      <td>2</td>\n    </tr>\n    <tr>\n      <th>2</th>\n      <td>1</td>\n      <td>Alice</td>\n      <td>Programming</td>\n      <td>1</td>\n    </tr>\n    <tr>\n      <th>3</th>\n      <td>2</td>\n      <td>Bob</td>\n      <td>Math</td>\n      <td>1</td>\n    </tr>\n    <tr>\n      <th>4</th>\n      <td>2</td>\n      <td>Bob</td>\n      <td>Physics</td>\n      <td>0</td>\n    </tr>\n    <tr>\n      <th>5</th>\n      <td>2</td>\n      <td>Bob</td>\n      <td>Programming</td>\n      <td>1</td>\n    </tr>\n    <tr>\n      <th>9</th>\n      <td>6</td>\n      <td>Alex</td>\n      <td>Math</td>\n      <td>0</td>\n    </tr>\n    <tr>\n      <th>10</th>\n      <td>6</td>\n      <td>Alex</td>\n      <td>Physics</td>\n      <td>0</td>\n    </tr>\n    <tr>\n      <th>11</th>\n      <td>6</td>\n      <td>Alex</td>\n      <td>Programming</td>\n      <td>0</td>\n    </tr>\n    <tr>\n      <th>6</th>\n      <td>13</td>\n      <td>John</td>\n      <td>Math</td>\n      <td>1</td>\n    </tr>\n    <tr>\n      <th>7</th>\n      <td>13</td>\n      <td>John</td>\n      <td>Physics</td>\n      <td>1</td>\n    </tr>\n    <tr>\n      <th>8</th>\n      <td>13</td>\n      <td>John</td>\n      <td>Programming</td>\n      <td>1</td>\n    </tr>\n  </tbody>\n</table>\n</div>"
     },
     "execution_count": 72,
     "metadata": {},
     "output_type": "execute_result"
    }
   ],
   "source": [
    "# 根据'student_id'，'Subject_name'以升序对 DataFrame 进行排序。\n",
    "id_subjects_count.sort_values(['student_id', 'subject_name'], inplace=True)\n",
    "id_subjects_count"
   ],
   "metadata": {
    "collapsed": false,
    "ExecuteTime": {
     "end_time": "2023-08-31T14:29:39.786482200Z",
     "start_time": "2023-08-31T14:29:39.678770500Z"
    }
   },
   "id": "fa1c576bd518f454"
  },
  {
   "cell_type": "markdown",
   "source": [
    "## 570. 至少有5名直接下属的经理\n",
    "\n",
    "查询至少有5名直接下属的经理 。\n",
    "以 任意顺序 返回结果表。"
   ],
   "metadata": {
    "collapsed": false
   },
   "id": "c58ee9b514184f1"
  },
  {
   "cell_type": "code",
   "execution_count": 73,
   "outputs": [],
   "source": [
    "data = [[101, 'John', 'A', None], [102, 'Dan', 'A', 101], [103, 'James', 'A', 101], [104, 'Amy', 'A', 101], [105, 'Anne', 'A', 101], [106, 'Ron', 'B', 101]]\n",
    "Employee = pd.DataFrame(data, columns=['id', 'name', 'department', 'managerId']).astype({'id':'Int64', 'name':'object', 'department':'object', 'managerId':'Int64'})"
   ],
   "metadata": {
    "collapsed": false,
    "ExecuteTime": {
     "end_time": "2023-08-31T14:35:37.664366200Z",
     "start_time": "2023-08-31T14:35:37.569545400Z"
    }
   },
   "id": "b15323bfd429d4b8"
  },
  {
   "cell_type": "markdown",
   "source": [
    "我们需要找到拥有超过 5 名直接下属的经理，这涉及到计算每个经理ID的下属人数。可以通过将员工表按照每个唯一的经理ID进行分组来实现。因此，我们将 DataFrame Employee 按列 managerId 进行分组，并应用 size() 方法来计算 managerId 中每个唯一值的出现次数，这表示每个经理手下的员工数量。\n",
    "\n",
    "reset_index(name='count') 用于给结果列指定一个新名称 count，这一步确保结果 DataFrame df 有两列：managerId 和 count。"
   ],
   "metadata": {
    "collapsed": false
   },
   "id": "380262c83f7e64"
  },
  {
   "cell_type": "code",
   "execution_count": 74,
   "outputs": [
    {
     "data": {
      "text/plain": "   managerId  count\n0        101      5",
      "text/html": "<div>\n<style scoped>\n    .dataframe tbody tr th:only-of-type {\n        vertical-align: middle;\n    }\n\n    .dataframe tbody tr th {\n        vertical-align: top;\n    }\n\n    .dataframe thead th {\n        text-align: right;\n    }\n</style>\n<table border=\"1\" class=\"dataframe\">\n  <thead>\n    <tr style=\"text-align: right;\">\n      <th></th>\n      <th>managerId</th>\n      <th>count</th>\n    </tr>\n  </thead>\n  <tbody>\n    <tr>\n      <th>0</th>\n      <td>101</td>\n      <td>5</td>\n    </tr>\n  </tbody>\n</table>\n</div>"
     },
     "execution_count": 74,
     "metadata": {},
     "output_type": "execute_result"
    }
   ],
   "source": [
    "df = Employee.groupby('managerId').size().reset_index(name='count')\n",
    "df"
   ],
   "metadata": {
    "collapsed": false,
    "ExecuteTime": {
     "end_time": "2023-08-31T14:38:09.749722500Z",
     "start_time": "2023-08-31T14:38:09.620558300Z"
    }
   },
   "id": "95645e59966350bc"
  },
  {
   "cell_type": "markdown",
   "source": [
    "接下来，我们筛选出 count 等于或多于 5 的行，这些行代表拥有 5 名或更多直接下属的经理。"
   ],
   "metadata": {
    "collapsed": false
   },
   "id": "bf7ff0a94484af0a"
  },
  {
   "cell_type": "code",
   "execution_count": 75,
   "outputs": [],
   "source": [
    "df = df[df['count'] >= 5]"
   ],
   "metadata": {
    "collapsed": false,
    "ExecuteTime": {
     "end_time": "2023-08-31T14:38:32.344655700Z",
     "start_time": "2023-08-31T14:38:32.262452100Z"
    }
   },
   "id": "80ecd4f83ad72b3"
  },
  {
   "cell_type": "markdown",
   "source": [
    "然后，我们可以通过将 df 与 employee 在共同的列（df 中的 managerId 和 employee 中的 id）上进行连接来获得这些经理的名字。请注意，我们将连接方法设置为 how='inner'，这将选择在两个 DataFrame 中都具有匹配值的经理。因此，我们不会选择一个不是有效经理的员工，也不会选择一个不在 employee 中的经理。"
   ],
   "metadata": {
    "collapsed": false
   },
   "id": "2081491278f8bdc8"
  },
  {
   "cell_type": "code",
   "execution_count": 77,
   "outputs": [
    {
     "data": {
      "text/plain": "   name\n0  John",
      "text/html": "<div>\n<style scoped>\n    .dataframe tbody tr th:only-of-type {\n        vertical-align: middle;\n    }\n\n    .dataframe tbody tr th {\n        vertical-align: top;\n    }\n\n    .dataframe thead th {\n        text-align: right;\n    }\n</style>\n<table border=\"1\" class=\"dataframe\">\n  <thead>\n    <tr style=\"text-align: right;\">\n      <th></th>\n      <th>name</th>\n    </tr>\n  </thead>\n  <tbody>\n    <tr>\n      <th>0</th>\n      <td>John</td>\n    </tr>\n  </tbody>\n</table>\n</div>"
     },
     "execution_count": 77,
     "metadata": {},
     "output_type": "execute_result"
    }
   ],
   "source": [
    "managers_info = pd.merge(df, Employee, left_on='managerId', right_on='id', how='inner')\n",
    "managers_info[[\"name\"]]"
   ],
   "metadata": {
    "collapsed": false,
    "ExecuteTime": {
     "end_time": "2023-08-31T14:40:49.704828700Z",
     "start_time": "2023-08-31T14:40:49.654674800Z"
    }
   },
   "id": "c950454ddec8f329"
  },
  {
   "cell_type": "markdown",
   "source": [
    "## 607. 销售员\n",
    "\n",
    "编写解决方案，找出没有任何与名为 “RED” 的公司相关的订单的所有销售人员的姓名。\n",
    "以 任意顺序 返回结果表。"
   ],
   "metadata": {
    "collapsed": false
   },
   "id": "4adc06077514909d"
  },
  {
   "cell_type": "code",
   "execution_count": 85,
   "outputs": [],
   "source": [
    "data = [[1, 'John', 100000, 6, '4/1/2006'], [2, 'Amy', 12000, 5, '5/1/2010'], [3, 'Mark', 65000, 12, '12/25/2008'], [4, 'Pam', 25000, 25, '1/1/2005'], [5, 'Alex', 5000, 10, '2/3/2007']]\n",
    "SalesPerson = pd.DataFrame(data, columns=['sales_id', 'name', 'salary', 'commission_rate', 'hire_date']).astype({'sales_id':'Int64', 'name':'object', 'salary':'Int64', 'commission_rate':'Int64', 'hire_date':'datetime64[ns]'})\n",
    "data = [[1, 'RED', 'Boston'], [2, 'ORANGE', 'New York'], [3, 'YELLOW', 'Boston'], [4, 'GREEN', 'Austin']]\n",
    "Company = pd.DataFrame(data, columns=['com_id', 'name', 'city']).astype({'com_id':'Int64', 'name':'object', 'city':'object'})\n",
    "data = [[1, '1/1/2014', 3, 4, 10000], [2, '2/1/2014', 4, 5, 5000], [3, '3/1/2014', 1, 1, 50000], [4, '4/1/2014', 1, 4, 25000]]\n",
    "Orders = pd.DataFrame(data, columns=['order_id', 'order_date', 'com_id', 'sales_id', 'amount']).astype({'order_id':'Int64', 'order_date':'datetime64[ns]', 'com_id':'Int64', 'sales_id':'Int64', 'amount':'Int64'})"
   ],
   "metadata": {
    "collapsed": false,
    "ExecuteTime": {
     "end_time": "2023-08-31T14:47:46.418750400Z",
     "start_time": "2023-08-31T14:47:46.358128500Z"
    }
   },
   "id": "2e57a68947cf42a9"
  },
  {
   "cell_type": "code",
   "execution_count": 86,
   "outputs": [
    {
     "ename": "KeyError",
     "evalue": "'com_id'",
     "output_type": "error",
     "traceback": [
      "\u001B[1;31m---------------------------------------------------------------------------\u001B[0m",
      "\u001B[1;31mKeyError\u001B[0m                                  Traceback (most recent call last)",
      "Cell \u001B[1;32mIn[86], line 1\u001B[0m\n\u001B[1;32m----> 1\u001B[0m df \u001B[38;5;241m=\u001B[39m \u001B[43mpd\u001B[49m\u001B[38;5;241;43m.\u001B[39;49m\u001B[43mmerge\u001B[49m\u001B[43m(\u001B[49m\u001B[43morders\u001B[49m\u001B[43m,\u001B[49m\u001B[43m \u001B[49m\u001B[43mCompany\u001B[49m\u001B[43m,\u001B[49m\u001B[43m \u001B[49m\u001B[43mon\u001B[49m\u001B[38;5;241;43m=\u001B[39;49m\u001B[38;5;124;43m\"\u001B[39;49m\u001B[38;5;124;43mcom_id\u001B[39;49m\u001B[38;5;124;43m\"\u001B[39;49m\u001B[43m)\u001B[49m\n\u001B[0;32m      3\u001B[0m red_orders \u001B[38;5;241m=\u001B[39m df[df[\u001B[38;5;124m'\u001B[39m\u001B[38;5;124mname\u001B[39m\u001B[38;5;124m'\u001B[39m] \u001B[38;5;241m==\u001B[39m \u001B[38;5;124m'\u001B[39m\u001B[38;5;124mRED\u001B[39m\u001B[38;5;124m'\u001B[39m]\n\u001B[0;32m      4\u001B[0m red_orders\n",
      "File \u001B[1;32mD:\\Anaconda\\envs\\data_analysis_project\\lib\\site-packages\\pandas\\core\\reshape\\merge.py:107\u001B[0m, in \u001B[0;36mmerge\u001B[1;34m(left, right, how, on, left_on, right_on, left_index, right_index, sort, suffixes, copy, indicator, validate)\u001B[0m\n\u001B[0;32m     90\u001B[0m \u001B[38;5;129m@Substitution\u001B[39m(\u001B[38;5;124m\"\u001B[39m\u001B[38;5;130;01m\\n\u001B[39;00m\u001B[38;5;124mleft : DataFrame or named Series\u001B[39m\u001B[38;5;124m\"\u001B[39m)\n\u001B[0;32m     91\u001B[0m \u001B[38;5;129m@Appender\u001B[39m(_merge_doc, indents\u001B[38;5;241m=\u001B[39m\u001B[38;5;241m0\u001B[39m)\n\u001B[0;32m     92\u001B[0m \u001B[38;5;28;01mdef\u001B[39;00m \u001B[38;5;21mmerge\u001B[39m(\n\u001B[1;32m   (...)\u001B[0m\n\u001B[0;32m    105\u001B[0m     validate: \u001B[38;5;28mstr\u001B[39m \u001B[38;5;241m|\u001B[39m \u001B[38;5;28;01mNone\u001B[39;00m \u001B[38;5;241m=\u001B[39m \u001B[38;5;28;01mNone\u001B[39;00m,\n\u001B[0;32m    106\u001B[0m ) \u001B[38;5;241m-\u001B[39m\u001B[38;5;241m>\u001B[39m DataFrame:\n\u001B[1;32m--> 107\u001B[0m     op \u001B[38;5;241m=\u001B[39m \u001B[43m_MergeOperation\u001B[49m\u001B[43m(\u001B[49m\n\u001B[0;32m    108\u001B[0m \u001B[43m        \u001B[49m\u001B[43mleft\u001B[49m\u001B[43m,\u001B[49m\n\u001B[0;32m    109\u001B[0m \u001B[43m        \u001B[49m\u001B[43mright\u001B[49m\u001B[43m,\u001B[49m\n\u001B[0;32m    110\u001B[0m \u001B[43m        \u001B[49m\u001B[43mhow\u001B[49m\u001B[38;5;241;43m=\u001B[39;49m\u001B[43mhow\u001B[49m\u001B[43m,\u001B[49m\n\u001B[0;32m    111\u001B[0m \u001B[43m        \u001B[49m\u001B[43mon\u001B[49m\u001B[38;5;241;43m=\u001B[39;49m\u001B[43mon\u001B[49m\u001B[43m,\u001B[49m\n\u001B[0;32m    112\u001B[0m \u001B[43m        \u001B[49m\u001B[43mleft_on\u001B[49m\u001B[38;5;241;43m=\u001B[39;49m\u001B[43mleft_on\u001B[49m\u001B[43m,\u001B[49m\n\u001B[0;32m    113\u001B[0m \u001B[43m        \u001B[49m\u001B[43mright_on\u001B[49m\u001B[38;5;241;43m=\u001B[39;49m\u001B[43mright_on\u001B[49m\u001B[43m,\u001B[49m\n\u001B[0;32m    114\u001B[0m \u001B[43m        \u001B[49m\u001B[43mleft_index\u001B[49m\u001B[38;5;241;43m=\u001B[39;49m\u001B[43mleft_index\u001B[49m\u001B[43m,\u001B[49m\n\u001B[0;32m    115\u001B[0m \u001B[43m        \u001B[49m\u001B[43mright_index\u001B[49m\u001B[38;5;241;43m=\u001B[39;49m\u001B[43mright_index\u001B[49m\u001B[43m,\u001B[49m\n\u001B[0;32m    116\u001B[0m \u001B[43m        \u001B[49m\u001B[43msort\u001B[49m\u001B[38;5;241;43m=\u001B[39;49m\u001B[43msort\u001B[49m\u001B[43m,\u001B[49m\n\u001B[0;32m    117\u001B[0m \u001B[43m        \u001B[49m\u001B[43msuffixes\u001B[49m\u001B[38;5;241;43m=\u001B[39;49m\u001B[43msuffixes\u001B[49m\u001B[43m,\u001B[49m\n\u001B[0;32m    118\u001B[0m \u001B[43m        \u001B[49m\u001B[43mcopy\u001B[49m\u001B[38;5;241;43m=\u001B[39;49m\u001B[43mcopy\u001B[49m\u001B[43m,\u001B[49m\n\u001B[0;32m    119\u001B[0m \u001B[43m        \u001B[49m\u001B[43mindicator\u001B[49m\u001B[38;5;241;43m=\u001B[39;49m\u001B[43mindicator\u001B[49m\u001B[43m,\u001B[49m\n\u001B[0;32m    120\u001B[0m \u001B[43m        \u001B[49m\u001B[43mvalidate\u001B[49m\u001B[38;5;241;43m=\u001B[39;49m\u001B[43mvalidate\u001B[49m\u001B[43m,\u001B[49m\n\u001B[0;32m    121\u001B[0m \u001B[43m    \u001B[49m\u001B[43m)\u001B[49m\n\u001B[0;32m    122\u001B[0m     \u001B[38;5;28;01mreturn\u001B[39;00m op\u001B[38;5;241m.\u001B[39mget_result()\n",
      "File \u001B[1;32mD:\\Anaconda\\envs\\data_analysis_project\\lib\\site-packages\\pandas\\core\\reshape\\merge.py:700\u001B[0m, in \u001B[0;36m_MergeOperation.__init__\u001B[1;34m(self, left, right, how, on, left_on, right_on, axis, left_index, right_index, sort, suffixes, copy, indicator, validate)\u001B[0m\n\u001B[0;32m    693\u001B[0m \u001B[38;5;28mself\u001B[39m\u001B[38;5;241m.\u001B[39m_cross \u001B[38;5;241m=\u001B[39m cross_col\n\u001B[0;32m    695\u001B[0m \u001B[38;5;66;03m# note this function has side effects\u001B[39;00m\n\u001B[0;32m    696\u001B[0m (\n\u001B[0;32m    697\u001B[0m     \u001B[38;5;28mself\u001B[39m\u001B[38;5;241m.\u001B[39mleft_join_keys,\n\u001B[0;32m    698\u001B[0m     \u001B[38;5;28mself\u001B[39m\u001B[38;5;241m.\u001B[39mright_join_keys,\n\u001B[0;32m    699\u001B[0m     \u001B[38;5;28mself\u001B[39m\u001B[38;5;241m.\u001B[39mjoin_names,\n\u001B[1;32m--> 700\u001B[0m ) \u001B[38;5;241m=\u001B[39m \u001B[38;5;28;43mself\u001B[39;49m\u001B[38;5;241;43m.\u001B[39;49m\u001B[43m_get_merge_keys\u001B[49m\u001B[43m(\u001B[49m\u001B[43m)\u001B[49m\n\u001B[0;32m    702\u001B[0m \u001B[38;5;66;03m# validate the merge keys dtypes. We may need to coerce\u001B[39;00m\n\u001B[0;32m    703\u001B[0m \u001B[38;5;66;03m# to avoid incompatible dtypes\u001B[39;00m\n\u001B[0;32m    704\u001B[0m \u001B[38;5;28mself\u001B[39m\u001B[38;5;241m.\u001B[39m_maybe_coerce_merge_keys()\n",
      "File \u001B[1;32mD:\\Anaconda\\envs\\data_analysis_project\\lib\\site-packages\\pandas\\core\\reshape\\merge.py:1110\u001B[0m, in \u001B[0;36m_MergeOperation._get_merge_keys\u001B[1;34m(self)\u001B[0m\n\u001B[0;32m   1108\u001B[0m     right_keys\u001B[38;5;241m.\u001B[39mappend(rk)\n\u001B[0;32m   1109\u001B[0m \u001B[38;5;28;01mif\u001B[39;00m lk \u001B[38;5;129;01mis\u001B[39;00m \u001B[38;5;129;01mnot\u001B[39;00m \u001B[38;5;28;01mNone\u001B[39;00m:\n\u001B[1;32m-> 1110\u001B[0m     left_keys\u001B[38;5;241m.\u001B[39mappend(\u001B[43mleft\u001B[49m\u001B[38;5;241;43m.\u001B[39;49m\u001B[43m_get_label_or_level_values\u001B[49m\u001B[43m(\u001B[49m\u001B[43mlk\u001B[49m\u001B[43m)\u001B[49m)\n\u001B[0;32m   1111\u001B[0m     join_names\u001B[38;5;241m.\u001B[39mappend(lk)\n\u001B[0;32m   1112\u001B[0m \u001B[38;5;28;01melse\u001B[39;00m:\n\u001B[0;32m   1113\u001B[0m     \u001B[38;5;66;03m# work-around for merge_asof(left_index=True)\u001B[39;00m\n",
      "File \u001B[1;32mD:\\Anaconda\\envs\\data_analysis_project\\lib\\site-packages\\pandas\\core\\generic.py:1840\u001B[0m, in \u001B[0;36mNDFrame._get_label_or_level_values\u001B[1;34m(self, key, axis)\u001B[0m\n\u001B[0;32m   1838\u001B[0m     values \u001B[38;5;241m=\u001B[39m \u001B[38;5;28mself\u001B[39m\u001B[38;5;241m.\u001B[39maxes[axis]\u001B[38;5;241m.\u001B[39mget_level_values(key)\u001B[38;5;241m.\u001B[39m_values\n\u001B[0;32m   1839\u001B[0m \u001B[38;5;28;01melse\u001B[39;00m:\n\u001B[1;32m-> 1840\u001B[0m     \u001B[38;5;28;01mraise\u001B[39;00m \u001B[38;5;167;01mKeyError\u001B[39;00m(key)\n\u001B[0;32m   1842\u001B[0m \u001B[38;5;66;03m# Check for duplicates\u001B[39;00m\n\u001B[0;32m   1843\u001B[0m \u001B[38;5;28;01mif\u001B[39;00m values\u001B[38;5;241m.\u001B[39mndim \u001B[38;5;241m>\u001B[39m \u001B[38;5;241m1\u001B[39m:\n",
      "\u001B[1;31mKeyError\u001B[0m: 'com_id'"
     ]
    }
   ],
   "source": [
    "df = pd.merge(orders, Company, on=\"com_id\")\n",
    "\n",
    "red_orders = df[df['name'] == 'RED']\n",
    "red_orders"
   ],
   "metadata": {
    "collapsed": false,
    "ExecuteTime": {
     "end_time": "2023-08-31T14:47:46.968403700Z",
     "start_time": "2023-08-31T14:47:46.882633Z"
    }
   },
   "id": "322b59dff47dde8e"
  },
  {
   "cell_type": "code",
   "execution_count": null,
   "outputs": [],
   "source": [],
   "metadata": {
    "collapsed": false
   },
   "id": "ea1fe4c9397dbd7"
  }
 ],
 "metadata": {
  "kernelspec": {
   "name": "data_analysis_project",
   "language": "python",
   "display_name": "data_analysis_project"
  },
  "language_info": {
   "codemirror_mode": {
    "name": "ipython",
    "version": 2
   },
   "file_extension": ".py",
   "mimetype": "text/x-python",
   "name": "python",
   "nbconvert_exporter": "python",
   "pygments_lexer": "ipython2",
   "version": "2.7.6"
  }
 },
 "nbformat": 4,
 "nbformat_minor": 5
}
