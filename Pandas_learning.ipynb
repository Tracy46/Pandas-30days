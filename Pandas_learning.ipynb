{
 "cells": [
  {
   "cell_type": "code",
   "execution_count": 1,
   "id": "initial_id",
   "metadata": {
    "collapsed": true,
    "ExecuteTime": {
     "end_time": "2023-08-22T10:17:30.398670200Z",
     "start_time": "2023-08-22T10:17:29.964808Z"
    }
   },
   "outputs": [],
   "source": [
    "import pandas as pd"
   ]
  },
  {
   "cell_type": "markdown",
   "source": [
    "##1683. 无效的推文\n",
    "\n",
    "查询所有无效推文的编号（ID）。当推文内容中的字符数严格大于 15 时，该推文是无效的。\n",
    "以任意顺序返回结果表"
   ],
   "metadata": {
    "collapsed": false
   },
   "id": "768b1e7371c0c4ef"
  },
  {
   "cell_type": "code",
   "execution_count": 2,
   "outputs": [],
   "source": [
    "data = [[1, 'Vote for Biden'], [2, 'Let us make America great again!']]\n",
    "Tweets = pd.DataFrame(data, columns=['tweet_id', 'content']).astype({'tweet_id':'Int64', 'content':'object'})"
   ],
   "metadata": {
    "collapsed": false,
    "ExecuteTime": {
     "end_time": "2023-08-22T10:22:14.687451300Z",
     "start_time": "2023-08-22T10:22:14.661520300Z"
    }
   },
   "id": "e89d1a991b5ba554"
  },
  {
   "cell_type": "markdown",
   "source": [
    "在 content 列上应用 str.len() 方法。结果 is_valid 是一个布尔Series，其中表示每个推文是否有效（长度大于 15）"
   ],
   "metadata": {
    "collapsed": false
   },
   "id": "d341334462a2f09c"
  },
  {
   "cell_type": "code",
   "execution_count": 4,
   "outputs": [
    {
     "ename": "TypeError",
     "evalue": "'is_valid' is an invalid keyword argument for print()",
     "output_type": "error",
     "traceback": [
      "\u001B[1;31m---------------------------------------------------------------------------\u001B[0m",
      "\u001B[1;31mTypeError\u001B[0m                                 Traceback (most recent call last)",
      "Cell \u001B[1;32mIn[4], line 1\u001B[0m\n\u001B[1;32m----> 1\u001B[0m \u001B[38;5;28;43mprint\u001B[39;49m\u001B[43m(\u001B[49m\u001B[43mis_valid\u001B[49m\u001B[43m \u001B[49m\u001B[38;5;241;43m=\u001B[39;49m\u001B[43m \u001B[49m\u001B[43mTweets\u001B[49m\u001B[43m[\u001B[49m\u001B[38;5;124;43m'\u001B[39;49m\u001B[38;5;124;43mcontent\u001B[39;49m\u001B[38;5;124;43m'\u001B[39;49m\u001B[43m]\u001B[49m\u001B[38;5;241;43m.\u001B[39;49m\u001B[43mstr\u001B[49m\u001B[38;5;241;43m.\u001B[39;49m\u001B[43mlen\u001B[49m\u001B[43m(\u001B[49m\u001B[43m)\u001B[49m\u001B[43m \u001B[49m\u001B[38;5;241;43m>\u001B[39;49m\u001B[43m \u001B[49m\u001B[38;5;241;43m15\u001B[39;49m\u001B[43m)\u001B[49m\n",
      "\u001B[1;31mTypeError\u001B[0m: 'is_valid' is an invalid keyword argument for print()"
     ]
    }
   ],
   "source": [
    "is_valid = Tweets['content'].str.len() > 15"
   ],
   "metadata": {
    "collapsed": false,
    "ExecuteTime": {
     "end_time": "2023-08-22T10:24:14.945658Z",
     "start_time": "2023-08-22T10:24:14.121242Z"
    }
   },
   "id": "27b050c64921fa1a"
  },
  {
   "cell_type": "code",
   "execution_count": 5,
   "outputs": [
    {
     "name": "stdout",
     "output_type": "stream",
     "text": [
      "0    False\n",
      "1     True\n",
      "Name: content, dtype: bool\n"
     ]
    }
   ],
   "source": [
    "print(is_valid)"
   ],
   "metadata": {
    "collapsed": false,
    "ExecuteTime": {
     "end_time": "2023-08-22T10:24:31.661546Z",
     "start_time": "2023-08-22T10:24:31.640599900Z"
    }
   },
   "id": "95c6b4c06d346226"
  },
  {
   "cell_type": "code",
   "execution_count": 15,
   "outputs": [],
   "source": [
    "df = Tweets[is_valid]"
   ],
   "metadata": {
    "collapsed": false,
    "ExecuteTime": {
     "end_time": "2023-08-22T10:30:48.646974500Z",
     "start_time": "2023-08-22T10:30:48.623038300Z"
    }
   },
   "id": "f4ffa23870899ca9"
  },
  {
   "cell_type": "code",
   "execution_count": 11,
   "outputs": [
    {
     "data": {
      "text/plain": "   tweet_id                           content\n1         2  Let us make America great again!",
      "text/html": "<div>\n<style scoped>\n    .dataframe tbody tr th:only-of-type {\n        vertical-align: middle;\n    }\n\n    .dataframe tbody tr th {\n        vertical-align: top;\n    }\n\n    .dataframe thead th {\n        text-align: right;\n    }\n</style>\n<table border=\"1\" class=\"dataframe\">\n  <thead>\n    <tr style=\"text-align: right;\">\n      <th></th>\n      <th>tweet_id</th>\n      <th>content</th>\n    </tr>\n  </thead>\n  <tbody>\n    <tr>\n      <th>1</th>\n      <td>2</td>\n      <td>Let us make America great again!</td>\n    </tr>\n  </tbody>\n</table>\n</div>"
     },
     "execution_count": 11,
     "metadata": {},
     "output_type": "execute_result"
    }
   ],
   "source": [
    "df"
   ],
   "metadata": {
    "collapsed": false,
    "ExecuteTime": {
     "end_time": "2023-08-22T10:28:54.661919500Z",
     "start_time": "2023-08-22T10:28:54.632000100Z"
    }
   },
   "id": "a13cd90d3db77486"
  },
  {
   "cell_type": "code",
   "execution_count": 16,
   "outputs": [
    {
     "data": {
      "text/plain": "   tweet_id\n1         2",
      "text/html": "<div>\n<style scoped>\n    .dataframe tbody tr th:only-of-type {\n        vertical-align: middle;\n    }\n\n    .dataframe tbody tr th {\n        vertical-align: top;\n    }\n\n    .dataframe thead th {\n        text-align: right;\n    }\n</style>\n<table border=\"1\" class=\"dataframe\">\n  <thead>\n    <tr style=\"text-align: right;\">\n      <th></th>\n      <th>tweet_id</th>\n    </tr>\n  </thead>\n  <tbody>\n    <tr>\n      <th>1</th>\n      <td>2</td>\n    </tr>\n  </tbody>\n</table>\n</div>"
     },
     "execution_count": 16,
     "metadata": {},
     "output_type": "execute_result"
    }
   ],
   "source": [
    "df = df[['tweet_id']]\n",
    "df"
   ],
   "metadata": {
    "collapsed": false,
    "ExecuteTime": {
     "end_time": "2023-08-22T10:30:50.170924500Z",
     "start_time": "2023-08-22T10:30:50.133111100Z"
    }
   },
   "id": "3e4002797c90b347"
  },
  {
   "cell_type": "markdown",
   "source": [
    "##1873. 计算特殊奖金\n",
    "\n",
    "编写解决方案，计算每个雇员的奖金。如果一个雇员的 id 是 奇数 并且他的名字不是以 'M' 开头，那么他的奖金是他资的 100% ，否则奖金为 0 。\n",
    "返回的结果按照 employee_id 排序。"
   ],
   "metadata": {
    "collapsed": false
   },
   "id": "c7b47750f7bd9f96"
  },
  {
   "cell_type": "code",
   "execution_count": 17,
   "outputs": [],
   "source": [
    "data = [[2, 'Meir', 3000], [3, 'Michael', 3800], [7, 'Addilyn', 7400], [8, 'Juan', 6100], [9, 'Kannon', 7700]]\n",
    "Employees = pd.DataFrame(data, columns=['employee_id', 'name', 'salary']).astype({'employee_id':'int64', 'name':'object', 'salary':'int64'})"
   ],
   "metadata": {
    "collapsed": false,
    "ExecuteTime": {
     "end_time": "2023-08-22T10:40:30.521754500Z",
     "start_time": "2023-08-22T10:40:30.489877400Z"
    }
   },
   "id": "a0c12865277ec454"
  },
  {
   "cell_type": "code",
   "execution_count": 20,
   "outputs": [],
   "source": [
    "employees = Employees"
   ],
   "metadata": {
    "collapsed": false,
    "ExecuteTime": {
     "end_time": "2023-08-22T10:52:28.330378300Z",
     "start_time": "2023-08-22T10:52:28.314422500Z"
    }
   },
   "id": "5ccc4251a5574b7b"
  },
  {
   "cell_type": "markdown",
   "source": [
    "bonus = salary if (id % 2 and not name.startwith('M')) else 0\n",
    "\n",
    "我们如何将此表达式应用于 DataFrame employee 的每一行？\n",
    "\n",
    "要完成此任务，我们可以使用循环逐一迭代 DataFrame 行。然而，Python 提供了一种更优雅且更高效的方法，称为\"向量化\"，它使用 apply() 方法。向量化利用 Pandas 中的底层优化，使我们能够一次对整个列或行应用操作，从而实现更快、更简洁的代码。\n",
    "\n",
    "在这种情况下，使用 apply() 允许我们避免编写显式循环，并更简洁地处理操作。通过定义一个自定义函数来根据条件计算奖金，并利用带有 axis=1 参数的 apply()，我们可以轻松处理每一行并计算相应的奖金。自定义函数如下所示：\n",
    "lambda x: x['salary'] if x['employee_id'] % 2 and not x['name'].startswith('M') else 0\n"
   ],
   "metadata": {
    "collapsed": false
   },
   "id": "c9609ae09f647c6d"
  },
  {
   "cell_type": "code",
   "execution_count": 21,
   "outputs": [],
   "source": [
    "employees['bonus'] = employees.apply(\n",
    "    lambda x: x['salary'] if x['employee_id'] % 2 and not x['name'].startswith('M') else 0,\n",
    "    axis=1\n",
    ")\n",
    "# axis = 1 ,循环处理每一行"
   ],
   "metadata": {
    "collapsed": false,
    "ExecuteTime": {
     "end_time": "2023-08-22T10:53:28.099149200Z",
     "start_time": "2023-08-22T10:53:28.069228300Z"
    }
   },
   "id": "275da65fe5dc553d"
  },
  {
   "cell_type": "code",
   "execution_count": 22,
   "outputs": [
    {
     "data": {
      "text/plain": "   employee_id  bonus\n0            2      0\n1            3      0\n2            7   7400\n3            8      0\n4            9   7700",
      "text/html": "<div>\n<style scoped>\n    .dataframe tbody tr th:only-of-type {\n        vertical-align: middle;\n    }\n\n    .dataframe tbody tr th {\n        vertical-align: top;\n    }\n\n    .dataframe thead th {\n        text-align: right;\n    }\n</style>\n<table border=\"1\" class=\"dataframe\">\n  <thead>\n    <tr style=\"text-align: right;\">\n      <th></th>\n      <th>employee_id</th>\n      <th>bonus</th>\n    </tr>\n  </thead>\n  <tbody>\n    <tr>\n      <th>0</th>\n      <td>2</td>\n      <td>0</td>\n    </tr>\n    <tr>\n      <th>1</th>\n      <td>3</td>\n      <td>0</td>\n    </tr>\n    <tr>\n      <th>2</th>\n      <td>7</td>\n      <td>7400</td>\n    </tr>\n    <tr>\n      <th>3</th>\n      <td>8</td>\n      <td>0</td>\n    </tr>\n    <tr>\n      <th>4</th>\n      <td>9</td>\n      <td>7700</td>\n    </tr>\n  </tbody>\n</table>\n</div>"
     },
     "execution_count": 22,
     "metadata": {},
     "output_type": "execute_result"
    }
   ],
   "source": [
    "df = employees[['employee_id','bonus']].sort_values('employee_id')\n",
    "df"
   ],
   "metadata": {
    "collapsed": false,
    "ExecuteTime": {
     "end_time": "2023-08-22T10:55:31.875109500Z",
     "start_time": "2023-08-22T10:55:31.852171600Z"
    }
   },
   "id": "918558d41bfed5da"
  },
  {
   "cell_type": "code",
   "execution_count": null,
   "outputs": [],
   "source": [],
   "metadata": {
    "collapsed": false
   },
   "id": "9ff8dfe6b4b24c66"
  }
 ],
 "metadata": {
  "kernelspec": {
   "name": "data_analysis_project",
   "language": "python",
   "display_name": "data_analysis_project"
  },
  "language_info": {
   "codemirror_mode": {
    "name": "ipython",
    "version": 2
   },
   "file_extension": ".py",
   "mimetype": "text/x-python",
   "name": "python",
   "nbconvert_exporter": "python",
   "pygments_lexer": "ipython2",
   "version": "2.7.6"
  }
 },
 "nbformat": 4,
 "nbformat_minor": 5
}
